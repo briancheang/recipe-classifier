{
 "cells": [
  {
   "cell_type": "code",
   "execution_count": 1,
   "metadata": {},
   "outputs": [],
   "source": [
    "import pandas as pd\n",
    "from sklearn.feature_extraction.text import CountVectorizer\n",
    "df = pd.read_json('../../data/train/trainText-75-25-bow.json', lines=True)"
   ]
  },
  {
   "cell_type": "code",
   "execution_count": 2,
   "metadata": {},
   "outputs": [
    {
     "data": {
      "text/html": [
       "<div>\n",
       "<style scoped>\n",
       "    .dataframe tbody tr th:only-of-type {\n",
       "        vertical-align: middle;\n",
       "    }\n",
       "\n",
       "    .dataframe tbody tr th {\n",
       "        vertical-align: top;\n",
       "    }\n",
       "\n",
       "    .dataframe thead th {\n",
       "        text-align: right;\n",
       "    }\n",
       "</style>\n",
       "<table border=\"1\" class=\"dataframe\">\n",
       "  <thead>\n",
       "    <tr style=\"text-align: right;\">\n",
       "      <th></th>\n",
       "      <th>cuisine</th>\n",
       "      <th>id</th>\n",
       "      <th>ingredients</th>\n",
       "      <th>label</th>\n",
       "      <th>numeric_recipe</th>\n",
       "      <th>recipe</th>\n",
       "    </tr>\n",
       "  </thead>\n",
       "  <tbody>\n",
       "    <tr>\n",
       "      <th>0</th>\n",
       "      <td>greek</td>\n",
       "      <td>10259</td>\n",
       "      <td>[romaine lettuce, black olives, grape tomatoes...</td>\n",
       "      <td>0</td>\n",
       "      <td>romaine lettuce black olives grape tomatoes ga...</td>\n",
       "      <td>romaine lettuce black olives grape tomatoes ga...</td>\n",
       "    </tr>\n",
       "    <tr>\n",
       "      <th>1</th>\n",
       "      <td>greek</td>\n",
       "      <td>34471</td>\n",
       "      <td>[ground pork, finely chopped fresh parsley, on...</td>\n",
       "      <td>0</td>\n",
       "      <td>ground pork finely chopped fresh parsley onion...</td>\n",
       "      <td>ground pork finely chopped fresh parsley onion...</td>\n",
       "    </tr>\n",
       "    <tr>\n",
       "      <th>2</th>\n",
       "      <td>greek</td>\n",
       "      <td>4635</td>\n",
       "      <td>[minced garlic, dried oregano, red wine vinega...</td>\n",
       "      <td>0</td>\n",
       "      <td>minced garlic dried oregano red wine vinegar o...</td>\n",
       "      <td>minced garlic dried oregano red wine vinegar o...</td>\n",
       "    </tr>\n",
       "    <tr>\n",
       "      <th>3</th>\n",
       "      <td>greek</td>\n",
       "      <td>5980</td>\n",
       "      <td>[orange, anise, cinnamon sticks, unflavored ge...</td>\n",
       "      <td>0</td>\n",
       "      <td>orange anise cinnamon sticks unflavored gelati...</td>\n",
       "      <td>orange anise cinnamon sticks unflavored gelati...</td>\n",
       "    </tr>\n",
       "    <tr>\n",
       "      <th>4</th>\n",
       "      <td>greek</td>\n",
       "      <td>18031</td>\n",
       "      <td>[fresh dill, yoghurt, salt, myzithra, large eg...</td>\n",
       "      <td>0</td>\n",
       "      <td>fresh dill yoghurt salt myzithra large eggs ch...</td>\n",
       "      <td>fresh dill yoghurt salt myzithra large eggs ch...</td>\n",
       "    </tr>\n",
       "  </tbody>\n",
       "</table>\n",
       "</div>"
      ],
      "text/plain": [
       "  cuisine     id                                        ingredients  label  \\\n",
       "0   greek  10259  [romaine lettuce, black olives, grape tomatoes...      0   \n",
       "1   greek  34471  [ground pork, finely chopped fresh parsley, on...      0   \n",
       "2   greek   4635  [minced garlic, dried oregano, red wine vinega...      0   \n",
       "3   greek   5980  [orange, anise, cinnamon sticks, unflavored ge...      0   \n",
       "4   greek  18031  [fresh dill, yoghurt, salt, myzithra, large eg...      0   \n",
       "\n",
       "                                      numeric_recipe  \\\n",
       "0  romaine lettuce black olives grape tomatoes ga...   \n",
       "1  ground pork finely chopped fresh parsley onion...   \n",
       "2  minced garlic dried oregano red wine vinegar o...   \n",
       "3  orange anise cinnamon sticks unflavored gelati...   \n",
       "4  fresh dill yoghurt salt myzithra large eggs ch...   \n",
       "\n",
       "                                              recipe  \n",
       "0  romaine lettuce black olives grape tomatoes ga...  \n",
       "1  ground pork finely chopped fresh parsley onion...  \n",
       "2  minced garlic dried oregano red wine vinegar o...  \n",
       "3  orange anise cinnamon sticks unflavored gelati...  \n",
       "4  fresh dill yoghurt salt myzithra large eggs ch...  "
      ]
     },
     "execution_count": 2,
     "metadata": {},
     "output_type": "execute_result"
    }
   ],
   "source": [
    "df.head()"
   ]
  },
  {
   "cell_type": "code",
   "execution_count": 3,
   "metadata": {},
   "outputs": [],
   "source": [
    "recipes = list(df['recipe'])\n",
    "labels = list(df['cuisine'])"
   ]
  },
  {
   "cell_type": "code",
   "execution_count": 9,
   "metadata": {},
   "outputs": [],
   "source": [
    "units = ['cup','cups','lb','oz','tablespoon','tablespoons', 'teaspoon', 'teaspoons', 'clove', 'cloves', 'small', 'large']\n",
    "adjs = ['range', 'extra', 'corned', 'cooked', 'steamed', 'toasted', 'unseasoned','waxy','smoked','skim', 'shredded','seasoned', 'processed', 'peeled', 'organic', 'minced', 'chopped', 'peeled', 'drained', 'cut', 'ground', 'light', 'medium', 'melted', 'firm', 'neutral','lean', 'skinless', 'sliced', 'free', 'fine', 'granulated', 'packed', 'firmly', 'fresh', 'freshly']\n",
    "stopwords = units + adjs + ['style', 'and', 'such', 'as', 'or', 'not', 'into', 'other', 'in', 'to']"
   ]
  },
  {
   "cell_type": "code",
   "execution_count": 10,
   "metadata": {},
   "outputs": [
    {
     "name": "stdout",
     "output_type": "stream",
     "text": [
      "Number of Features: 2058\n"
     ]
    }
   ],
   "source": [
    "vectorizer = CountVectorizer(min_df=0.0001, stop_words = stopwords)\n",
    "vectorizer.fit(recipes)\n",
    "print('Number of Features: %d'%len(vectorizer.get_feature_names()))"
   ]
  },
  {
   "cell_type": "code",
   "execution_count": 11,
   "metadata": {},
   "outputs": [
    {
     "name": "stdout",
     "output_type": "stream",
     "text": [
      "['about', 'above', 'abura', 'achiote', 'acid', 'ackee', 'acorn', 'acting', 'active', 'added', 'adobo', 'adzuki', 'agar', 'agave', 'age', 'aged', 'ahi', 'aioli', 'ajwain', 'aka', 'albacore', 'ale', 'aleppo', 'alfalfa', 'alfredo', 'all', 'allspice', 'almond', 'almondmilk', 'almonds', 'also', 'amaretti', 'amaretto', 'amchur', 'american', 'aminos', 'an', 'anaheim', 'ancho', 'anchovies', 'anchovy', 'andouille', 'anejo', 'angel', 'anglaise', 'angostura', 'anise', 'anjou', 'annatto', 'any', 'aonori', 'apple', 'apples', 'applesauce', 'applewood', 'apricot', 'apricots', 'arbol', 'arborio', 'armagnac', 'arrowroot', 'artichok', 'artichoke', 'artichokes', 'artisan', 'arugula', 'asadero', 'asafetida', 'asafoetida', 'asiago', 'asian', 'asin', 'asparagus', 'assorted', 'at', 'atar', 'atta', 'au', 'aubergine', 'avocado', 'avocados', 'açai', 'babi', 'baby', 'back', 'bacon', 'bagels', 'bags', 'baguette', 'baileys', 'baked', 'baking', 'balance', 'balls', 'balsamic', 'balsamico', 'bamboo', 'banana', 'bananas', 'band', 'bar', 'barbecue', 'barbecued', 'barilla', 'bark', 'barley', 'bars', 'bartlett', 'base', 'basil', 'basilikum', 'basmati', 'bass', 'baton', 'batter', 'bawang', 'bay', 'bbq', 'bean', 'beans', 'beansprouts', 'beaten', 'beaters', 'bechamel', 'beef', 'beefsteak', 'beer', 'beet', 'beets', 'belgian', 'believe', 'bell', 'bells', 'belly', 'ben', 'bengal', 'beni', 'bens', 'berries', 'bertolli', 'best', 'bhindi', 'bianco', 'bibb', 'bicarbonate', 'bird', 'biryani', 'biscuit', 'biscuits', 'bison', 'bisquick', 'bite', 'bits', 'bitter', 'bitters', 'bittersweet', 'black', 'blackberries', 'blackberry', 'blade', 'blanc', 'blanched', 'blanco', 'blend', 'bliss', 'blood', 'blossom', 'blossoms', 'blue', 'blueberries', 'blueberry', 'boar', 'bocconcini', 'boemboe', 'boil', 'boiled', 'boiling', 'bok', 'bomba', 'bone', 'boned', 'boneless', 'bones', 'bonito', 'bonnet', 'borlotti', 'bosc', 'boston', 'bottle', 'bottled', 'bottom', 'bottoms', 'bought', 'bouillon', 'bouquet', 'bourbon', 'bow', 'box', 'bran', 'brand', 'brandy', 'branzino', 'brats', 'bread', 'breadcrumbs', 'breadstick', 'breakfast', 'breast', 'breasts', 'brewed', 'brie', 'brine', 'brioche', 'brisket', 'broad', 'broccoli', 'broccolini', 'broiler', 'broth', 'brown', 'brownie', 'browning', 'brussels', 'bucatini', 'buckwheat', 'buds', 'buffalo', 'bulb', 'bulgur', 'bulk', 'bun', 'bunch', 'bund', 'buns', 'burger', 'burgers', 'burgundy', 'burrata', 'but', 'butt', 'butter', 'buttercream', 'buttermilk', 'butternut', 'butterscotch', 'buttery', 'button', 'by', 'ca', 'cabbage', 'cabernet', 'cacao', 'cachaca', 'cactus', 'caesar', 'cage', 'cajun', 'cake', 'cakes', 'calamansi', 'calamari', 'calamata', 'california', 'calimyrna', 'calorie', 'calvados', 'campanelle', 'campari', 'campbell', 'can', 'canadian', 'candied', 'candlenuts', 'candy', 'cane', 'canela', 'canes', 'canned', 'cannellini', 'canola', 'cans', 'cantaloupe', 'canton', 'capellini', 'caper', 'capers', 'capicola', 'caps', 'capsicum', 'caramel', 'caramels', 'caraway', 'carbonated', 'carcass', 'cardamom', 'cardamon', 'carnaroli', 'carne', 'carnitas', 'carrot', 'carrots', 'cashew', 'cashews', 'casings', 'cassava', 'cassia', 'cassis', 'caster', 'catalina', 'catfish', 'cauliflower', 'cavatappi', 'cavatelli', 'caviar', 'cayenne', 'celery', 'celtic', 'center', 'cereal', 'chaat', 'challa', 'cham', 'chambord', 'champagne', 'champignons', 'chana', 'channa', 'chanterelle', 'chapati', 'char', 'chard', 'chardonnay', 'chat', 'chayotes', 'cheddar', 'chees', 'cheese', 'cheesi', 'chenpi', 'cherries', 'cherry', 'chervil', 'chestnut', 'chestnuts', 'chevre', 'chia', 'chianti', 'chicken', 'chickens', 'chickpea', 'chickpeas', 'chiffonade', 'chihuahua', 'chile', 'chilean', 'chilegarlic', 'chiles', 'chili', 'chilies', 'chilled', 'chilli', 'chillies', 'chinese', 'chinkiang', 'chip', 'chipotle', 'chipotles', 'chips', 'chives', 'chobani', 'chocolate', 'choi', 'cholula', 'chop', 'chops', 'chorizo', 'chow', 'choy', 'chuck', 'chunk', 'chunks', 'chunky', 'chutney', 'chèvre', 'ciabatta', 'cider', 'cilantro', 'cinnamon', 'citric', 'citron', 'citrus', 'clam', 'clams', 'clarified', 'classic', 'classico', 'cleaned', 'clear', 'clementine', 'clementines', 'club', 'cm', 'coarse', 'coarsely', 'cob', 'coca', 'cockles', 'cocktail', 'coco', 'cocoa', 'coconut', 'cod', 'codfish', 'coffee', 'cognac', 'cointreau', 'coke', 'cola', 'colby', 'cold', 'coleslaw', 'collard', 'collards', 'color', 'coloring', 'colouring', 'comfort', 'compote', 'concentrate', 'condensed', 'condiments', 'confectioners', 'confit', 'conimex', 'consomme', 'container', 'convert', 'converted', 'cook', 'cookie', 'cookies', 'cooking', 'cool', 'cored', 'coriander', 'corn', 'cornbread', 'cornflake', 'cornflakes', 'cornflour', 'cornhusks', 'cornichons', 'cornish', 'cornmeal', 'cornstarch', 'cotija', 'cottage', 'country', 'couscous', 'covered', 'crab', 'crabmeat', 'crabs', 'cracked', 'cracker', 'crackers', 'cranberries', 'cranberry', 'crawfish', 'cream', 'creamer', 'creamy', 'crema', 'creme', 'cremini', 'creole', 'crepes', 'crescent', 'cress', 'crimini', 'crisco', 'crisp', 'crisps', 'crispy', 'crock', 'croissants', 'crookneck', 'crosswise', 'crostini', 'croutons', 'crumb', 'crumbled', 'crumbles', 'crumbs', 'crunch', 'crush', 'crushed', 'crust', 'crusts', 'crusty', 'crystal', 'crystallized', 'crème', 'cuban', 'cube', 'cubed', 'cubes', 'cucumber', 'cucumbers', 'cuisine', 'cumin', 'curd', 'curds', 'cured', 'curls', 'curly', 'currant', 'currants', 'curry', 'custard', 'cutlet', 'cutlets', 'cuttlefish', 'daal', 'dag', 'daikon', 'dairy', 'daisy', 'dal', 'dandelion', 'dark', 'dash', 'dashes', 'dashi', 'date', 'dates', 'day', 'de', 'decorating', 'deep', 'delallo', 'deli', 'delicious', 'demerara', 'demi', 'dessert', 'devein', 'deveined', 'dhal', 'di', 'diagonal', 'diagonally', 'diamond', 'diced', 'dijon', 'dill', 'dillweed', 'dinner', 'dip', 'dipping', 'dish', 'distilled', 'ditalini', 'divided', 'dog', 'dogs', 'doritos', 'doubanjiang', 'double', 'dough', 'doughs', 'drain', 'dress', 'dressing', 'dri', 'dried', 'drink', 'drippings', 'drummettes', 'drumsticks', 'dry', 'duck', 'dulce', 'dumpling', 'dumplings', 'dungeness', 'dusting', 'dutch', 'each', 'ear', 'earl', 'edamame', 'edible', 'egg', 'eggland', 'eggnog', 'eggplant', 'eggplants', 'eggs', 'eiermie', 'el', 'elbow', 'elderflower', 'emmenthal', 'empanada', 'enchilada', 'endive', 'ends', 'english', 'enokitake', 'epazote', 'equal', 'erythritol', 'escarole', 'espelette', 'espresso', 'essence', 'european', 'evaporated', 'extract', 'eye', 'eyed', 'fajita', 'farm', 'farmer', 'farms', 'farro', 'fashioned', 'fat', 'fatback', 'fatfree', 'fava', 'fed', 'feet', 'fennel', 'fenugreek', 'fermented', 'feta', 'fettuccine', 'fettucine', 'few', 'fideos', 'field', 'fiesta', 'fig', 'figs', 'file', 'filet', 'filets', 'fillet', 'fillets', 'filling', 'filo', 'finely', 'fines', 'fingerling', 'fingers', 'fire', 'fish', 'fishcake', 'five', 'flaked', 'flakes', 'flank', 'flat', 'flatbread', 'flatbreads', 'flavor', 'flavored', 'flavoring', 'flax', 'flaxseed', 'fleshed', 'fleur', 'flora', 'florets', 'flounder', 'flour', 'flower', 'flowering', 'flowers', 'focaccia', 'foie', 'fontina', 'food', 'foods', 'for', 'forest', 'four', 'frangelico', 'frank', 'franks', 'fraîche', 'freeze', 'french', 'fresca', 'fresco', 'fresno', 'fri', 'fried', 'fries', 'frisee', 'fritos', 'from', 'fronds', 'frosting', 'frozen', 'fruit', 'fruits', 'fry', 'fryer', 'frying', 'fudge', 'fuji', 'full', 'fully', 'fungus', 'furikake', 'fusilli', 'gai', 'gala', 'galanga', 'galangal', 'gallo', 'game', 'gammon', 'ganache', 'garam', 'garbanzo', 'garden', 'gari', 'garl', 'garlic', 'garni', 'garnish', 'gebakken', 'gel', 'gelatin', 'gemelli', 'genoa', 'gerieben', 'germ', 'ghee', 'giant', 'giardiniera', 'giblet', 'gin', 'ginger', 'gingerroot', 'gingersnap', 'ginkgo', 'ginseng', 'glace', 'glass', 'glaze', 'glazed', 'globe', 'gluten', 'glutinous', 'gnocchi', 'goat', 'gobo', 'gochugaru', 'gochujang', 'goji', 'gold', 'golden', 'gomashio', 'good', 'goose', 'gooseberries', 'goreng', 'gorgonzola', 'gouda', 'gourd', 'gourmet', 'goya', 'grade', 'graham', 'grain', 'grained', 'grains', 'gram', 'grams', 'gran', 'grana', 'grand', 'granny', 'granola', 'granules', 'grape', 'grapefruit', 'grapes', 'grapeseed', 'grappa', 'gras', 'grass', 'grassfed', 'grate', 'grated', 'grater', 'grating', 'gravy', 'grease', 'great', 'greek', 'green', 'greens', 'grenadine', 'grey', 'grigio', 'grill', 'grilled', 'grits', 'groundnut', 'grouper', 'gruyere', 'gruyère', 'guacamole', 'guajillo', 'guanciale', 'guava', 'guinness', 'gum', 'gumbo', 'gyoza', 'haas', 'habanero', 'haddock', 'hair', 'half', 'halibut', 'halloumi', 'halved', 'halves', 'ham', 'hamburger', 'hand', 'handful', 'hanger', 'hanout', 'hard', 'haricots', 'harina', 'harissa', 'hash', 'hass', 'hatch', 'havarti', 'hawaiian', 'hazelnut', 'hazelnuts', 'head', 'heads', 'heart', 'hearts', 'heavy', 'heeng', 'heinz', 'heirloom', 'hellmann', 'hemp', 'hen', 'hens', 'herb', 'herbes', 'herbs', 'herdez', 'hidden', 'high', 'himalayan', 'hoagie', 'hock', 'hocks', 'hoisin', 'hokkien', 'holy', 'home', 'homemade', 'homestyl', 'hominy', 'honey', 'honeydew', 'horseradish', 'hot', 'hothouse', 'house', 'hsing', 'hummus', 'hungarian', 'husks', 'ice', 'iceberg', 'icing', 'idaho', 'iedere', 'if', 'imitation', 'imo', 'inch', 'inches', 'indian', 'instant', 'irish', 'iron', 'is', 'it', 'italian', 'jack', 'jackfruit', 'jaggery', 'jalape', 'jalapeno', 'jalapenos', 'jam', 'jamaican', 'japanese', 'jar', 'jarlsberg', 'jasmine', 'jeera', 'jell', 'jelly', 'jerk', 'jicama', 'johnsonville', 'juice', 'julienned', 'jumbo', 'juniper', 'jus', 'kabocha', 'kaffir', 'kahlua', 'kahlúa', 'kaiser', 'kalamata', 'kale', 'kalonji', 'kamaboko', 'karashi', 'karo', 'kasseri', 'kasuri', 'katakuriko', 'kecap', 'keema', 'kefalotyri', 'kelp', 'kernel', 'kernels', 'ketchup', 'ketjap', 'kewpie', 'kewra', 'key', 'kg', 'khoa', 'kidnei', 'kidney', 'kielbasa', 'kikkoman', 'kimchi', 'kind', 'king', 'kirby', 'kirsch', 'kitchen', 'kiwi', 'kleine', 'knife', 'knoblauch', 'knoblauchzehe', 'knorr', 'knudsen', 'kohlrabi', 'kombu', 'konbu', 'konnyaku', 'korean', 'kosher', 'kraft', 'kumquats', 'käse', 'lacinato', 'lady', 'ladyfingers', 'lager', 'lakes', 'lamb', 'lan', 'land', 'lard', 'lardons', 'lasagna', 'lasagne', 'lavender', 'lbs', 'lea', 'leaf', 'leafy', 'leav', 'leaves', 'leche', 'leeks', 'leftover', 'leg', 'legs', 'lemon', 'lemonade', 'lemongrass', 'lemons', 'length', 'lengths', 'lengthwise', 'lentil', 'lentils', 'less', 'lettuc', 'lettuce', 'lightly', 'like', 'lily', 'lima', 'lime', 'limeade', 'limoncello', 'linguine', 'linguini', 'links', 'lipton', 'liqueur', 'liquid', 'liquor', 'lite', 'littleneck', 'liver', 'livers', 'lo', 'loaf', 'loaves', 'lobster', 'loin', 'london', 'long', 'loose', 'loosely', 'lotus', 'louisiana', 'low', 'lower', 'lowfat', 'lowsodium', 'luke', 'lump', 'lumpia', 'lychees', 'macadamia', 'macaroni', 'mace', 'machine', 'mackerel', 'made', 'madeira', 'madras', 'maggi', 'mahi', 'maida', 'maldon', 'malt', 'maltose', 'mam', 'manchego', 'mandarin', 'mango', 'manicotti', 'manioc', 'manis', 'manzanilla', 'maple', 'marcona', 'margarine', 'margarita', 'marin', 'marinade', 'marinara', 'marinated', 'marjoram', 'marmalade', 'marmite', 'marnier', 'marrow', 'marsala', 'marshmallow', 'marshmallows', 'marzano', 'marzipan', 'masa', 'masala', 'mascarpone', 'mashed', 'masoor', 'massaman', 'matcha', 'matchstick', 'matsutake', 'mature', 'matzo', 'mayer', 'mayonaise', 'mayonnais', 'mayonnaise', 'mazola', 'mccormick', 'meal', 'meat', 'meatballs', 'meatloaf', 'medal', 'medjool', 'mein', 'melon', 'mentsuyu', 'merguez', 'meringue', 'merlot', 'merluza', 'mesclun', 'methi', 'mexican', 'mexicana', 'mexicorn', 'meyer', 'mi', 'microgreens', 'mie', 'mignon', 'mild', 'milk', 'millet', 'min', 'mince', 'mincemeat', 'mini', 'miniature', 'minicub', 'mint', 'minute', 'minutes', 'miracle', 'mirin', 'mirlitons', 'miso', 'mission', 'mitsuba', 'mix', 'mixed', 'mizkan', 'mizuna', 'ml', 'mochiko', 'moisture', 'molasses', 'mole', 'monkfish', 'monterey', 'moong', 'more', 'morel', 'morsels', 'mortadella', 'mountain', 'mozzarella', 'mrs', 'msg', 'muenster', 'muffin', 'muffins', 'mulato', 'multigrain', 'mung', 'muscovado', 'mushroom', 'mushrooms', 'mussels', 'mustard', 'mutton', 'naan', 'nacho', 'nam', 'napa', 'nappa', 'natto', 'natural', 'navel', 'navy', 'neck', 'nectar', 'nectarines', 'needed', 'negi', 'neufchâtel', 'new', 'nibs', 'nigella', 'nilla', 'niçoise', 'no', 'noedels', 'noir', 'non', 'nonfat', 'nonstick', 'noodle', 'noodles', 'nopales', 'nori', 'northern', 'note', 'notes', 'nuoc', 'nut', 'nutella', 'nutmeg', 'nutmegs', 'nutritional', 'nuts', 'oat', 'oatmeal', 'oats', 'octopuses', 'oelek', 'of', 'oigatsuo', 'oil', 'okra', 'old', 'olek', 'olie', 'olive', 'olivenöl', 'olives', 'on', 'one', 'onion', 'onions', 'only', 'optional', 'orange', 'oranges', 'orecchiette', 'oregano', 'oreo', 'oriental', 'original', 'originals', 'orzo', 'oscar', 'ounce', 'ounces', 'ouzo', 'oven', 'oxtails', 'oyster', 'oysters', 'pace', 'pack', 'package', 'packages', 'padano', 'paella', 'pak', 'pale', 'palm', 'pan', 'panang', 'pancake', 'pancakes', 'pancetta', 'pandanus', 'paneer', 'panettone', 'panko', 'pao', 'papaya', 'paper', 'pappardelle', 'paprika', 'parboiled', 'parma', 'parmagiano', 'parmesan', 'parmigiana', 'parmigiano', 'parsley', 'parsnips', 'part', 'parts', 'pasilla', 'paso', 'passata', 'passion', 'pasta', 'paste', 'pastry', 'patis', 'patties', 'pea', 'peach', 'peaches', 'peanut', 'peanuts', 'pear', 'pearl', 'pearls', 'pears', 'peas', 'peasant', 'pecan', 'pecans', 'pecorino', 'pectin', 'peel', 'penn', 'penne', 'peperoncini', 'pepitas', 'pepper', 'peppercorn', 'peppercorns', 'pepperidge', 'peppermint', 'pepperoncini', 'pepperoni', 'peppers', 'perciatelli', 'perilla', 'pernod', 'perrins', 'persian', 'pesto', 'petals', 'petite', 'pfeffer', 'philadelphia', 'phyllo', 'picante', 'picholine', 'pickle', 'pickled', 'pickles', 'pickling', 'pico', 'pie', 'piece', 'pieces', 'piecrusts', 'pies', 'pig', 'pigeon', 'pilaf', 'pillsbury', 'piloncillo', 'piment', 'pimento', 'pimenton', 'pimentos', 'pinch', 'pine', 'pineapple', 'pineapples', 'pinenuts', 'pink', 'pinot', 'pinto', 'piquillo', 'pistachio', 'pistachios', 'pita', 'pitas', 'pitted', 'pizza', 'pla', 'plain', 'plantains', 'plum', 'plums', 'plus', 'poblano', 'pockets', 'pods', 'poha', 'polenta', 'pomegranate', 'pomelo', 'pompeian', 'ponzu', 'popcorn', 'popped', 'poppy', 'popsicle', 'porcini', 'pork', 'port', 'portabello', 'porterhouse', 'portobello', 'posole', 'pot', 'potato', 'potatoes', 'poultry', 'pound', 'pounds', 'powder', 'powdered', 'prawn', 'prawns', 'prebaked', 'preferably', 'prego', 'premium', 'prepar', 'prepared', 'preserved', 'preserves', 'pressed', 'progresso', 'promise', 'prosciutto', 'prosecco', 'protein', 'provence', 'provolone', 'prunes', 'pudding', 'puff', 'puffed', 'puffs', 'pulled', 'pulp', 'pumpkin', 'pumpkinseeds', 'pure', 'puree', 'purple', 'purpose', 'purée', 'quail', 'quality', 'quartered', 'quarters', 'queso', 'quick', 'quickcooking', 'quinces', 'quinoa', 'rabbit', 'rabe', 'rack', 'radicchio', 'radish', 'radishes', 'ragu', 'rainbow', 'raising', 'raisins', 'raita', 'rajma', 'ramen', 'ramps', 'ranch', 'rapeseed', 'rapid', 'ras', 'rashers', 'raspberries', 'raspberry', 'ravioli', 'ravva', 'raw', 'ready', 'real', 'recipe', 'red', 'reddi', 'redhot', 'reduced', 'reduction', 'refried', 'refrigerated', 'reggiano', 'regular', 'relish', 'removed', 'rendered', 'reserved', 'rhubarb', 'rib', 'ribs', 'rice', 'rich', 'ricotta', 'riesling', 'rigate', 'rigatoni', 'rind', 'rings', 'rins', 'rinsed', 'rioja', 'ripe', 'ripened', 'rise', 'rising', 'risotto', 'roast', 'roasted', 'roasting', 'rock', 'rocket', 'roe', 'roll', 'rolled', 'rolls', 'roma', 'romain', 'romaine', 'romano', 'room', 'root', 'roots', 'roquefort', 'rose', 'rosemari', 'rosemary', 'rosewater', 'rosé', 'rote', 'rotel', 'rotelle', 'rotini', 'rotisserie', 'roughly', 'round', 'rounds', 'roux', 'rub', 'rubbed', 'ruby', 'rum', 'rump', 'runny', 'russet', 'rustic', 'rutabaga', 'rye', 'sabra', 'safflower', 'saffron', 'sage', 'sake', 'salad', 'salami', 'salata', 'salmon', 'salsa', 'salt', 'salted', 'saltines', 'salz', 'sambal', 'san', 'sanding', 'sandwich', 'sandwiches', 'sansho', 'santo', 'sardines', 'sashimi', 'satsuma', 'sauc', 'sauce', 'sauces', 'sauerkraut', 'sausag', 'sausage', 'sausages', 'sauvignon', 'savory', 'savoy', 'sazon', 'scallion', 'scallions', 'scallops', 'schmaltz', 'schnapps', 'scotch', 'scrub', 'scrubbed', 'sea', 'seafood', 'season', 'seasoning', 'seasons', 'seaweed', 'sec', 'secrets', 'sections', 'see', 'seed', 'seeded', 'seedless', 'seeds', 'segments', 'seitan', 'sel', 'self', 'seltzer', 'semi', 'semisweet', 'semolina', 'separated', 'serrano', 'serve', 'serving', 'sesame', 'shahi', 'shallot', 'shallots', 'shanghai', 'shank', 'shanks', 'shao', 'shaoxing', 'sharp', 'shaved', 'shavings', 'sheep', 'sheets', 'shell', 'shelled', 'shells', 'sherry', 'shichimi', 'shiitake', 'shimeji', 'shirataki', 'shiro', 'shiso', 'shoepeg', 'shoga', 'shoots', 'short', 'shortbread', 'shortening', 'shoulder', 'shoyu', 'shrimp', 'shuck', 'shucked', 'sichuan', 'sicilian', 'side', 'sides', 'silken', 'silver', 'simple', 'single', 'sirloin', 'siu', 'size', 'sized', 'skimmed', 'skin', 'skinned', 'skins', 'skirt', 'slab', 'slaw', 'slice', 'slices', 'slider', 'slivered', 'smashed', 'smith', 'smithfield', 'smoke', 'smooth', 'snails', 'snap', 'snapper', 'snappers', 'snow', 'soaked', 'soaking', 'soba', 'soda', 'sodium', 'sofrito', 'soft', 'soften', 'softened', 'sole', 'solid', 'somen', 'sooji', 'soppressata', 'sorbet', 'sorghum', 'sorrel', 'soup', 'sour', 'sourdough', 'southern', 'southwest', 'soy', 'soya', 'soybean', 'soymilk', 'spaghetti', 'spaghettini', 'spanish', 'spare', 'spareribs', 'sparkling', 'spearmint', 'spears', 'spelt', 'spice', 'spiced', 'spices', 'spicy', 'spike', 'spinach', 'spiral', 'splash', 'splenda', 'split', 'sponge', 'spray', 'spread', 'sprig', 'sprigs', 'spring', 'sprinkles', 'sprite', 'sprouts', 'squash', 'squeezed', 'squid', 'squirt', 'sriracha', 'stalk', 'stalks', 'star', 'starch', 'steak', 'steaks', 'steamer', 'stemmed', 'stems', 'stevia', 'stew', 'stewed', 'stewing', 'stick', 'sticks', 'sticky', 'stilton', 'stir', 'stock', 'stone', 'stonefire', 'store', 'stout', 'straw', 'strawberries', 'strawberry', 'streaky', 'string', 'strip', 'striped', 'strips', 'strong', 'stuffed', 'stuffing', 'sub', 'substitute', 'sucanat', 'suet', 'sugar', 'sugars', 'sultana', 'sum', 'sumac', 'summer', 'sun', 'sundried', 'sunflower', 'superfine', 'sushi', 'swanson', 'sweet', 'sweeten', 'sweetened', 'sweetener', 'swerve', 'swiss', 'swordfish', 'syrup', 'szechuan', 'szechwan', 'tabasco', 'table', 'taco', 'tagliatelle', 'tahini', 'tails', 'tamari', 'tamarind', 'tandoori', 'tangerine', 'tangzhong', 'tapenade', 'tapioca', 'taro', 'tarragon', 'tart', 'tartar', 'tasso', 'taste', 'tater', 'tawny', 'tbs', 'tbsp', 'tea', 'teas', 'tempeh', 'temperature', 'tenderizer', 'tenderloin', 'tenderloins', 'tenders', 'tentacles', 'tequila', 'teriyaki', 'texas', 'thai', 'than', 'thaw', 'thawed', 'the', 'then', 'thick', 'thigh', 'thighs', 'thin', 'thinly', 'threads', 'thyme', 'tie', 'tiger', 'tilapia', 'tip', 'tipo', 'tips', 'tl', 'toast', 'tobiko', 'toffee', 'tofu', 'togarashi', 'tokyo', 'tom', 'tomate', 'tomatillo', 'tomatillos', 'tomato', 'tomatoes', 'ton', 'tongue', 'tonkatsu', 'toor', 'top', 'topping', 'toppings', 'tops', 'torn', 'tortellini', 'tortilla', 'tortillas', 'tostada', 'tostadas', 'total', 'tots', 'touch', 'tough', 'traditional', 'treacle', 'tri', 'trimmed', 'tripe', 'triple', 'trout', 'truffle', 'truffles', 'truvía', 'tsp', 'tsuyu', 'tubetti', 'tumeric', 'tuna', 'turbinado', 'turkei', 'turkey', 'turkish', 'turmeric', 'turnip', 'turnips', 'tuscan', 'tuttorosso', 'twists', 'tzatziki', 'udon', 'uitjes', 'ulek', 'ume', 'umeboshi', 'unagi', 'unbaked', 'unbleached', 'uncle', 'uncook', 'uncooked', 'und', 'undrain', 'unflavored', 'unsalted', 'unsweetened', 'up', 'urad', 'use', 'used', 'valley', 'vanilla', 'varnish', 'vay', 'veal', 'vegan', 'veget', 'vegetable', 'vegetables', 'vegetarian', 'veggie', 'veggies', 'velveeta', 'venison', 'verde', 'vermicelli', 'vermouth', 'verts', 'very', 'vidalia', 'vietnamese', 'vin', 'vinaigrette', 'vine', 'vinegar', 'virgin', 'virginia', 'vital', 'vloeibaar', 'vodka', 'voor', 'wafer', 'wafers', 'waffle', 'wakame', 'walnut', 'walnuts', 'want', 'warm', 'wasabi', 'wash', 'washed', 'water', 'watercress', 'watermelon', 'wax', 'wedge', 'wedges', 'weed', 'well', 'wesson', 'wheat', 'wheels', 'whey', 'whip', 'whipped', 'whipping', 'whiskey', 'white', 'whitefish', 'whites', 'whole', 'wholemeal', 'wide', 'wild', 'wine', 'wing', 'wingettes', 'wings', 'winter', 'wip', 'wish', 'with', 'wok', 'woksaus', 'won', 'wonton', 'wood', 'worcestershire', 'world', 'wrappers', 'wraps', 'xanthan', 'xing', 'yakisoba', 'yam', 'yams', 'yardlong', 'yeast', 'yellow', 'yoghurt', 'yogurt', 'yolk', 'yolks', 'yoplait', 'york', 'you', 'young', 'your', 'yukon', 'yum', 'yuzu', 'yuzukosho', 'za', 'zehe', 'zest', 'zesty', 'zinfandel', 'ziti', 'zitronensaft', 'zucchini', 'zucker', 'zwiebel', 'öl']\n"
     ]
    }
   ],
   "source": [
    "print(vectorizer.get_feature_names())"
   ]
  },
  {
   "cell_type": "code",
   "execution_count": 12,
   "metadata": {},
   "outputs": [],
   "source": [
    "X_train = vectorizer.transform(recipes).toarray()\n",
    "Y_train = labels"
   ]
  },
  {
   "cell_type": "code",
   "execution_count": 13,
   "metadata": {},
   "outputs": [
    {
     "data": {
      "text/plain": [
       "BernoulliNB(alpha=1.0, binarize=0.0, class_prior=None, fit_prior=True)"
      ]
     },
     "execution_count": 13,
     "metadata": {},
     "output_type": "execute_result"
    }
   ],
   "source": [
    "from sklearn.naive_bayes import BernoulliNB\n",
    "clf = BernoulliNB()\n",
    "clf.fit(X_train, Y_train)"
   ]
  },
  {
   "cell_type": "code",
   "execution_count": 22,
   "metadata": {},
   "outputs": [
    {
     "name": "stdout",
     "output_type": "stream",
     "text": [
      "What is your recipe? \n",
      "> white mushrooms\n",
      "\n",
      "Identified Ingredients: \n",
      "> [array(['mushrooms', 'white'], dtype='<U14')]\n",
      "\n",
      "Predicted Cuisine Type: \n",
      "> french\n",
      "\n",
      "====================================\n",
      "What is your recipe? \n",
      "> caviar\n",
      "\n",
      "Identified Ingredients: \n",
      "> [array(['caviar'], dtype='<U14')]\n",
      "\n",
      "Predicted Cuisine Type: \n",
      "> french\n",
      "\n",
      "====================================\n",
      "What is your recipe? \n",
      "> chicken wings\n",
      "\n",
      "Identified Ingredients: \n",
      "> [array(['chicken', 'wings'], dtype='<U14')]\n",
      "\n",
      "Predicted Cuisine Type: \n",
      "> japanese\n",
      "\n",
      "====================================\n",
      "What is your recipe? \n",
      "> soy sauce\n",
      "\n",
      "Identified Ingredients: \n",
      "> [array(['sauce', 'soy'], dtype='<U14')]\n",
      "\n",
      "Predicted Cuisine Type: \n",
      "> japanese\n",
      "\n",
      "====================================\n",
      "What is your recipe? \n",
      "> soy\n",
      "\n",
      "Identified Ingredients: \n",
      "> [array(['soy'], dtype='<U14')]\n",
      "\n",
      "Predicted Cuisine Type: \n",
      "> japanese\n",
      "\n",
      "====================================\n",
      "What is your recipe? \n",
      "> sauce\n",
      "\n",
      "Identified Ingredients: \n",
      "> [array(['sauce'], dtype='<U14')]\n",
      "\n",
      "Predicted Cuisine Type: \n",
      "> japanese\n",
      "\n",
      "====================================\n",
      "What is your recipe? \n",
      "> tomato sauce\n",
      "\n",
      "Identified Ingredients: \n",
      "> [array(['sauce', 'tomato'], dtype='<U14')]\n",
      "\n",
      "Predicted Cuisine Type: \n",
      "> japanese\n",
      "\n",
      "====================================\n",
      "What is your recipe? \n",
      "> tomato\n",
      "\n",
      "Identified Ingredients: \n",
      "> [array(['tomato'], dtype='<U14')]\n",
      "\n",
      "Predicted Cuisine Type: \n",
      "> french\n",
      "\n",
      "====================================\n",
      "What is your recipe? \n",
      "> quit\n"
     ]
    }
   ],
   "source": [
    "input_recipe = input(\"What is your recipe? \\n> \")\n",
    "while input_recipe != 'quit':\n",
    "    input_recipe = input_recipe.lower()\n",
    "    X_input = vectorizer.transform([input_recipe]).toarray()\n",
    "    prediction = clf.predict(X_input)[0]\n",
    "    \n",
    "    print('\\nIdentified Ingredients: \\n> %s'%vectorizer.inverse_transform(X_input))\n",
    "    \n",
    "    print('\\nPredicted Cuisine Type: \\n> %s'%prediction)\n",
    "    print('\\n====================================')\n",
    "    \n",
    "    input_recipe = input(\"What is your recipe? \\n> \")"
   ]
  },
  {
   "cell_type": "code",
   "execution_count": 15,
   "metadata": {},
   "outputs": [],
   "source": [
    "from sklearn.pipeline import Pipeline\n",
    "NB_model = Pipeline([('vectorizer', vectorizer),('NB', clf)])"
   ]
  },
  {
   "cell_type": "code",
   "execution_count": 16,
   "metadata": {},
   "outputs": [],
   "source": [
    "import pickle\n",
    "filename = 'NB_model_bow_v1.sav'\n",
    "pickle.dump(NB_model, open(filename,'wb'))"
   ]
  },
  {
   "cell_type": "code",
   "execution_count": 21,
   "metadata": {},
   "outputs": [
    {
     "data": {
      "text/plain": [
       "array(['japanese', 'italian'], dtype='<U12')"
      ]
     },
     "execution_count": 21,
     "metadata": {},
     "output_type": "execute_result"
    }
   ],
   "source": [
    "NB_model.predict(list(['salmon rice', 'cheese pepperoni mushrooms']))"
   ]
  },
  {
   "cell_type": "code",
   "execution_count": null,
   "metadata": {},
   "outputs": [],
   "source": []
  }
 ],
 "metadata": {
  "kernelspec": {
   "display_name": "Python 3",
   "language": "python",
   "name": "python3"
  },
  "language_info": {
   "codemirror_mode": {
    "name": "ipython",
    "version": 3
   },
   "file_extension": ".py",
   "mimetype": "text/x-python",
   "name": "python",
   "nbconvert_exporter": "python",
   "pygments_lexer": "ipython3",
   "version": "3.6.5"
  }
 },
 "nbformat": 4,
 "nbformat_minor": 2
}
