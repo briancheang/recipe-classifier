{
 "cells": [
  {
   "cell_type": "code",
   "execution_count": 1,
   "metadata": {},
   "outputs": [],
   "source": [
    "import pandas as pd\n",
    "df = pd.read_json('../../data/train/trainText-75-25.json', lines=True)"
   ]
  },
  {
   "cell_type": "code",
   "execution_count": 2,
   "metadata": {},
   "outputs": [
    {
     "data": {
      "text/plain": [
       "italian         12929\n",
       "mexican         10798\n",
       "chinese          9881\n",
       "french           6614\n",
       "indian           6354\n",
       "thai             5115\n",
       "japanese         4670\n",
       "greek            4629\n",
       "spanish          3752\n",
       "southern_us      3240\n",
       "cajun_creole     1159\n",
       "korean            622\n",
       "vietnamese        618\n",
       "moroccan          615\n",
       "british           603\n",
       "filipino          566\n",
       "irish             500\n",
       "jamaican          394\n",
       "russian           366\n",
       "brazilian         350\n",
       "Name: cuisine, dtype: int64"
      ]
     },
     "execution_count": 2,
     "metadata": {},
     "output_type": "execute_result"
    }
   ],
   "source": [
    "df['cuisine'].value_counts()"
   ]
  },
  {
   "cell_type": "code",
   "execution_count": 3,
   "metadata": {},
   "outputs": [],
   "source": [
    "import random\n",
    "def predict(s, counts):\n",
    "    i = random.randint(0,sum(counts))\n",
    "    curr = 0\n",
    "    for cuisine in counts.keys():\n",
    "        curr += counts[cuisine]\n",
    "        if curr >= i:\n",
    "            return cuisine"
   ]
  },
  {
   "cell_type": "code",
   "execution_count": 4,
   "metadata": {},
   "outputs": [
    {
     "data": {
      "text/plain": [
       "u'korean'"
      ]
     },
     "execution_count": 4,
     "metadata": {},
     "output_type": "execute_result"
    }
   ],
   "source": [
    "predict('salmon rice', df['cuisine'].value_counts())"
   ]
  },
  {
   "cell_type": "code",
   "execution_count": 23,
   "metadata": {},
   "outputs": [],
   "source": [
    "class Baseline:\n",
    "  def __init__(self, counts):\n",
    "    self.counts = counts\n",
    "  def predict(self, recipes):\n",
    "    outputs = []\n",
    "    for r in recipes:\n",
    "        counts = self.counts\n",
    "        i = random.randint(0,sum(counts))\n",
    "        curr = 0\n",
    "        for cuisine in counts.keys():\n",
    "            curr += counts[cuisine]\n",
    "            if curr >= i:\n",
    "                outputs.append(cuisine)\n",
    "                break\n",
    "    return outputs"
   ]
  },
  {
   "cell_type": "code",
   "execution_count": 29,
   "metadata": {},
   "outputs": [],
   "source": [
    "class Baseline2:\n",
    "  def __init__(self):\n",
    "    pass\n",
    "  def predict(self, recipes):\n",
    "    outputs = []\n",
    "    for r in recipes:\n",
    "        outputs.append('italian')\n",
    "    return outputs"
   ]
  },
  {
   "cell_type": "code",
   "execution_count": 30,
   "metadata": {},
   "outputs": [],
   "source": [
    "baseline = Baseline(df['cuisine'].value_counts())\n",
    "baseline2 = Baseline2()"
   ]
  },
  {
   "cell_type": "code",
   "execution_count": 31,
   "metadata": {},
   "outputs": [],
   "source": [
    "import pickle\n",
    "pickle.dump(baseline, open('Baseline_model.sav', 'w'))\n",
    "Baseline_model = pickle.load(open('Baseline_model.sav','rb'))"
   ]
  },
  {
   "cell_type": "code",
   "execution_count": 32,
   "metadata": {},
   "outputs": [],
   "source": [
    "pickle.dump(baseline2, open('Baseline_model2.sav', 'w'))\n",
    "Baseline_model2 = pickle.load(open('Baseline_model2.sav','rb'))"
   ]
  },
  {
   "cell_type": "code",
   "execution_count": 33,
   "metadata": {},
   "outputs": [
    {
     "data": {
      "text/plain": [
       "['italian', 'italian']"
      ]
     },
     "execution_count": 33,
     "metadata": {},
     "output_type": "execute_result"
    }
   ],
   "source": [
    "Baseline_model2.predict(['salmon', 'rice '])"
   ]
  },
  {
   "cell_type": "code",
   "execution_count": null,
   "metadata": {},
   "outputs": [],
   "source": []
  }
 ],
 "metadata": {
  "kernelspec": {
   "display_name": "Python 2",
   "language": "python",
   "name": "python2"
  },
  "language_info": {
   "codemirror_mode": {
    "name": "ipython",
    "version": 2
   },
   "file_extension": ".py",
   "mimetype": "text/x-python",
   "name": "python",
   "nbconvert_exporter": "python",
   "pygments_lexer": "ipython2",
   "version": "2.7.16"
  }
 },
 "nbformat": 4,
 "nbformat_minor": 2
}
