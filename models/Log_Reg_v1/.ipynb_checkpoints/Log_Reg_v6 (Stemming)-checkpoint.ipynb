{
 "cells": [
  {
   "cell_type": "code",
   "execution_count": 68,
   "metadata": {},
   "outputs": [],
   "source": [
    "import pandas as pd\n",
    "from sklearn.feature_extraction.text import CountVectorizer\n",
    "train_df = pd.read_json('../../data/train/trainText-75-25-bow.json', lines=True)"
   ]
  },
  {
   "cell_type": "code",
   "execution_count": 69,
   "metadata": {},
   "outputs": [],
   "source": [
    "test_df = pd.read_json('../../data/test/testText-75-25-bow.json', lines=True)"
   ]
  },
  {
   "cell_type": "code",
   "execution_count": 70,
   "metadata": {},
   "outputs": [
    {
     "data": {
      "text/html": [
       "<div>\n",
       "<style scoped>\n",
       "    .dataframe tbody tr th:only-of-type {\n",
       "        vertical-align: middle;\n",
       "    }\n",
       "\n",
       "    .dataframe tbody tr th {\n",
       "        vertical-align: top;\n",
       "    }\n",
       "\n",
       "    .dataframe thead th {\n",
       "        text-align: right;\n",
       "    }\n",
       "</style>\n",
       "<table border=\"1\" class=\"dataframe\">\n",
       "  <thead>\n",
       "    <tr style=\"text-align: right;\">\n",
       "      <th></th>\n",
       "      <th>cuisine</th>\n",
       "      <th>id</th>\n",
       "      <th>ingredients</th>\n",
       "      <th>label</th>\n",
       "      <th>numeric_recipe</th>\n",
       "      <th>recipe</th>\n",
       "    </tr>\n",
       "  </thead>\n",
       "  <tbody>\n",
       "    <tr>\n",
       "      <th>0</th>\n",
       "      <td>greek</td>\n",
       "      <td>10259</td>\n",
       "      <td>[romaine lettuce, black olives, grape tomatoes...</td>\n",
       "      <td>0</td>\n",
       "      <td>romaine lettuce black olives grape tomatoes ga...</td>\n",
       "      <td>romaine lettuce black olives grape tomatoes ga...</td>\n",
       "    </tr>\n",
       "    <tr>\n",
       "      <th>1</th>\n",
       "      <td>greek</td>\n",
       "      <td>34471</td>\n",
       "      <td>[ground pork, finely chopped fresh parsley, on...</td>\n",
       "      <td>0</td>\n",
       "      <td>ground pork finely chopped fresh parsley onion...</td>\n",
       "      <td>ground pork finely chopped fresh parsley onion...</td>\n",
       "    </tr>\n",
       "    <tr>\n",
       "      <th>2</th>\n",
       "      <td>greek</td>\n",
       "      <td>4635</td>\n",
       "      <td>[minced garlic, dried oregano, red wine vinega...</td>\n",
       "      <td>0</td>\n",
       "      <td>minced garlic dried oregano red wine vinegar o...</td>\n",
       "      <td>minced garlic dried oregano red wine vinegar o...</td>\n",
       "    </tr>\n",
       "    <tr>\n",
       "      <th>3</th>\n",
       "      <td>greek</td>\n",
       "      <td>5980</td>\n",
       "      <td>[orange, anise, cinnamon sticks, unflavored ge...</td>\n",
       "      <td>0</td>\n",
       "      <td>orange anise cinnamon sticks unflavored gelati...</td>\n",
       "      <td>orange anise cinnamon sticks unflavored gelati...</td>\n",
       "    </tr>\n",
       "    <tr>\n",
       "      <th>4</th>\n",
       "      <td>greek</td>\n",
       "      <td>18031</td>\n",
       "      <td>[fresh dill, yoghurt, salt, myzithra, large eg...</td>\n",
       "      <td>0</td>\n",
       "      <td>fresh dill yoghurt salt myzithra large eggs ch...</td>\n",
       "      <td>fresh dill yoghurt salt myzithra large eggs ch...</td>\n",
       "    </tr>\n",
       "  </tbody>\n",
       "</table>\n",
       "</div>"
      ],
      "text/plain": [
       "  cuisine     id                                        ingredients  label  \\\n",
       "0   greek  10259  [romaine lettuce, black olives, grape tomatoes...      0   \n",
       "1   greek  34471  [ground pork, finely chopped fresh parsley, on...      0   \n",
       "2   greek   4635  [minced garlic, dried oregano, red wine vinega...      0   \n",
       "3   greek   5980  [orange, anise, cinnamon sticks, unflavored ge...      0   \n",
       "4   greek  18031  [fresh dill, yoghurt, salt, myzithra, large eg...      0   \n",
       "\n",
       "                                      numeric_recipe  \\\n",
       "0  romaine lettuce black olives grape tomatoes ga...   \n",
       "1  ground pork finely chopped fresh parsley onion...   \n",
       "2  minced garlic dried oregano red wine vinegar o...   \n",
       "3  orange anise cinnamon sticks unflavored gelati...   \n",
       "4  fresh dill yoghurt salt myzithra large eggs ch...   \n",
       "\n",
       "                                              recipe  \n",
       "0  romaine lettuce black olives grape tomatoes ga...  \n",
       "1  ground pork finely chopped fresh parsley onion...  \n",
       "2  minced garlic dried oregano red wine vinegar o...  \n",
       "3  orange anise cinnamon sticks unflavored gelati...  \n",
       "4  fresh dill yoghurt salt myzithra large eggs ch...  "
      ]
     },
     "execution_count": 70,
     "metadata": {},
     "output_type": "execute_result"
    }
   ],
   "source": [
    "train_df.head()"
   ]
  },
  {
   "cell_type": "code",
   "execution_count": 71,
   "metadata": {},
   "outputs": [],
   "source": [
    "from nltk.stem.snowball import SnowballStemmer\n",
    "stemmer = SnowballStemmer('english')\n",
    "def stem(text):\n",
    "    return ' '.join([stemmer.stem(word) for word in text.split(' ')])"
   ]
  },
  {
   "cell_type": "code",
   "execution_count": 72,
   "metadata": {},
   "outputs": [],
   "source": [
    "file = open(\"stopwords.txt\", \"r\")\n",
    "stopwords = file.read().lower().split('\\n')\n",
    "def remove_stopwords(text):\n",
    "    filtered = \"\"\n",
    "    for word in text.split(' '):\n",
    "        if not word in stopwords:\n",
    "            filtered = filtered + ' ' + word\n",
    "    return filtered"
   ]
  },
  {
   "cell_type": "code",
   "execution_count": 73,
   "metadata": {},
   "outputs": [],
   "source": [
    "train_df['recipe'] = train_df['recipe'].apply(remove_stopwords)\n",
    "train_df['recipe'] = train_df['recipe'].apply(stem)"
   ]
  },
  {
   "cell_type": "code",
   "execution_count": 74,
   "metadata": {},
   "outputs": [
    {
     "data": {
      "text/html": [
       "<div>\n",
       "<style scoped>\n",
       "    .dataframe tbody tr th:only-of-type {\n",
       "        vertical-align: middle;\n",
       "    }\n",
       "\n",
       "    .dataframe tbody tr th {\n",
       "        vertical-align: top;\n",
       "    }\n",
       "\n",
       "    .dataframe thead th {\n",
       "        text-align: right;\n",
       "    }\n",
       "</style>\n",
       "<table border=\"1\" class=\"dataframe\">\n",
       "  <thead>\n",
       "    <tr style=\"text-align: right;\">\n",
       "      <th></th>\n",
       "      <th>cuisine</th>\n",
       "      <th>id</th>\n",
       "      <th>ingredients</th>\n",
       "      <th>label</th>\n",
       "      <th>numeric_recipe</th>\n",
       "      <th>recipe</th>\n",
       "    </tr>\n",
       "  </thead>\n",
       "  <tbody>\n",
       "    <tr>\n",
       "      <th>0</th>\n",
       "      <td>greek</td>\n",
       "      <td>10259</td>\n",
       "      <td>[romaine lettuce, black olives, grape tomatoes...</td>\n",
       "      <td>0</td>\n",
       "      <td>romaine lettuce black olives grape tomatoes ga...</td>\n",
       "      <td>r o m a i n e   l e t t u c e   b l a c k   o...</td>\n",
       "    </tr>\n",
       "    <tr>\n",
       "      <th>1</th>\n",
       "      <td>greek</td>\n",
       "      <td>34471</td>\n",
       "      <td>[ground pork, finely chopped fresh parsley, on...</td>\n",
       "      <td>0</td>\n",
       "      <td>ground pork finely chopped fresh parsley onion...</td>\n",
       "      <td>g r o u n d   p o r k   f i n e l y   c h o p...</td>\n",
       "    </tr>\n",
       "    <tr>\n",
       "      <th>2</th>\n",
       "      <td>greek</td>\n",
       "      <td>4635</td>\n",
       "      <td>[minced garlic, dried oregano, red wine vinega...</td>\n",
       "      <td>0</td>\n",
       "      <td>minced garlic dried oregano red wine vinegar o...</td>\n",
       "      <td>m i n c e d   g a r l i c   d r i e d   o r e...</td>\n",
       "    </tr>\n",
       "    <tr>\n",
       "      <th>3</th>\n",
       "      <td>greek</td>\n",
       "      <td>5980</td>\n",
       "      <td>[orange, anise, cinnamon sticks, unflavored ge...</td>\n",
       "      <td>0</td>\n",
       "      <td>orange anise cinnamon sticks unflavored gelati...</td>\n",
       "      <td>o r a n g e   a n i s e   c i n n a m o n   s...</td>\n",
       "    </tr>\n",
       "    <tr>\n",
       "      <th>4</th>\n",
       "      <td>greek</td>\n",
       "      <td>18031</td>\n",
       "      <td>[fresh dill, yoghurt, salt, myzithra, large eg...</td>\n",
       "      <td>0</td>\n",
       "      <td>fresh dill yoghurt salt myzithra large eggs ch...</td>\n",
       "      <td>f r e s h   d i l l   y o g h u r t   s a l t...</td>\n",
       "    </tr>\n",
       "  </tbody>\n",
       "</table>\n",
       "</div>"
      ],
      "text/plain": [
       "  cuisine     id                                        ingredients  label  \\\n",
       "0   greek  10259  [romaine lettuce, black olives, grape tomatoes...      0   \n",
       "1   greek  34471  [ground pork, finely chopped fresh parsley, on...      0   \n",
       "2   greek   4635  [minced garlic, dried oregano, red wine vinega...      0   \n",
       "3   greek   5980  [orange, anise, cinnamon sticks, unflavored ge...      0   \n",
       "4   greek  18031  [fresh dill, yoghurt, salt, myzithra, large eg...      0   \n",
       "\n",
       "                                      numeric_recipe  \\\n",
       "0  romaine lettuce black olives grape tomatoes ga...   \n",
       "1  ground pork finely chopped fresh parsley onion...   \n",
       "2  minced garlic dried oregano red wine vinegar o...   \n",
       "3  orange anise cinnamon sticks unflavored gelati...   \n",
       "4  fresh dill yoghurt salt myzithra large eggs ch...   \n",
       "\n",
       "                                              recipe  \n",
       "0   r o m a i n e   l e t t u c e   b l a c k   o...  \n",
       "1   g r o u n d   p o r k   f i n e l y   c h o p...  \n",
       "2   m i n c e d   g a r l i c   d r i e d   o r e...  \n",
       "3   o r a n g e   a n i s e   c i n n a m o n   s...  \n",
       "4   f r e s h   d i l l   y o g h u r t   s a l t...  "
      ]
     },
     "execution_count": 74,
     "metadata": {},
     "output_type": "execute_result"
    }
   ],
   "source": [
    "train_df.head()"
   ]
  },
  {
   "cell_type": "code",
   "execution_count": 75,
   "metadata": {},
   "outputs": [],
   "source": [
    "test_df['recipe'] = test_df['recipe'].apply(remove_stopwords)\n",
    "test_df['recipe'] = test_df['recipe'].apply(stem)"
   ]
  },
  {
   "cell_type": "code",
   "execution_count": 76,
   "metadata": {},
   "outputs": [],
   "source": [
    "recipes = list(train_df['recipe'])\n",
    "labels = list(train_df['cuisine'])"
   ]
  },
  {
   "cell_type": "code",
   "execution_count": 77,
   "metadata": {},
   "outputs": [],
   "source": [
    "X_test = list(test_df['recipe'])\n",
    "y_test = list(test_df['cuisine'])"
   ]
  },
  {
   "cell_type": "code",
   "execution_count": 78,
   "metadata": {},
   "outputs": [
    {
     "ename": "ValueError",
     "evalue": "empty vocabulary; perhaps the documents only contain stop words",
     "output_type": "error",
     "traceback": [
      "\u001b[0;31m---------------------------------------------------------------------------\u001b[0m",
      "\u001b[0;31mValueError\u001b[0m                                Traceback (most recent call last)",
      "\u001b[0;32m<ipython-input-78-689b47f9f695>\u001b[0m in \u001b[0;36m<module>\u001b[0;34m()\u001b[0m\n\u001b[1;32m      1\u001b[0m \u001b[0mvectorizer\u001b[0m \u001b[0;34m=\u001b[0m \u001b[0mCountVectorizer\u001b[0m\u001b[0;34m(\u001b[0m\u001b[0mngram_range\u001b[0m\u001b[0;34m=\u001b[0m\u001b[0;34m(\u001b[0m\u001b[0;36m1\u001b[0m\u001b[0;34m,\u001b[0m\u001b[0;36m2\u001b[0m\u001b[0;34m)\u001b[0m\u001b[0;34m,\u001b[0m \u001b[0mmin_df\u001b[0m\u001b[0;34m=\u001b[0m\u001b[0;36m0.0005\u001b[0m\u001b[0;34m,\u001b[0m \u001b[0mstop_words\u001b[0m\u001b[0;34m=\u001b[0m\u001b[0mstopwords\u001b[0m\u001b[0;34m,\u001b[0m \u001b[0mbinary\u001b[0m\u001b[0;34m=\u001b[0m\u001b[0;32mTrue\u001b[0m\u001b[0;34m)\u001b[0m\u001b[0;34m\u001b[0m\u001b[0m\n\u001b[0;32m----> 2\u001b[0;31m \u001b[0mvectorizer\u001b[0m\u001b[0;34m.\u001b[0m\u001b[0mfit\u001b[0m\u001b[0;34m(\u001b[0m\u001b[0mrecipes\u001b[0m\u001b[0;34m)\u001b[0m\u001b[0;34m\u001b[0m\u001b[0m\n\u001b[0m\u001b[1;32m      3\u001b[0m \u001b[0mprint\u001b[0m\u001b[0;34m(\u001b[0m\u001b[0;34m'Number of Features: %d'\u001b[0m\u001b[0;34m%\u001b[0m\u001b[0mlen\u001b[0m\u001b[0;34m(\u001b[0m\u001b[0mvectorizer\u001b[0m\u001b[0;34m.\u001b[0m\u001b[0mget_feature_names\u001b[0m\u001b[0;34m(\u001b[0m\u001b[0;34m)\u001b[0m\u001b[0;34m)\u001b[0m\u001b[0;34m)\u001b[0m\u001b[0;34m\u001b[0m\u001b[0m\n",
      "\u001b[0;32m/Applications/anaconda3/lib/python3.6/site-packages/sklearn/feature_extraction/text.py\u001b[0m in \u001b[0;36mfit\u001b[0;34m(self, raw_documents, y)\u001b[0m\n\u001b[1;32m    834\u001b[0m         \u001b[0mself\u001b[0m\u001b[0;34m\u001b[0m\u001b[0m\n\u001b[1;32m    835\u001b[0m         \"\"\"\n\u001b[0;32m--> 836\u001b[0;31m         \u001b[0mself\u001b[0m\u001b[0;34m.\u001b[0m\u001b[0mfit_transform\u001b[0m\u001b[0;34m(\u001b[0m\u001b[0mraw_documents\u001b[0m\u001b[0;34m)\u001b[0m\u001b[0;34m\u001b[0m\u001b[0m\n\u001b[0m\u001b[1;32m    837\u001b[0m         \u001b[0;32mreturn\u001b[0m \u001b[0mself\u001b[0m\u001b[0;34m\u001b[0m\u001b[0m\n\u001b[1;32m    838\u001b[0m \u001b[0;34m\u001b[0m\u001b[0m\n",
      "\u001b[0;32m/Applications/anaconda3/lib/python3.6/site-packages/sklearn/feature_extraction/text.py\u001b[0m in \u001b[0;36mfit_transform\u001b[0;34m(self, raw_documents, y)\u001b[0m\n\u001b[1;32m    867\u001b[0m \u001b[0;34m\u001b[0m\u001b[0m\n\u001b[1;32m    868\u001b[0m         vocabulary, X = self._count_vocab(raw_documents,\n\u001b[0;32m--> 869\u001b[0;31m                                           self.fixed_vocabulary_)\n\u001b[0m\u001b[1;32m    870\u001b[0m \u001b[0;34m\u001b[0m\u001b[0m\n\u001b[1;32m    871\u001b[0m         \u001b[0;32mif\u001b[0m \u001b[0mself\u001b[0m\u001b[0;34m.\u001b[0m\u001b[0mbinary\u001b[0m\u001b[0;34m:\u001b[0m\u001b[0;34m\u001b[0m\u001b[0m\n",
      "\u001b[0;32m/Applications/anaconda3/lib/python3.6/site-packages/sklearn/feature_extraction/text.py\u001b[0m in \u001b[0;36m_count_vocab\u001b[0;34m(self, raw_documents, fixed_vocab)\u001b[0m\n\u001b[1;32m    809\u001b[0m             \u001b[0mvocabulary\u001b[0m \u001b[0;34m=\u001b[0m \u001b[0mdict\u001b[0m\u001b[0;34m(\u001b[0m\u001b[0mvocabulary\u001b[0m\u001b[0;34m)\u001b[0m\u001b[0;34m\u001b[0m\u001b[0m\n\u001b[1;32m    810\u001b[0m             \u001b[0;32mif\u001b[0m \u001b[0;32mnot\u001b[0m \u001b[0mvocabulary\u001b[0m\u001b[0;34m:\u001b[0m\u001b[0;34m\u001b[0m\u001b[0m\n\u001b[0;32m--> 811\u001b[0;31m                 raise ValueError(\"empty vocabulary; perhaps the documents only\"\n\u001b[0m\u001b[1;32m    812\u001b[0m                                  \" contain stop words\")\n\u001b[1;32m    813\u001b[0m \u001b[0;34m\u001b[0m\u001b[0m\n",
      "\u001b[0;31mValueError\u001b[0m: empty vocabulary; perhaps the documents only contain stop words"
     ]
    }
   ],
   "source": [
    "vectorizer = CountVectorizer(ngram_range=(1,2), min_df=0.0005, stop_words=stopwords, binary=True)\n",
    "vectorizer.fit(recipes)\n",
    "print('Number of Features: %d'%len(vectorizer.get_feature_names()))"
   ]
  },
  {
   "cell_type": "code",
   "execution_count": null,
   "metadata": {},
   "outputs": [],
   "source": [
    "vectorizer.get_feature_names()"
   ]
  },
  {
   "cell_type": "code",
   "execution_count": null,
   "metadata": {},
   "outputs": [],
   "source": [
    "#import pickle\n",
    "#filename = 'vectorizer.sav'\n",
    "#pickle.dump(vectorizer, open(filename,'wb'))"
   ]
  },
  {
   "cell_type": "code",
   "execution_count": null,
   "metadata": {},
   "outputs": [],
   "source": [
    "X_train = vectorizer.transform(recipes).toarray()\n",
    "y_train = labels"
   ]
  },
  {
   "cell_type": "code",
   "execution_count": null,
   "metadata": {},
   "outputs": [],
   "source": [
    "from sklearn.linear_model import LogisticRegression\n",
    "clf = LogisticRegression()\n",
    "clf.fit(X_train, y_train)"
   ]
  },
  {
   "cell_type": "code",
   "execution_count": null,
   "metadata": {},
   "outputs": [],
   "source": [
    "from sklearn.pipeline import Pipeline\n",
    "LogReg_model = Pipeline([('vectorizer', vectorizer),('LR', clf)])"
   ]
  },
  {
   "cell_type": "code",
   "execution_count": null,
   "metadata": {},
   "outputs": [],
   "source": [
    "from sklearn import metrics\n",
    "y_pred = LogReg_model.predict(X_test)\n",
    "print(metrics.classification_report(y_test, y_pred))"
   ]
  },
  {
   "cell_type": "code",
   "execution_count": null,
   "metadata": {},
   "outputs": [],
   "source": [
    "X_test[0]"
   ]
  },
  {
   "cell_type": "code",
   "execution_count": 67,
   "metadata": {},
   "outputs": [
    {
     "name": "stdout",
     "output_type": "stream",
     "text": [
      "Input Recipe: \n",
      "> Prepare and cook ingredients as below.  – In a bowl, combine the meat with the marinade. Cover the bowl and leave it in the fridge while you are working on other the ingredients. When ready, Add some cooking oil into a wok and cook the meat on medium high to high heat. It takes about 3 to 5 mins to thoroughly cook it. – Prepare the Korean cucumber side dish, fernbrake side dish and bellflower root side dish per the linked recipes. These can be prepared on a different day to save your bibimbap making time. – Separately sauté carrots, zucchini and mushrooms in a frying pan. Season them lightly with fine sea salt. – Mix the bibimbap sauce ingredients in a small bowl. Set aside. – Pan fry the eggs per your preference. (Sunny side up is a popular choice.)  Preheat an oven for 10 minutes at 220 C / 428 F. Once heated, place your stone bowl into the oven. Leave it there for 10 minutes. 10 minutes later, take it out. Drop in some sesame oil (about 1 Tbsp per medium size bowl) and brush it around. Quickly assemble your bibimbap ingredients inside the hot stone bowl. First you will have to lay down the rice. Make sure you flatten it well. Then add the meat, assorted vegetables, and the egg on top of the rice. Transfer the hot stone bowl onto the gas stove and cook it for 5 minutes over low heat. You will hear the rice crackling noise. Remove from the heat.  Pour the bibimbap sauce into the hot stone bowl and mix all the ingredients well. Serve\n",
      "\n",
      "Identified Ingredients: \n",
      "> [array(['can', 'cook', 'cook oil', 'cucumb', 'egg', 'fine', 'fine sea',\n",
      "       'fri', 'hot', 'in', 'it', 'leav', 'light', 'link', 'meat', 'mix',\n",
      "       'mushroom', 'oil', 'on', 'oven', 'prepar', 'quick', 'rice', 'root',\n",
      "       'salt', 'sauc', 'sea', 'sea salt', 'season', 'serv', 'sesam',\n",
      "       'sesam oil', 'side', 'size', 'tbsp', 'wok', 'zucchini'],\n",
      "      dtype='<U21')]\n",
      "\n",
      "Cuisine Probabilities:\n",
      "> brazilian: 0%\n",
      "> british: 0%\n",
      "> cajun_creole: 0%\n",
      "> chinese: 59%\n",
      "> filipino: 0%\n",
      "> french: 0%\n",
      "> greek: 0%\n",
      "> indian: 0%\n",
      "> irish: 0%\n",
      "> italian: 0%\n",
      "> jamaican: 0%\n",
      "> japanese: 3%\n",
      "> korean: 0%\n",
      "> mexican: 0%\n",
      "> moroccan: 0%\n",
      "> russian: 0%\n",
      "> southern_us: 0%\n",
      "> spanish: 8%\n",
      "> thai: 25%\n",
      "> vietnamese: 0%\n"
     ]
    }
   ],
   "source": [
    "input_recipe = input(\"Input Recipe: \\n> \")\n",
    "input_recipe = stem(input_recipe.lower())\n",
    "X_input = vectorizer.transform([input_recipe]).toarray()\n",
    "prob = clf.predict_proba(X_input)[0]\n",
    "classes = clf.classes_\n",
    "\n",
    "print('\\nIdentified Ingredients: \\n> %s'%vectorizer.inverse_transform(X_input))\n",
    "\n",
    "print('\\nCuisine Probabilities:')\n",
    "for i in range(len(prob)):\n",
    "    print('> %s: %s%%'%(classes[i], int(prob[i]*100)))"
   ]
  },
  {
   "cell_type": "code",
   "execution_count": 119,
   "metadata": {},
   "outputs": [],
   "source": [
    "import pickle\n",
    "filename = 'LogReg_v5.sav'\n",
    "pickle.dump(LogReg_model, open(filename,'wb'))"
   ]
  },
  {
   "cell_type": "code",
   "execution_count": null,
   "metadata": {},
   "outputs": [],
   "source": []
  }
 ],
 "metadata": {
  "kernelspec": {
   "display_name": "Python 3",
   "language": "python",
   "name": "python3"
  },
  "language_info": {
   "codemirror_mode": {
    "name": "ipython",
    "version": 3
   },
   "file_extension": ".py",
   "mimetype": "text/x-python",
   "name": "python",
   "nbconvert_exporter": "python",
   "pygments_lexer": "ipython3",
   "version": "3.6.5"
  }
 },
 "nbformat": 4,
 "nbformat_minor": 2
}
