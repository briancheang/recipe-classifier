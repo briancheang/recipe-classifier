{
 "cells": [
  {
   "cell_type": "code",
   "execution_count": 16,
   "metadata": {},
   "outputs": [],
   "source": [
    "import pandas as pd\n",
    "from sklearn.feature_extraction.text import CountVectorizer\n",
    "df = pd.read_json('../../data/train/trainText-75-25-bow.json', lines=True)"
   ]
  },
  {
   "cell_type": "code",
   "execution_count": 44,
   "metadata": {},
   "outputs": [
    {
     "data": {
      "text/html": [
       "<div>\n",
       "<style scoped>\n",
       "    .dataframe tbody tr th:only-of-type {\n",
       "        vertical-align: middle;\n",
       "    }\n",
       "\n",
       "    .dataframe tbody tr th {\n",
       "        vertical-align: top;\n",
       "    }\n",
       "\n",
       "    .dataframe thead th {\n",
       "        text-align: right;\n",
       "    }\n",
       "</style>\n",
       "<table border=\"1\" class=\"dataframe\">\n",
       "  <thead>\n",
       "    <tr style=\"text-align: right;\">\n",
       "      <th></th>\n",
       "      <th>cuisine</th>\n",
       "      <th>id</th>\n",
       "      <th>ingredients</th>\n",
       "      <th>label</th>\n",
       "      <th>numeric_recipe</th>\n",
       "      <th>recipe</th>\n",
       "    </tr>\n",
       "  </thead>\n",
       "  <tbody>\n",
       "    <tr>\n",
       "      <th>0</th>\n",
       "      <td>greek</td>\n",
       "      <td>Slow-Cooker-Greek-Rice-Recipe-with-Red-Bell-Pe...</td>\n",
       "      <td>[olive oil, Uncle Ben's Original Converted Bra...</td>\n",
       "      <td>0</td>\n",
       "      <td>olive oil Uncle Ben's Original Converted Brand...</td>\n",
       "      <td>olive oil Uncle Ben's Original Converted Brand...</td>\n",
       "    </tr>\n",
       "    <tr>\n",
       "      <th>1</th>\n",
       "      <td>greek</td>\n",
       "      <td>Frozen-Yogurt-1241082</td>\n",
       "      <td>[whole milk greek yogurt, sugar, vanilla extract]</td>\n",
       "      <td>0</td>\n",
       "      <td>whole milk greek yogurt sugar vanilla extract</td>\n",
       "      <td>whole milk greek yogurt sugar vanilla extract</td>\n",
       "    </tr>\n",
       "    <tr>\n",
       "      <th>2</th>\n",
       "      <td>greek</td>\n",
       "      <td>Braised-greek-green-beans-332127</td>\n",
       "      <td>[olive oil, white onion, tomatoes, garlic, sal...</td>\n",
       "      <td>0</td>\n",
       "      <td>olive oil white onion tomatoes garlic salt bla...</td>\n",
       "      <td>olive oil white onion tomatoes garlic salt bla...</td>\n",
       "    </tr>\n",
       "    <tr>\n",
       "      <th>3</th>\n",
       "      <td>greek</td>\n",
       "      <td>Margaret_s-Keftedes-_greek-Meatballs_-Allrecipes</td>\n",
       "      <td>[white bread, milk, garlic, onions, dried mint...</td>\n",
       "      <td>0</td>\n",
       "      <td>white bread milk garlic onions dried mint salt...</td>\n",
       "      <td>white bread milk garlic onions dried mint salt...</td>\n",
       "    </tr>\n",
       "    <tr>\n",
       "      <th>4</th>\n",
       "      <td>greek</td>\n",
       "      <td>Homemade-Caesar-Dressing-_Easy-_-Healthy_-1563691</td>\n",
       "      <td>[nonfat plain greek yogurt, grated parmesan ch...</td>\n",
       "      <td>0</td>\n",
       "      <td>nonfat plain greek yogurt grated parmesan chee...</td>\n",
       "      <td>nonfat plain greek yogurt grated parmesan chee...</td>\n",
       "    </tr>\n",
       "  </tbody>\n",
       "</table>\n",
       "</div>"
      ],
      "text/plain": [
       "  cuisine                                                 id  \\\n",
       "0   greek  Slow-Cooker-Greek-Rice-Recipe-with-Red-Bell-Pe...   \n",
       "1   greek                              Frozen-Yogurt-1241082   \n",
       "2   greek                   Braised-greek-green-beans-332127   \n",
       "3   greek   Margaret_s-Keftedes-_greek-Meatballs_-Allrecipes   \n",
       "4   greek  Homemade-Caesar-Dressing-_Easy-_-Healthy_-1563691   \n",
       "\n",
       "                                         ingredients  label  \\\n",
       "0  [olive oil, Uncle Ben's Original Converted Bra...      0   \n",
       "1  [whole milk greek yogurt, sugar, vanilla extract]      0   \n",
       "2  [olive oil, white onion, tomatoes, garlic, sal...      0   \n",
       "3  [white bread, milk, garlic, onions, dried mint...      0   \n",
       "4  [nonfat plain greek yogurt, grated parmesan ch...      0   \n",
       "\n",
       "                                      numeric_recipe  \\\n",
       "0  olive oil Uncle Ben's Original Converted Brand...   \n",
       "1      whole milk greek yogurt sugar vanilla extract   \n",
       "2  olive oil white onion tomatoes garlic salt bla...   \n",
       "3  white bread milk garlic onions dried mint salt...   \n",
       "4  nonfat plain greek yogurt grated parmesan chee...   \n",
       "\n",
       "                                              recipe  \n",
       "0  olive oil Uncle Ben's Original Converted Brand...  \n",
       "1      whole milk greek yogurt sugar vanilla extract  \n",
       "2  olive oil white onion tomatoes garlic salt bla...  \n",
       "3  white bread milk garlic onions dried mint salt...  \n",
       "4  nonfat plain greek yogurt grated parmesan chee...  "
      ]
     },
     "execution_count": 44,
     "metadata": {},
     "output_type": "execute_result"
    }
   ],
   "source": [
    "test_df_bow = pd.read_json('../../data/test/testText-75-25-bow.json', lines=True)\n"
   ]
  },
  {
   "cell_type": "code",
   "execution_count": null,
   "metadata": {},
   "outputs": [],
   "source": [
    "X_test = list(test_df_bow['recipe'])\n",
    "y_test = list(test_df_bow['cuisine'])"
   ]
  },
  {
   "cell_type": "code",
   "execution_count": 17,
   "metadata": {},
   "outputs": [
    {
     "data": {
      "text/html": [
       "<div>\n",
       "<style scoped>\n",
       "    .dataframe tbody tr th:only-of-type {\n",
       "        vertical-align: middle;\n",
       "    }\n",
       "\n",
       "    .dataframe tbody tr th {\n",
       "        vertical-align: top;\n",
       "    }\n",
       "\n",
       "    .dataframe thead th {\n",
       "        text-align: right;\n",
       "    }\n",
       "</style>\n",
       "<table border=\"1\" class=\"dataframe\">\n",
       "  <thead>\n",
       "    <tr style=\"text-align: right;\">\n",
       "      <th></th>\n",
       "      <th>cuisine</th>\n",
       "      <th>id</th>\n",
       "      <th>ingredients</th>\n",
       "      <th>label</th>\n",
       "      <th>numeric_recipe</th>\n",
       "      <th>recipe</th>\n",
       "    </tr>\n",
       "  </thead>\n",
       "  <tbody>\n",
       "    <tr>\n",
       "      <th>0</th>\n",
       "      <td>greek</td>\n",
       "      <td>10259</td>\n",
       "      <td>[romaine lettuce, black olives, grape tomatoes...</td>\n",
       "      <td>0</td>\n",
       "      <td>romaine lettuce black olives grape tomatoes ga...</td>\n",
       "      <td>romaine lettuce black olives grape tomatoes ga...</td>\n",
       "    </tr>\n",
       "    <tr>\n",
       "      <th>1</th>\n",
       "      <td>greek</td>\n",
       "      <td>34471</td>\n",
       "      <td>[ground pork, finely chopped fresh parsley, on...</td>\n",
       "      <td>0</td>\n",
       "      <td>ground pork finely chopped fresh parsley onion...</td>\n",
       "      <td>ground pork finely chopped fresh parsley onion...</td>\n",
       "    </tr>\n",
       "    <tr>\n",
       "      <th>2</th>\n",
       "      <td>greek</td>\n",
       "      <td>4635</td>\n",
       "      <td>[minced garlic, dried oregano, red wine vinega...</td>\n",
       "      <td>0</td>\n",
       "      <td>minced garlic dried oregano red wine vinegar o...</td>\n",
       "      <td>minced garlic dried oregano red wine vinegar o...</td>\n",
       "    </tr>\n",
       "    <tr>\n",
       "      <th>3</th>\n",
       "      <td>greek</td>\n",
       "      <td>5980</td>\n",
       "      <td>[orange, anise, cinnamon sticks, unflavored ge...</td>\n",
       "      <td>0</td>\n",
       "      <td>orange anise cinnamon sticks unflavored gelati...</td>\n",
       "      <td>orange anise cinnamon sticks unflavored gelati...</td>\n",
       "    </tr>\n",
       "    <tr>\n",
       "      <th>4</th>\n",
       "      <td>greek</td>\n",
       "      <td>18031</td>\n",
       "      <td>[fresh dill, yoghurt, salt, myzithra, large eg...</td>\n",
       "      <td>0</td>\n",
       "      <td>fresh dill yoghurt salt myzithra large eggs ch...</td>\n",
       "      <td>fresh dill yoghurt salt myzithra large eggs ch...</td>\n",
       "    </tr>\n",
       "  </tbody>\n",
       "</table>\n",
       "</div>"
      ],
      "text/plain": [
       "  cuisine     id                                        ingredients  label  \\\n",
       "0   greek  10259  [romaine lettuce, black olives, grape tomatoes...      0   \n",
       "1   greek  34471  [ground pork, finely chopped fresh parsley, on...      0   \n",
       "2   greek   4635  [minced garlic, dried oregano, red wine vinega...      0   \n",
       "3   greek   5980  [orange, anise, cinnamon sticks, unflavored ge...      0   \n",
       "4   greek  18031  [fresh dill, yoghurt, salt, myzithra, large eg...      0   \n",
       "\n",
       "                                      numeric_recipe  \\\n",
       "0  romaine lettuce black olives grape tomatoes ga...   \n",
       "1  ground pork finely chopped fresh parsley onion...   \n",
       "2  minced garlic dried oregano red wine vinegar o...   \n",
       "3  orange anise cinnamon sticks unflavored gelati...   \n",
       "4  fresh dill yoghurt salt myzithra large eggs ch...   \n",
       "\n",
       "                                              recipe  \n",
       "0  romaine lettuce black olives grape tomatoes ga...  \n",
       "1  ground pork finely chopped fresh parsley onion...  \n",
       "2  minced garlic dried oregano red wine vinegar o...  \n",
       "3  orange anise cinnamon sticks unflavored gelati...  \n",
       "4  fresh dill yoghurt salt myzithra large eggs ch...  "
      ]
     },
     "execution_count": 17,
     "metadata": {},
     "output_type": "execute_result"
    }
   ],
   "source": [
    "df.head()"
   ]
  },
  {
   "cell_type": "code",
   "execution_count": 18,
   "metadata": {},
   "outputs": [],
   "source": [
    "recipes = list(df['recipe'])\n",
    "labels = list(df['cuisine'])"
   ]
  },
  {
   "cell_type": "code",
   "execution_count": 41,
   "metadata": {},
   "outputs": [
    {
     "name": "stdout",
     "output_type": "stream",
     "text": [
      "Number of Features: 2759\n"
     ]
    }
   ],
   "source": [
    "vectorizer = CountVectorizer(ngram_range=(1,4), min_df=0.002)\n",
    "vectorizer.fit(recipes)\n",
    "print('Number of Features: %d'%len(vectorizer.get_feature_names()))"
   ]
  },
  {
   "cell_type": "code",
   "execution_count": 42,
   "metadata": {},
   "outputs": [
    {
     "name": "stdout",
     "output_type": "stream",
     "text": [
      "['active', 'active dry', 'active dry yeast', 'adobo', 'agave', 'agave nectar', 'all', 'all purpose', 'all purpose flour', 'all purpose flour baking', 'all purpose flour eggs', 'all purpose flour ground', 'all purpose flour large', 'all purpose flour milk', 'all purpose flour salt', 'all purpose flour sugar', 'all purpose unbleached', 'all purpose unbleached flour', 'allspice', 'almond', 'almond extract', 'almond flour', 'almond milk', 'almonds', 'amchur', 'aminos', 'ancho', 'ancho chile', 'ancho chile pepper', 'ancho powder', 'anchovy', 'anchovy fillets', 'and', 'and ground', 'and ground black', 'and ground black pepper', 'andouille', 'andouille sausage', 'angel', 'angel hair', 'anise', 'apple', 'apple cider', 'apple cider vinegar', 'apples', 'apricot', 'arborio', 'arborio rice', 'artichoke', 'artichoke hearts', 'arugula', 'asafoetida', 'asian', 'asian fish', 'asian fish sauce', 'asparagus', 'avocado', 'avocado fresh', 'avocado lime', 'baby', 'baby bok', 'baby bok choy', 'baby spinach', 'baby spinach leaves', 'bacon', 'bacon slices', 'baguette', 'baking', 'baking potatoes', 'baking powder', 'baking powder all', 'baking powder all purpose', 'baking powder salt', 'baking soda', 'baking soda salt', 'balsamic', 'balsamic vinegar', 'bamboo', 'bamboo shoots', 'banana', 'bananas', 'barbecue', 'barbecue sauce', 'base', 'basil', 'basil dried', 'basil fresh', 'basil garlic', 'basil leaves', 'basil salt', 'basmati', 'basmati rice', 'bay', 'bay leaf', 'bay leaves', 'bay leaves salt', 'bean', 'bean paste', 'bean sauce', 'bean sprouts', 'beans', 'beans corn', 'beans diced', 'beans diced tomatoes', 'beans garlic', 'beans salt', 'beansprouts', 'beaten', 'beef', 'beef broth', 'beef ground', 'beef onions', 'beef stock', 'beer', 'beets', 'bell', 'bell pepper', 'bell pepper fresh', 'bell pepper garlic', 'bell pepper green', 'bell pepper green bell', 'bell pepper ground', 'bell pepper olive', 'bell pepper olive oil', 'bell pepper onions', 'bell pepper purple', 'bell pepper purple onion', 'bell pepper red', 'bell pepper red bell', 'bell pepper yellow', 'belly', 'berries', 'bird', 'bird chile', 'bittersweet', 'bittersweet chocolate', 'black', 'black beans', 'black beans corn', 'black eyed', 'black eyed peas', 'black mustard', 'black mustard seeds', 'black olives', 'black pepper', 'black pepper butter', 'black pepper chopped', 'black pepper dried', 'black pepper extra', 'black pepper extra virgin', 'black pepper fresh', 'black pepper garlic', 'black pepper garlic cloves', 'black pepper green', 'black pepper ground', 'black pepper kosher', 'black pepper kosher salt', 'black pepper lemon', 'black pepper olive', 'black pepper olive oil', 'black pepper red', 'black pepper salt', 'black pepper vegetable', 'black pepper vegetable oil', 'black peppercorns', 'black sesame', 'black sesame seeds', 'black vinegar', 'blanched', 'blanched almonds', 'blend', 'blue', 'blueberries', 'boiled', 'boiled egg', 'boiling', 'boiling water', 'bok', 'bok choy', 'bone', 'bone in', 'bone in chicken', 'boneless', 'boneless chicken', 'boneless chicken breast', 'boneless chicken skinless', 'boneless chicken skinless thigh', 'boneless chicken thighs', 'boneless pork', 'boneless skinless', 'boneless skinless chicken', 'boneless skinless chicken breast', 'boneless skinless chicken breasts', 'boneless skinless chicken thighs', 'bonito', 'bonito flakes', 'bouillon', 'bourbon', 'bourbon whiskey', 'bow', 'bow tie', 'bow tie pasta', 'brandy', 'bread', 'bread crumb', 'bread crumb fresh', 'bread crumbs', 'bread eggs', 'bread flour', 'breadcrumbs', 'breast', 'breast halves', 'breasts', 'breasts corn', 'breasts garlic', 'breasts salt', 'broccoli', 'broccoli florets', 'broth', 'broth fresh', 'broth garlic', 'broth ground', 'broth olive', 'broth olive oil', 'broth salt', 'broth soy', 'broth soy sauce', 'broth water', 'brown', 'brown rice', 'brown sugar', 'brown sugar ground', 'bulb', 'buns', 'butt', 'butter', 'butter all', 'butter all purpose', 'butter all purpose flour', 'butter chopped', 'butter eggs', 'butter flour', 'butter fresh', 'butter garlic', 'butter garlic cloves', 'butter ground', 'butter heavy', 'butter large', 'butter lemon', 'butter milk', 'butter olive', 'butter olive oil', 'butter onions', 'butter salt', 'butter sugar', 'butter vanilla', 'butter vanilla extract', 'butter white', 'buttermilk', 'butternut', 'butternut squash', 'button', 'button mushrooms', 'cabbage', 'cabbage carrots', 'cajun', 'cajun seasoning', 'cake', 'cake flour', 'can', 'canned', 'canned black', 'canned black beans', 'cannellini', 'cannellini beans', 'canola', 'canola oil', 'capers', 'caps', 'capsicum', 'cardamom', 'cardamom pods', 'carrot', 'carrots', 'carrots celery', 'carrots fresh', 'carrots garlic', 'carrots green', 'carrots onions', 'carrots red', 'cashew', 'cashew nuts', 'cashews', 'casings', 'caster', 'caster sugar', 'cauliflower', 'cauliflower florets', 'cayenne', 'cayenne pepper', 'cayenne pepper ground', 'celery', 'celery ribs', 'chard', 'cheddar', 'cheddar cheese', 'cheese', 'cheese all', 'cheese all purpose', 'cheese all purpose flour', 'cheese blend', 'cheese butter', 'cheese chopped', 'cheese crumbles', 'cheese dried', 'cheese eggs', 'cheese extra', 'cheese extra virgin', 'cheese extra virgin olive', 'cheese flour', 'cheese fresh', 'cheese fresh basil', 'cheese fresh parsley', 'cheese garlic', 'cheese garlic cloves', 'cheese grated', 'cheese grated parmesan', 'cheese grated parmesan cheese', 'cheese green', 'cheese green onions', 'cheese ground', 'cheese italian', 'cheese large', 'cheese large eggs', 'cheese olive', 'cheese olive oil', 'cheese onions', 'cheese red', 'cheese salsa', 'cheese salt', 'cheese shredded', 'cheese shredded mozzarella', 'cheese shredded mozzarella cheese', 'cheese sour', 'cheese sour cream', 'cherries', 'cherry', 'cherry tomatoes', 'chestnuts', 'chicken', 'chicken bouillon', 'chicken breast', 'chicken breast halves', 'chicken breasts', 'chicken breasts corn', 'chicken breasts garlic', 'chicken breasts salt', 'chicken broth', 'chicken broth ground', 'chicken broth water', 'chicken drumsticks', 'chicken fingers', 'chicken legs', 'chicken pieces', 'chicken skinless', 'chicken skinless thigh', 'chicken soup', 'chicken stock', 'chicken thighs', 'chicken wings', 'chickpeas', 'chile', 'chile paste', 'chile pepper', 'chile peppers', 'chile powder', 'chiles', 'chili', 'chili flakes', 'chili oil', 'chili paste', 'chili pepper', 'chili peppers', 'chili powder', 'chili powder cumin', 'chili powder garam', 'chili powder garam masala', 'chili powder garlic', 'chili powder ground', 'chili powder ground cumin', 'chili powder ground turmeric', 'chili powder salt', 'chili sauce', 'chilies', 'chilies chopped', 'chilies cilantro', 'chilies fresh', 'chilies garlic', 'chilies garlic cloves', 'chilies ground', 'chilies onions', 'chilies salt', 'chillies', 'chinese', 'chinese black', 'chinese black vinegar', 'chinese cabbage', 'chinese five', 'chinese five spice', 'chinese five spice powder', 'chinese rice', 'chinese rice wine', 'chipotle', 'chipotle chile', 'chipotles', 'chipotles in', 'chipotles in adobo', 'chips', 'chives', 'chocolate', 'chocolate chips', 'chocolate morsels', 'chopped', 'chopped celery', 'chopped cilantro', 'chopped cilantro fresh', 'chopped fresh', 'chopped fresh chives', 'chopped fresh cilantro', 'chopped fresh mint', 'chopped fresh thyme', 'chopped garlic', 'chopped green', 'chopped green bell', 'chopped green bell pepper', 'chopped onion', 'chopped parsley', 'chopped pecans', 'chopped spinach', 'chopped tomatoes', 'chopped walnuts', 'chops', 'chorizo', 'chorizo sausage', 'choy', 'chuck', 'chuck roast', 'chunks', 'chunky', 'chutney', 'cider', 'cider vinegar', 'cilantro', 'cilantro fresh', 'cilantro garlic', 'cilantro green', 'cilantro green onions', 'cilantro ground', 'cilantro leaves', 'cilantro lime', 'cilantro salt', 'cilantro sprigs', 'cinnamon', 'cinnamon ground', 'cinnamon salt', 'cinnamon sticks', 'cinnamon vanilla', 'clam', 'clam juice', 'clams', 'clove', 'cloves', 'cloves chicken', 'cloves chopped', 'cloves dried', 'cloves dried oregano', 'cloves fresh', 'cloves fresh ginger', 'cloves ginger', 'cloves green', 'cloves ground', 'cloves ground cumin', 'cloves olive', 'cloves olive oil', 'cloves onions', 'cloves red', 'cloves salt', 'cloves water', 'coarse', 'coarse salt', 'cocoa', 'cocoa powder', 'coconut', 'coconut cream', 'coconut flakes', 'coconut milk', 'coconut milk water', 'coconut oil', 'coconut sugar', 'cod', 'coffee', 'cold', 'cold water', 'coloring', 'concentrate', 'condensed', 'condensed cream', 'condensed cream of', 'condensed milk', 'confectioners', 'confectioners sugar', 'cooked', 'cooked chicken', 'cooked chicken breasts', 'cooked rice', 'cooked white', 'cooked white rice', 'cooking', 'cooking oil', 'cooking spray', 'cooking spray salt', 'cooking wine', 'coriander', 'coriander ground', 'coriander ground cumin', 'coriander powder', 'coriander powder ground', 'coriander seeds', 'corn', 'corn flour', 'corn kernels', 'corn meal', 'corn oil', 'corn starch', 'corn starch soy', 'corn starch soy sauce', 'corn starch sugar', 'corn starch water', 'corn syrup', 'corn tortillas', 'cornmeal', 'cotija', 'cottage', 'cottage cheese', 'country', 'couscous', 'crab', 'crab meat', 'cracked', 'cracked black', 'cracked black pepper', 'crackers', 'cream', 'cream cheese', 'cream fresh', 'cream ground', 'cream of', 'cream of chicken', 'cream of chicken soup', 'cream of tartar', 'cream sugar', 'creamy', 'creamy peanut', 'creamy peanut butter', 'crema', 'cremini', 'cremini mushrooms', 'creole', 'creole seasoning', 'crumb', 'crumb fresh', 'crumbled', 'crumbles', 'crumbs', 'crushed', 'crushed garlic', 'crushed red', 'crushed red pepper', 'crushed red pepper flakes', 'crushed tomatoes', 'crust', 'crusty', 'crème', 'crème fraîche', 'cubes', 'cucumber', 'cucumber purple', 'cucumber purple onion', 'cumin', 'cumin black', 'cumin cayenne', 'cumin chili', 'cumin chili powder', 'cumin coriander', 'cumin garam', 'cumin garam masala', 'cumin garlic', 'cumin ground', 'cumin ground coriander', 'cumin salt', 'cumin seed', 'cumin seed ground', 'cup', 'cups', 'curds', 'curry', 'curry leaves', 'curry paste', 'curry paste coconut', 'curry powder', 'cut', 'cut into', 'daikon', 'dal', 'dark', 'dark brown', 'dark brown sugar', 'dark chocolate', 'dark sesame', 'dark sesame oil', 'dark soy', 'dark soy sauce', 'dashi', 'de', 'de gallo', 'diced', 'diced green', 'diced green chilies', 'diced onions', 'diced red', 'diced red onions', 'diced tomatoes', 'dijon', 'dijon mustard', 'dill', 'dough', 'doughs', 'drain', 'drained', 'dressing', 'dried', 'dried basil', 'dried basil dried', 'dried oregano', 'dried oregano dried', 'dried oregano ground', 'dried oregano salt', 'dried parsley', 'dried red', 'dried red chile', 'dried red chile peppers', 'dried rosemary', 'dried shiitake', 'dried shiitake mushrooms', 'dried shrimp', 'dried thyme', 'dried tomatoes', 'drumsticks', 'dry', 'dry bread', 'dry bread crumbs', 'dry mustard', 'dry red', 'dry red wine', 'dry roasted', 'dry roasted peanuts', 'dry sherry', 'dry white', 'dry white wine', 'dry yeast', 'duck', 'ear', 'edamame', 'egg', 'egg noodles', 'egg whites', 'egg yolks', 'eggplant', 'eggplants', 'eggs', 'eggs all', 'eggs all purpose', 'eggs all purpose flour', 'eggs baking', 'eggs butter', 'eggs flour', 'eggs fresh', 'eggs garlic', 'eggs ground', 'eggs milk', 'eggs olive', 'eggs olive oil', 'eggs panko', 'eggs panko breadcrumbs', 'eggs salt', 'eggs sugar', 'eggs vanilla', 'eggs vanilla extract', 'eggs vegetable', 'eggs vegetable oil', 'eggs water', 'el', 'elbow', 'elbow macaroni', 'enchilada', 'enchilada sauce', 'english', 'english cucumber', 'espresso', 'evaporated', 'evaporated milk', 'extra', 'extra firm', 'extra firm tofu', 'extra virgin', 'extra virgin olive', 'extra virgin olive oil', 'extract', 'eyed', 'eyed peas', 'fat', 'fat coconut', 'fat coconut milk', 'fat free', 'fat free less', 'fat free less sodium', 'fat free milk', 'fat milk', 'fat sour', 'fat sour cream', 'fennel', 'fennel bulb', 'fennel seeds', 'fenugreek', 'fenugreek seeds', 'feta', 'feta cheese', 'feta cheese crumbles', 'fettucine', 'fillets', 'fine', 'fine sea', 'fine sea salt', 'finely', 'finely chopped', 'finely chopped onion', 'fingers', 'firm', 'firm tofu', 'firmly', 'firmly packed', 'fish', 'fish sauce', 'fish sauce fresh', 'fish sauce lime', 'fish sauce lime juice', 'fish sauce sugar', 'five', 'five spice', 'five spice powder', 'flakes', 'flakes garlic', 'flakes salt', 'flank', 'flank steak', 'flat', 'flat leaf', 'flat leaf parsley', 'flavored', 'florets', 'flour', 'flour baking', 'flour baking powder', 'flour baking powder salt', 'flour baking soda', 'flour butter', 'flour corn', 'flour corn starch', 'flour eggs', 'flour fresh', 'flour garlic', 'flour ground', 'flour large', 'flour large eggs', 'flour milk', 'flour salt', 'flour sugar', 'flour tortillas', 'flour unsalted', 'flour unsalted butter', 'flour vegetable', 'flour water', 'fontina', 'fontina cheese', 'food', 'food coloring', 'for', 'fraîche', 'free', 'free less', 'free less sodium', 'free less sodium chicken', 'free milk', 'french', 'french bread', 'fresco', 'fresh', 'fresh basil', 'fresh basil leaves', 'fresh chives', 'fresh cilantro', 'fresh cilantro lime', 'fresh coriander', 'fresh dill', 'fresh ginger', 'fresh ginger garlic', 'fresh ginger garlic cloves', 'fresh ginger green', 'fresh ginger ground', 'fresh ginger root', 'fresh ginger salt', 'fresh green', 'fresh lemon', 'fresh lemon juice', 'fresh lime', 'fresh lime juice', 'fresh mint', 'fresh mozzarella', 'fresh mushrooms', 'fresh orange', 'fresh orange juice', 'fresh oregano', 'fresh parmesan', 'fresh parmesan cheese', 'fresh parsley', 'fresh parsley leaves', 'fresh rosemary', 'fresh sage', 'fresh shiitake', 'fresh shiitake mushrooms', 'fresh spinach', 'fresh tarragon', 'fresh thyme', 'fresh thyme leaves', 'fresh tomatoes', 'freshly', 'freshly grated', 'freshly grated parmesan', 'freshly ground', 'freshly ground black', 'freshly ground black pepper', 'freshly ground pepper', 'fried', 'frozen', 'frozen chopped', 'frozen chopped spinach', 'frozen corn', 'frozen corn kernels', 'frozen peas', 'fruit', 'fry', 'full', 'full fat', 'gai', 'gai lan', 'galangal', 'gallo', 'garam', 'garam masala', 'garam masala ground', 'garam masala salt', 'garbanzo', 'garbanzo beans', 'garlic', 'garlic black', 'garlic carrots', 'garlic chicken', 'garlic chili', 'garlic chili sauce', 'garlic chopped', 'garlic cloves', 'garlic cloves chicken', 'garlic cloves chopped', 'garlic cloves dried', 'garlic cloves dried oregano', 'garlic cloves fresh', 'garlic cloves fresh ginger', 'garlic cloves ginger', 'garlic cloves green', 'garlic cloves ground', 'garlic cloves ground cumin', 'garlic cloves olive', 'garlic cloves olive oil', 'garlic cloves onions', 'garlic cloves red', 'garlic cloves salt', 'garlic cloves water', 'garlic corn', 'garlic corn starch', 'garlic crushed', 'garlic cumin', 'garlic dried', 'garlic dried oregano', 'garlic fresh', 'garlic fresh ginger', 'garlic ginger', 'garlic green', 'garlic green onions', 'garlic ground', 'garlic ground cumin', 'garlic jalapeno', 'garlic jalapeno chilies', 'garlic kosher', 'garlic kosher salt', 'garlic lemon', 'garlic minced', 'garlic minced ginger', 'garlic oil', 'garlic olive', 'garlic olive oil', 'garlic onions', 'garlic paste', 'garlic powder', 'garlic powder ground', 'garlic powder onion', 'garlic powder onion powder', 'garlic powder salt', 'garlic red', 'garlic red bell', 'garlic red bell pepper', 'garlic salt', 'garlic scallions', 'garlic sesame', 'garlic soy', 'garlic soy sauce', 'garlic water', 'garlic white', 'gelatin', 'ghee', 'ginger', 'ginger fresh', 'ginger garlic', 'ginger garlic cloves', 'ginger green', 'ginger green onions', 'ginger ground', 'ginger minced', 'ginger minced garlic', 'ginger onions', 'ginger paste', 'ginger red', 'ginger rice', 'ginger root', 'ginger salt', 'ginger scallions', 'ginger sesame', 'ginger sesame oil', 'ginger soy', 'ginger soy sauce', 'ginger vegetable', 'gingerroot', 'gluten', 'gluten free', 'goat', 'goat cheese', 'gold', 'gold potatoes', 'golden', 'golden raisins', 'grain', 'grain rice', 'grain white', 'grain white rice', 'granny', 'granny smith', 'granny smith apples', 'granulated', 'granulated sugar', 'grape', 'grape tomatoes', 'grapeseed', 'grapeseed oil', 'grass', 'grated', 'grated lemon', 'grated lemon peel', 'grated lemon zest', 'grated nutmeg', 'grated orange', 'grated parmesan', 'grated parmesan cheese', 'grated parmesan cheese fresh', 'grated parmesan cheese garlic', 'grated parmesan cheese salt', 'grating', 'grating cheese', 'greek', 'greek style', 'greek yogurt', 'green', 'green beans', 'green bell', 'green bell pepper', 'green cabbage', 'green cardamom', 'green cardamom pods', 'green chile', 'green chilies', 'green curry', 'green curry paste', 'green olives', 'green onions', 'green onions chopped', 'green onions cilantro', 'green onions fresh', 'green onions garlic', 'green onions garlic cloves', 'green onions salt', 'green peas', 'green pepper', 'greens', 'grits', 'ground', 'ground allspice', 'ground beef', 'ground beef onions', 'ground black', 'ground black pepper', 'ground black pepper extra', 'ground black pepper fresh', 'ground black pepper garlic', 'ground black pepper ground', 'ground black pepper kosher', 'ground black pepper salt', 'ground black pepper vegetable', 'ground cardamom', 'ground cayenne', 'ground cayenne pepper', 'ground chicken', 'ground cinnamon', 'ground cinnamon ground', 'ground cloves', 'ground coriander', 'ground coriander ground', 'ground coriander ground cumin', 'ground cumin', 'ground cumin chili', 'ground cumin chili powder', 'ground cumin ground', 'ground cumin ground coriander', 'ground cumin salt', 'ground ginger', 'ground lamb', 'ground nutmeg', 'ground pepper', 'ground pork', 'ground red', 'ground red pepper', 'ground turkey', 'ground turmeric', 'ground turmeric ground', 'ground white', 'ground white pepper', 'gruyere', 'gruyere cheese', 'guacamole', 'hair', 'half', 'half half', 'halibut', 'halves', 'ham', 'hamburger', 'hamburger buns', 'hard', 'hard boiled', 'hard boiled egg', 'hazelnuts', 'hearts', 'heavy', 'heavy cream', 'heavy whipping', 'heavy whipping cream', 'herbs', 'hoisin', 'hoisin sauce', 'hominy', 'honey', 'horseradish', 'hot', 'hot chili', 'hot pepper', 'hot pepper sauce', 'hot red', 'hot red pepper', 'hot red pepper flakes', 'hot sauce', 'hot water', 'hummus', 'ice', 'ice cream', 'ice cubes', 'ice water', 'iceberg', 'iceberg lettuce', 'in', 'in adobo', 'in chicken', 'inch', 'instant', 'instant yeast', 'into', 'italian', 'italian bread', 'italian dressing', 'italian parsley', 'italian parsley leaves', 'italian salad', 'italian salad dressing', 'italian sausage', 'italian seasoning', 'italian style', 'jack', 'jack cheese', 'jalapeno', 'jalapeno chilies', 'jalapeno chilies cilantro', 'jalapeno chilies garlic', 'jalapeno chilies salt', 'jam', 'japanese', 'jasmine', 'jasmine rice', 'juice', 'juice chopped', 'juice fish', 'juice fish sauce', 'juice fresh', 'juice garlic', 'juice ground', 'juice ground cumin', 'juice olive', 'juice olive oil', 'juice red', 'juice salt', 'juice soy', 'juice soy sauce', 'juice sugar', 'juice water', 'jumbo', 'kaffir', 'kaffir lime', 'kaffir lime leaves', 'kalamata', 'kalamata olives', 'kale', 'kernel', 'kernel corn', 'kernels', 'ketchup', 'kidney', 'kidney beans', 'konbu', 'kosher', 'kosher salt', 'kosher salt black', 'kosher salt black pepper', 'kosher salt fresh', 'kosher salt freshly', 'kosher salt freshly ground', 'kosher salt garlic', 'kosher salt ground', 'kosher salt ground black', 'kosher salt vegetable', 'kraft', 'lamb', 'lan', 'lard', 'large', 'large egg', 'large egg whites', 'large egg yolks', 'large eggs', 'large eggs all', 'large eggs all purpose', 'large eggs salt', 'large eggs vanilla', 'large garlic', 'large garlic cloves', 'large shrimp', 'lasagna', 'lasagna noodles', 'leaf', 'leaf parsley', 'lean', 'lean ground', 'lean ground beef', 'leaves', 'leaves cilantro', 'leaves fresh', 'leaves garlic', 'leaves garlic cloves', 'leaves green', 'leaves ground', 'leaves lime', 'leaves onions', 'leaves salt', 'leeks', 'leg', 'legs', 'lemon', 'lemon garlic', 'lemon grass', 'lemon juice', 'lemon juice fresh', 'lemon juice garlic', 'lemon juice ground', 'lemon juice olive', 'lemon juice olive oil', 'lemon juice salt', 'lemon peel', 'lemon salt', 'lemon wedge', 'lemon wedges', 'lemon zest', 'lemongrass', 'lentils', 'less', 'less sodium', 'less sodium chicken', 'less sodium chicken broth', 'lettuce', 'lettuce leaves', 'light', 'light brown', 'light brown sugar', 'light coconut', 'light coconut milk', 'light corn', 'light corn syrup', 'light soy', 'light soy sauce', 'light soy sauce dark', 'lime', 'lime cilantro', 'lime garlic', 'lime juice', 'lime juice fish', 'lime juice fish sauce', 'lime juice garlic', 'lime juice ground', 'lime juice salt', 'lime leaves', 'lime salt', 'lime wedges', 'lime zest', 'linguine', 'links', 'liqueur', 'liquid', 'loin', 'long', 'long grain', 'long grain rice', 'long grain white', 'long grain white rice', 'low', 'low fat', 'low fat milk', 'low salt', 'low salt chicken', 'low salt chicken broth', 'low sodium', 'low sodium chicken', 'low sodium chicken broth', 'low sodium chicken stock', 'low sodium soy', 'low sodium soy sauce', 'lower', 'lower sodium', 'macaroni', 'manchego', 'manchego cheese', 'mango', 'maple', 'maple syrup', 'margarine', 'marinade', 'marinara', 'marinara sauce', 'marjoram', 'marsala', 'marsala wine', 'masa', 'masala', 'masala ground', 'masala salt', 'mascarpone', 'mayonaise', 'mayonnaise', 'meal', 'meat', 'meatballs', 'medium', 'medium shrimp', 'medium tomatoes', 'mein', 'mein noodles', 'melted', 'melted butter', 'methi', 'mexican', 'mexican cheese', 'mexican cheese blend', 'mexican oregano', 'mexican style', 'mild', 'milk', 'milk all', 'milk all purpose', 'milk all purpose flour', 'milk butter', 'milk eggs', 'milk fresh', 'milk ground', 'milk heavy', 'milk heavy cream', 'milk large', 'milk salt', 'milk sugar', 'milk vanilla', 'milk vanilla extract', 'milk water', 'minced', 'minced garlic', 'minced garlic fresh', 'minced ginger', 'minced onion', 'mini', 'mint', 'mint leaves', 'mirin', 'mirin soy', 'mirin soy sauce', 'miso', 'miso paste', 'mix', 'mixed', 'molasses', 'monterey', 'monterey jack', 'monterey jack cheese', 'morsels', 'mozzarella', 'mozzarella cheese', 'mung', 'mung bean', 'mung bean sprouts', 'mushroom', 'mushroom caps', 'mushroom soup', 'mushrooms', 'mushrooms garlic', 'mussels', 'mustard', 'mustard seeds', 'napa', 'napa cabbage', 'natural', 'nectar', 'new', 'non', 'non fat', 'non fat sour', 'non fat sour cream', 'nonfat', 'nonfat plain', 'nonfat plain greek', 'nonfat plain greek yogurt', 'nonstick', 'nonstick spray', 'noodles', 'nori', 'nutmeg', 'nuts', 'oats', 'of', 'of chicken', 'of chicken soup', 'of tartar', 'oil', 'oil all', 'oil all purpose', 'oil all purpose flour', 'oil black', 'oil boneless', 'oil boneless skinless', 'oil boneless skinless chicken', 'oil brown', 'oil butter', 'oil carrots', 'oil cayenne', 'oil chicken', 'oil chili', 'oil chili powder', 'oil chinese', 'oil chopped', 'oil chopped cilantro', 'oil chopped onion', 'oil cilantro', 'oil cooking', 'oil cooking spray', 'oil corn', 'oil corn starch', 'oil crushed', 'oil crushed red', 'oil crushed red pepper', 'oil cumin', 'oil cumin seed', 'oil diced', 'oil diced tomatoes', 'oil dried', 'oil dry', 'oil eggs', 'oil flour', 'oil fresh', 'oil fresh ginger', 'oil fresh lemon', 'oil fresh lemon juice', 'oil garlic', 'oil garlic cloves', 'oil ginger', 'oil grated', 'oil green', 'oil green onions', 'oil ground', 'oil ground black', 'oil ground black pepper', 'oil ground cumin', 'oil honey', 'oil hot', 'oil italian', 'oil kosher', 'oil kosher salt', 'oil large', 'oil large eggs', 'oil lemon', 'oil lemon juice', 'oil lime', 'oil low', 'oil minced', 'oil minced garlic', 'oil onions', 'oil onions garlic', 'oil onions garlic cloves', 'oil pepper', 'oil purple', 'oil purple onion', 'oil red', 'oil red bell', 'oil red bell pepper', 'oil red pepper', 'oil red wine', 'oil red wine vinegar', 'oil rice', 'oil rice vinegar', 'oil salt', 'oil salt pepper', 'oil scallions', 'oil sea', 'oil sea salt', 'oil sesame', 'oil sesame oil', 'oil shallots', 'oil soy', 'oil soy sauce', 'oil spanish', 'oil spray', 'oil sugar', 'oil sweet', 'oil toasted', 'oil toasted sesame', 'oil vegetable', 'oil water', 'oil white', 'oil yellow', 'oil yellow onion', 'okra', 'old', 'olive', 'olive oil', 'olive oil boneless', 'olive oil boneless skinless', 'olive oil butter', 'olive oil chicken', 'olive oil chopped', 'olive oil diced', 'olive oil dried', 'olive oil dry', 'olive oil fresh', 'olive oil fresh lemon', 'olive oil garlic', 'olive oil garlic cloves', 'olive oil grated', 'olive oil green', 'olive oil ground', 'olive oil kosher', 'olive oil kosher salt', 'olive oil large', 'olive oil lemon', 'olive oil lemon juice', 'olive oil onions', 'olive oil onions garlic', 'olive oil purple', 'olive oil purple onion', 'olive oil red', 'olive oil red wine', 'olive oil salt', 'olive oil salt pepper', 'olive oil sea', 'olive oil sea salt', 'olive oil shallots', 'olive oil white', 'olive oil yellow', 'olive oil yellow onion', 'olives', 'on', 'onion', 'onion chopped', 'onion chopped cilantro', 'onion dried', 'onion fresh', 'onion garlic', 'onion garlic cloves', 'onion green', 'onion ground', 'onion ground cumin', 'onion jalapeno', 'onion jalapeno chilies', 'onion olive', 'onion olive oil', 'onion powder', 'onion powder garlic', 'onion red', 'onion red bell', 'onion red bell pepper', 'onion salt', 'onions', 'onions black', 'onions carrots', 'onions celery', 'onions chicken', 'onions chicken broth', 'onions chopped', 'onions cilantro', 'onions corn', 'onions eggs', 'onions fresh', 'onions fresh ginger', 'onions garlic', 'onions garlic cloves', 'onions ginger', 'onions green', 'onions green bell', 'onions green bell pepper', 'onions ground', 'onions minced', 'onions minced garlic', 'onions olive', 'onions olive oil', 'onions pepper', 'onions red', 'onions red bell', 'onions red bell pepper', 'onions rice', 'onions salt', 'onions sesame', 'onions soy', 'onions soy sauce', 'onions sugar', 'onions tomato', 'onions tomatoes', 'onions vegetable', 'onions water', 'onions white', 'or', 'orange', 'orange bell', 'orange bell pepper', 'orange juice', 'orange peel', 'orange zest', 'oranges', 'oregano', 'oregano dried', 'oregano dried basil', 'oregano fresh', 'oregano garlic', 'oregano ground', 'oregano leaves', 'oregano salt', 'organic', 'orzo', 'ounces', 'oyster', 'oyster sauce', 'oyster sauce soy', 'oyster sauce soy sauce', 'packed', 'palm', 'palm sugar', 'pancetta', 'paneer', 'panko', 'panko breadcrumbs', 'paprika', 'paprika garlic', 'paprika ground', 'paprika ground cumin', 'paprika salt', 'parmesan', 'parmesan cheese', 'parmesan cheese fresh', 'parmesan cheese garlic', 'parmesan cheese salt', 'parmigiano', 'parmigiano reggiano', 'parmigiano reggiano cheese', 'parsley', 'parsley fresh', 'parsley garlic', 'parsley ground', 'parsley leaves', 'parsley olive', 'parsley olive oil', 'parsley salt', 'part', 'part skim', 'part skim mozzarella', 'part skim mozzarella cheese', 'part skim ricotta', 'part skim ricotta cheese', 'pasta', 'pasta sauce', 'paste', 'paste coconut', 'paste coconut milk', 'paste fresh', 'paste garlic', 'paste ground', 'paste salt', 'paste water', 'pastry', 'pea', 'peaches', 'peanut', 'peanut butter', 'peanut oil', 'peanuts', 'pearl', 'pears', 'peas', 'pecans', 'pecorino', 'pecorino romano', 'pecorino romano cheese', 'peel', 'peeled', 'peeled fresh', 'peeled fresh ginger', 'peeled tomatoes', 'penne', 'penne pasta', 'pepper', 'pepper all', 'pepper all purpose', 'pepper all purpose flour', 'pepper bay', 'pepper black', 'pepper boneless', 'pepper boneless skinless', 'pepper boneless skinless chicken', 'pepper butter', 'pepper carrots', 'pepper cayenne', 'pepper cayenne pepper', 'pepper chicken', 'pepper chili', 'pepper chili powder', 'pepper chopped', 'pepper chopped cilantro', 'pepper chopped fresh', 'pepper cilantro', 'pepper cooking', 'pepper corn', 'pepper corn starch', 'pepper crushed', 'pepper crushed red', 'pepper crushed red pepper', 'pepper cumin', 'pepper diced', 'pepper diced tomatoes', 'pepper dried', 'pepper dried oregano', 'pepper dry', 'pepper eggs', 'pepper extra', 'pepper extra virgin', 'pepper extra virgin olive', 'pepper flakes', 'pepper flakes salt', 'pepper flour', 'pepper fresh', 'pepper fresh parsley', 'pepper garlic', 'pepper garlic cloves', 'pepper garlic powder', 'pepper ginger', 'pepper grated', 'pepper grated parmesan', 'pepper grated parmesan cheese', 'pepper green', 'pepper green bell', 'pepper green bell pepper', 'pepper green onions', 'pepper ground', 'pepper ground black', 'pepper ground black pepper', 'pepper ground cumin', 'pepper hot', 'pepper italian', 'pepper jack', 'pepper jalapeno', 'pepper jalapeno chilies', 'pepper kosher', 'pepper kosher salt', 'pepper large', 'pepper large eggs', 'pepper lemon', 'pepper lime', 'pepper low', 'pepper oil', 'pepper olive', 'pepper olive oil', 'pepper onions', 'pepper paprika', 'pepper purple', 'pepper purple onion', 'pepper red', 'pepper red bell', 'pepper red bell pepper', 'pepper red pepper', 'pepper red wine', 'pepper rice', 'pepper salt', 'pepper sauce', 'pepper scallions', 'pepper sea', 'pepper sea salt', 'pepper sesame', 'pepper sesame oil', 'pepper shredded', 'pepper sliced', 'pepper soy', 'pepper soy sauce', 'pepper sugar', 'pepper sweet', 'pepper tomato', 'pepper tomatoes', 'pepper vegetable', 'pepper vegetable oil', 'pepper water', 'pepper white', 'pepper yellow', 'pepper yellow bell', 'pepper yellow bell pepper', 'pepper yellow onion', 'pepper zucchini', 'peppercorns', 'pepperoni', 'peppers', 'peppers garlic', 'pesto', 'phyllo', 'pickled', 'pico', 'pico de', 'pico de gallo', 'pie', 'pieces', 'pimentos', 'pineapple', 'pineapple juice', 'pinenuts', 'pinto', 'pinto beans', 'pistachios', 'pita', 'pita bread', 'pitted', 'pitted kalamata', 'pitted kalamata olives', 'pizza', 'pizza doughs', 'pizza sauce', 'plain', 'plain flour', 'plain greek', 'plain greek yogurt', 'plain yogurt', 'plum', 'plum tomatoes', 'poblano', 'poblano chiles', 'poblano peppers', 'pods', 'polenta', 'pork', 'pork belly', 'pork chops', 'pork loin', 'pork shoulder', 'pork tenderloin', 'potato', 'potato starch', 'potatoes', 'potatoes garlic', 'potatoes olive', 'potatoes olive oil', 'potatoes onions', 'potatoes salt', 'pound', 'powder', 'powder all', 'powder all purpose', 'powder all purpose flour', 'powder baking', 'powder baking soda', 'powder black', 'powder cayenne', 'powder cayenne pepper', 'powder chili', 'powder chili powder', 'powder chopped', 'powder cilantro', 'powder coriander', 'powder corn', 'powder cumin', 'powder dried', 'powder fresh', 'powder garam', 'powder garam masala', 'powder garlic', 'powder garlic powder', 'powder green', 'powder ground', 'powder ground cumin', 'powder ground turmeric', 'powder kosher', 'powder kosher salt', 'powder onion', 'powder onion powder', 'powder onions', 'powder paprika', 'powder red', 'powder salt', 'powder sugar', 'powder vegetable', 'powder water', 'powder white', 'powdered', 'powdered sugar', 'prawns', 'prepared', 'prosciutto', 'provolone', 'provolone cheese', 'puff', 'puff pastry', 'pumpkin', 'pure', 'pure vanilla', 'pure vanilla extract', 'purple', 'purple onion', 'purple onion fresh', 'purple onion garlic', 'purple onion red', 'purpose', 'purpose flour', 'purpose flour baking', 'purpose flour baking powder', 'purpose flour eggs', 'purpose flour ground', 'purpose flour large', 'purpose flour large eggs', 'purpose flour milk', 'purpose flour salt', 'purpose flour sugar', 'purpose unbleached', 'purpose unbleached flour', 'purée', 'queso', 'queso fresco', 'quinoa', 'radishes', 'raisins', 'ramen', 'ramen noodles', 'ranch', 'ranch dressing', 'raspberries', 'raw', 'red', 'red bell', 'red bell pepper', 'red bell pepper garlic', 'red bell pepper green', 'red cabbage', 'red chile', 'red chile peppers', 'red chili', 'red chili peppers', 'red chili powder', 'red curry', 'red curry paste', 'red enchilada', 'red enchilada sauce', 'red lentils', 'red onions', 'red pepper', 'red pepper flakes', 'red pepper flakes salt', 'red pepper garlic', 'red peppers', 'red potato', 'red wine', 'red wine vinegar', 'reduced', 'reduced fat', 'reduced fat milk', 'reduced sodium', 'reduced sodium chicken', 'reduced sodium chicken broth', 'reduced sodium soy', 'reduced sodium soy sauce', 'refried', 'refried beans', 'refrigerated', 'reggiano', 'reggiano cheese', 'rib', 'ribs', 'rice', 'rice chicken', 'rice flour', 'rice ground', 'rice noodles', 'rice salt', 'rice vinegar', 'rice vinegar sesame', 'rice vinegar sesame oil', 'rice vinegar soy', 'rice vinegar soy sauce', 'rice vinegar sugar', 'rice water', 'rice wine', 'ricotta', 'ricotta cheese', 'rind', 'rising', 'rising flour', 'roast', 'roast peanuts', 'roasted', 'roasted peanuts', 'roasted red', 'roasted red peppers', 'roll', 'roll wrappers', 'rolls', 'roma', 'roma tomatoes', 'romaine', 'romaine lettuce', 'romano', 'romano cheese', 'root', 'root garlic', 'rosemary', 'rotisserie', 'rotisserie chicken', 'round', 'rum', 'russet', 'russet potatoes', 'saffron', 'saffron threads', 'sage', 'sage leaves', 'sake', 'sake mirin', 'salad', 'salad dressing', 'salami', 'salmon', 'salmon fillets', 'salsa', 'salsa verde', 'salt', 'salt all', 'salt all purpose', 'salt all purpose flour', 'salt and', 'salt and ground', 'salt and ground black', 'salt baking', 'salt baking powder', 'salt bay', 'salt black', 'salt black pepper', 'salt boneless', 'salt boneless skinless', 'salt boneless skinless chicken', 'salt butter', 'salt canola', 'salt canola oil', 'salt carrots', 'salt cayenne', 'salt cayenne pepper', 'salt chicken', 'salt chicken broth', 'salt chili', 'salt chili powder', 'salt chopped', 'salt chopped cilantro', 'salt chopped cilantro fresh', 'salt cilantro', 'salt cinnamon', 'salt coconut', 'salt corn', 'salt corn starch', 'salt cracked', 'salt cracked black', 'salt cracked black pepper', 'salt cumin', 'salt dried', 'salt dried oregano', 'salt eggs', 'salt extra', 'salt extra virgin', 'salt extra virgin olive', 'salt flour', 'salt fresh', 'salt fresh lemon', 'salt fresh lemon juice', 'salt fresh parsley', 'salt freshly', 'salt freshly ground', 'salt freshly ground black', 'salt freshly ground pepper', 'salt garlic', 'salt garlic cloves', 'salt garlic powder', 'salt grated', 'salt green', 'salt ground', 'salt ground black', 'salt ground black pepper', 'salt ground cumin', 'salt ground pepper', 'salt ground turmeric', 'salt large', 'salt large eggs', 'salt lemon', 'salt lemon juice', 'salt lime', 'salt milk', 'salt oil', 'salt olive', 'salt olive oil', 'salt onions', 'salt pepper', 'salt pork', 'salt red', 'salt red bell', 'salt red bell pepper', 'salt sesame', 'salt sesame oil', 'salt soy', 'salt soy sauce', 'salt sugar', 'salt tomatoes', 'salt unsalted', 'salt unsalted butter', 'salt vegetable', 'salt vegetable oil', 'salt water', 'salt white', 'salt white pepper', 'salt whole', 'salted', 'salted butter', 'sambal', 'sandwich', 'sauce', 'sauce black', 'sauce boneless', 'sauce brown', 'sauce brown sugar', 'sauce chicken', 'sauce chili', 'sauce chinese', 'sauce chopped', 'sauce cooking', 'sauce corn', 'sauce corn starch', 'sauce dark', 'sauce dark soy', 'sauce dark soy sauce', 'sauce dried', 'sauce dry', 'sauce fish', 'sauce fish sauce', 'sauce fresh', 'sauce fresh ginger', 'sauce fresh lime', 'sauce garlic', 'sauce garlic cloves', 'sauce ginger', 'sauce green', 'sauce green onions', 'sauce ground', 'sauce ground black', 'sauce ground black pepper', 'sauce hoisin', 'sauce hoisin sauce', 'sauce honey', 'sauce large', 'sauce light', 'sauce light soy', 'sauce light soy sauce', 'sauce lime', 'sauce lime juice', 'sauce low', 'sauce mirin', 'sauce oil', 'sauce olive', 'sauce olive oil', 'sauce onions', 'sauce oyster', 'sauce oyster sauce', 'sauce peanut', 'sauce red', 'sauce rice', 'sauce rice vinegar', 'sauce rice wine', 'sauce sake', 'sauce salt', 'sauce sesame', 'sauce sesame oil', 'sauce shaoxing', 'sauce shaoxing wine', 'sauce shredded', 'sauce soy', 'sauce soy sauce', 'sauce sriracha', 'sauce sugar', 'sauce sweet', 'sauce toasted', 'sauce toasted sesame', 'sauce vegetable', 'sauce vegetable oil', 'sauce water', 'sauce white', 'sausage', 'sausage casings', 'sausage links', 'sausages', 'scallions', 'scallions fresh', 'scallions garlic', 'scallops', 'sea', 'sea salt', 'sea salt black', 'sea salt ground', 'sea salt ground black', 'sea scallops', 'seasoned', 'seasoned bread', 'seasoned bread crumbs', 'seasoning', 'seasoning garlic', 'seasoning mix', 'seasoning salt', 'seed', 'seed ground', 'seedless', 'seeds', 'seeds cumin', 'seeds cumin seed', 'seeds green', 'seeds ground', 'seeds salt', 'self', 'self rising', 'self rising flour', 'semi', 'semisweet', 'semisweet chocolate', 'semolina', 'serrano', 'serrano chile', 'serrano peppers', 'sesame', 'sesame oil', 'sesame oil corn', 'sesame oil corn starch', 'sesame oil garlic', 'sesame oil rice', 'sesame oil rice vinegar', 'sesame oil salt', 'sesame oil scallions', 'sesame oil soy', 'sesame oil soy sauce', 'sesame oil sugar', 'sesame oil white', 'sesame seeds', 'shallots', 'shallots fresh', 'shallots garlic', 'shallots garlic cloves', 'shallots salt', 'shaoxing', 'shaoxing wine', 'sharp', 'sharp cheddar', 'sharp cheddar cheese', 'sheets', 'shells', 'sherry', 'sherry vinegar', 'shiitake', 'shiitake mushrooms', 'shoots', 'short', 'shortening', 'shoulder', 'shredded', 'shredded cabbage', 'shredded carrots', 'shredded cheddar', 'shredded cheddar cheese', 'shredded cheese', 'shredded lettuce', 'shredded monterey', 'shredded monterey jack', 'shredded monterey jack cheese', 'shredded mozzarella', 'shredded mozzarella cheese', 'shredded parmesan', 'shredded parmesan cheese', 'shredded sharp', 'shredded sharp cheddar', 'shredded sharp cheddar cheese', 'shrimp', 'sirloin', 'sirloin steak', 'skim', 'skim milk', 'skim mozzarella', 'skim mozzarella cheese', 'skim ricotta', 'skim ricotta cheese', 'skinless', 'skinless chicken', 'skinless chicken breast', 'skinless chicken breast halves', 'skinless chicken breasts', 'skinless chicken breasts garlic', 'skinless chicken breasts salt', 'skinless chicken thighs', 'skinless thigh', 'slaw', 'sliced', 'sliced almonds', 'sliced black', 'sliced black olives', 'sliced carrots', 'sliced green', 'sliced green onions', 'sliced mushrooms', 'slices', 'slivered', 'slivered almonds', 'small', 'smith', 'smith apples', 'smoked', 'smoked paprika', 'snow', 'snow peas', 'soba', 'soba noodles', 'soda', 'soda salt', 'sodium', 'sodium beef', 'sodium chicken', 'sodium chicken broth', 'sodium chicken stock', 'sodium soy', 'sodium soy sauce', 'soft', 'soup', 'sour', 'sour cream', 'sourdough', 'soy', 'soy sauce', 'soy sauce brown', 'soy sauce brown sugar', 'soy sauce chicken', 'soy sauce chinese', 'soy sauce corn', 'soy sauce corn starch', 'soy sauce dark', 'soy sauce dark soy', 'soy sauce fish', 'soy sauce fish sauce', 'soy sauce fresh', 'soy sauce fresh ginger', 'soy sauce garlic', 'soy sauce ginger', 'soy sauce green', 'soy sauce green onions', 'soy sauce ground', 'soy sauce hoisin', 'soy sauce hoisin sauce', 'soy sauce honey', 'soy sauce mirin', 'soy sauce oyster', 'soy sauce oyster sauce', 'soy sauce red', 'soy sauce rice', 'soy sauce rice vinegar', 'soy sauce rice wine', 'soy sauce sake', 'soy sauce salt', 'soy sauce sesame', 'soy sauce sesame oil', 'soy sauce shaoxing', 'soy sauce shaoxing wine', 'soy sauce sugar', 'soy sauce vegetable', 'soy sauce vegetable oil', 'soy sauce water', 'soy sauce white', 'spaghetti', 'spanish', 'spanish chorizo', 'spanish onion', 'spanish paprika', 'spice', 'spice powder', 'spices', 'spinach', 'spinach leaves', 'spray', 'spray salt', 'spread', 'sprigs', 'spring', 'spring onions', 'sprouts', 'squash', 'sriracha', 'star', 'star anise', 'starch', 'starch salt', 'starch soy', 'starch soy sauce', 'starch sugar', 'starch water', 'steak', 'steaks', 'steamed', 'steamed rice', 'stems', 'stewed', 'stewed tomatoes', 'stick', 'sticks', 'stock', 'strawberries', 'style', 'sugar', 'sugar all', 'sugar all purpose', 'sugar all purpose flour', 'sugar baking', 'sugar baking powder', 'sugar butter', 'sugar chili', 'sugar chinese', 'sugar cinnamon', 'sugar corn', 'sugar corn starch', 'sugar egg', 'sugar eggs', 'sugar fish', 'sugar fish sauce', 'sugar flour', 'sugar fresh', 'sugar fresh ginger', 'sugar garlic', 'sugar ginger', 'sugar green', 'sugar green onions', 'sugar ground', 'sugar ground black', 'sugar ground black pepper', 'sugar ground cinnamon', 'sugar kosher', 'sugar kosher salt', 'sugar large', 'sugar large eggs', 'sugar lemon', 'sugar light', 'sugar lime', 'sugar milk', 'sugar olive', 'sugar olive oil', 'sugar pea', 'sugar red', 'sugar rice', 'sugar rice vinegar', 'sugar salt', 'sugar sesame', 'sugar sesame oil', 'sugar soy', 'sugar soy sauce', 'sugar unsalted', 'sugar unsalted butter', 'sugar vanilla', 'sugar vanilla extract', 'sugar vegetable', 'sugar vegetable oil', 'sugar water', 'sugar white', 'sun', 'sun dried', 'sun dried tomatoes', 'sunflower', 'sunflower oil', 'sushi', 'sushi rice', 'sweet', 'sweet chili', 'sweet chili sauce', 'sweet corn', 'sweet italian', 'sweet italian sausage', 'sweet onion', 'sweet paprika', 'sweet pepper', 'sweet potatoes', 'sweetened', 'sweetened condensed', 'sweetened condensed milk', 'swiss', 'swiss chard', 'swiss cheese', 'syrup', 'szechwan', 'szechwan peppercorns', 'tabasco', 'tabasco pepper', 'tabasco pepper sauce', 'table', 'tablespoon', 'tablespoons', 'taco', 'taco seasoning', 'taco seasoning mix', 'tahini', 'tamari', 'tamari soy', 'tamari soy sauce', 'tamarind', 'tamarind paste', 'tapioca', 'tarragon', 'tartar', 'tea', 'teaspoon', 'teaspoons', 'tenderloin', 'tequila', 'teriyaki', 'teriyaki sauce', 'thai', 'thai basil', 'thai chile', 'thai fish', 'thai fish sauce', 'thai red', 'thai red curry', 'thai red curry paste', 'thick', 'thigh', 'thighs', 'thin', 'threads', 'thyme', 'thyme garlic', 'thyme leaves', 'thyme salt', 'thyme sprigs', 'tie', 'tie pasta', 'tilapia', 'to', 'toasted', 'toasted sesame', 'toasted sesame oil', 'toasted sesame seeds', 'tofu', 'tomatillos', 'tomato', 'tomato juice', 'tomato ketchup', 'tomato paste', 'tomato purée', 'tomato sauce', 'tomatoes', 'tomatoes black', 'tomatoes chicken', 'tomatoes chopped', 'tomatoes cilantro', 'tomatoes cucumber', 'tomatoes dried', 'tomatoes extra', 'tomatoes extra virgin', 'tomatoes extra virgin olive', 'tomatoes fresh', 'tomatoes garlic', 'tomatoes garlic cloves', 'tomatoes green', 'tomatoes green onions', 'tomatoes ground', 'tomatoes ground black', 'tomatoes ground black pepper', 'tomatoes in', 'tomatoes jalapeno', 'tomatoes jalapeno chilies', 'tomatoes olive', 'tomatoes olive oil', 'tomatoes onions', 'tomatoes purple', 'tomatoes purple onion', 'tomatoes red', 'tomatoes salt', 'tomatoes tomato', 'tomatoes tomato paste', 'tomatoes water', 'tortellini', 'tortilla', 'tortilla chips', 'tortillas', 'tortillas shredded', 'tumeric', 'tuna', 'turkey', 'turkey breast', 'turkey sausage', 'turmeric', 'turmeric chili', 'turmeric chili powder', 'turmeric garam', 'turmeric garam masala', 'turmeric ground', 'turmeric salt', 'turnips', 'udon', 'unbleached', 'unbleached flour', 'unsalted', 'unsalted butter', 'unsalted butter all', 'unsalted butter all purpose', 'unsalted butter salt', 'unsweetened', 'unsweetened cocoa', 'unsweetened cocoa powder', 'unsweetened coconut', 'unsweetened coconut milk', 'vanilla', 'vanilla beans', 'vanilla extract', 'veal', 'vegetable', 'vegetable broth', 'vegetable oil', 'vegetable oil all', 'vegetable oil all purpose', 'vegetable oil cooking', 'vegetable oil cooking spray', 'vegetable oil corn', 'vegetable oil fresh', 'vegetable oil garlic', 'vegetable oil garlic cloves', 'vegetable oil ground', 'vegetable oil onions', 'vegetable oil salt', 'vegetable stock', 'vegetables', 'verde', 'vermicelli', 'vidalia', 'vidalia onion', 'vinaigrette', 'vinegar', 'vinegar corn', 'vinegar extra', 'vinegar extra virgin', 'vinegar extra virgin olive', 'vinegar fresh', 'vinegar garlic', 'vinegar garlic cloves', 'vinegar ground', 'vinegar honey', 'vinegar olive', 'vinegar olive oil', 'vinegar salt', 'vinegar sesame', 'vinegar sesame oil', 'vinegar soy', 'vinegar soy sauce', 'vinegar sugar', 'vinegar water', 'virgin', 'virgin olive', 'virgin olive oil', 'virgin olive oil fresh', 'virgin olive oil garlic', 'virgin olive oil onions', 'virgin olive oil red', 'virgin olive oil salt', 'vodka', 'walnuts', 'warm', 'warm water', 'wasabi', 'water', 'water all', 'water all purpose', 'water all purpose flour', 'water butter', 'water chestnuts', 'water cooking', 'water corn', 'water corn starch', 'water fresh', 'water garlic', 'water green', 'water green onions', 'water ground', 'water large', 'water oil', 'water red', 'water rice', 'water salt', 'water sesame', 'water sesame oil', 'water soy', 'water soy sauce', 'water sugar', 'water vegetable', 'water vegetable oil', 'water white', 'watercress', 'wedge', 'wedges', 'wheat', 'wheat flour', 'wheat tortillas', 'whipped', 'whipped cream', 'whipping', 'whipping cream', 'whiskey', 'white', 'white beans', 'white bread', 'white miso', 'white onion', 'white onion garlic', 'white pepper', 'white rice', 'white sesame', 'white sesame seeds', 'white sugar', 'white vinegar', 'white wine', 'white wine garlic', 'white wine vinegar', 'whites', 'whole', 'whole grain', 'whole kernel', 'whole kernel corn', 'whole milk', 'whole peeled', 'whole peeled tomatoes', 'whole wheat', 'whole wheat flour', 'whole wheat tortillas', 'wine', 'wine corn', 'wine corn starch', 'wine fresh', 'wine garlic', 'wine garlic cloves', 'wine salt', 'wine sesame', 'wine sesame oil', 'wine soy', 'wine soy sauce', 'wine vinegar', 'wine vinegar garlic', 'wings', 'with', 'wonton', 'wonton wrappers', 'worcestershire', 'worcestershire sauce', 'wrappers', 'yeast', 'yellow', 'yellow bell', 'yellow bell pepper', 'yellow corn', 'yellow corn meal', 'yellow onion', 'yellow onion garlic', 'yellow squash', 'yoghurt', 'yogurt', 'yogurt fresh', 'yogurt lemon', 'yolks', 'yukon', 'yukon gold', 'yukon gold potatoes', 'zest', 'zucchini']\n"
     ]
    }
   ],
   "source": [
    "print(vectorizer.get_feature_names())"
   ]
  },
  {
   "cell_type": "code",
   "execution_count": 33,
   "metadata": {},
   "outputs": [],
   "source": [
    "X_train = vectorizer.transform(recipes).toarray()\n",
    "Y_train = labels"
   ]
  },
  {
   "cell_type": "code",
   "execution_count": 34,
   "metadata": {},
   "outputs": [
    {
     "data": {
      "text/plain": [
       "LogisticRegression(C=1.0, class_weight=None, dual=False, fit_intercept=True,\n",
       "          intercept_scaling=1, max_iter=100, multi_class='ovr', n_jobs=1,\n",
       "          penalty='l2', random_state=None, solver='liblinear', tol=0.0001,\n",
       "          verbose=0, warm_start=False)"
      ]
     },
     "execution_count": 34,
     "metadata": {},
     "output_type": "execute_result"
    }
   ],
   "source": [
    "from sklearn.linear_model import LogisticRegression\n",
    "clf = LogisticRegression()\n",
    "clf.fit(X_train, Y_train)"
   ]
  },
  {
   "cell_type": "code",
   "execution_count": 35,
   "metadata": {},
   "outputs": [],
   "source": [
    "from sklearn.pipeline import Pipeline\n",
    "LogReg_model = Pipeline([('vectorizer', vectorizer),('LR', clf)])"
   ]
  },
  {
   "cell_type": "code",
   "execution_count": 36,
   "metadata": {},
   "outputs": [],
   "source": [
    "import pickle\n",
    "filename = 'LogReg_ngram.sav'\n",
    "pickle.dump(LogReg_model, open(filename,'wb'))"
   ]
  },
  {
   "cell_type": "code",
   "execution_count": 13,
   "metadata": {},
   "outputs": [
    {
     "name": "stdout",
     "output_type": "stream",
     "text": [
      "What is your recipe? \n",
      "> LogReg_v1 = pickle.load(open('../models/Log_Reg_v1/LogReg_v1.sav', 'rb')) y_pred = LogReg_v1.predict(X_test) print(metrics.classification_report(y_test, y_pred))\n",
      "\n",
      "Identified Ingredients: \n",
      "> [array([], dtype='<U355')]\n",
      "\n",
      "Predicted Cuisine Type: \n",
      "> italian\n",
      "\n",
      "====================================\n",
      "What is your recipe? \n",
      "> 1 cup plain Greek yogurt or sour cream Juice of 1 Lime plus more for garnish 1 cup fresh cilantro leaves and stems 1 finely chopped green onions (aka scallions) plus more for garnish kosher salt 3 pounds bone-in chicken breast or thigh pieces 3 dried chile de arbol 8 garlic cloves divided 2 bay leaves 2 teaspoons black peppercorns 2 tablespoons coconut, grapeseed, or peanut oil 1 tablespoon unsalted butter 1/2 medium red onion finely chopped 1 red, orange, or yellow bell pepper finely chopped 1 inch piece fresh ginger peeled and grated 3/4 teaspoon smoked paprika 1/2 cup freshly squeezed lime juice 1/3 cup 100% pure pineapple juice 1/4 cup red wine vinegar 1/4 cup low-sodium soy sauce 1 to 2 serrano or Thai chile  sliced and seeded (if desired), optional Sambal or Chile-garlic sauce for serving 10 corn tortillas\n",
      "\n",
      "Identified Ingredients: \n",
      "> [array(['garlic', 'pepper', 'onions', 'salt', 'vinegar', 'orange',\n",
      "       'paprika', 'juice', 'onion', 'oil', 'chicken', 'butter', 'ginger',\n",
      "       'scallions', 'peppercorns', 'sauce', 'cilantro', 'serrano', 'lime',\n",
      "       'wine', 'tortillas', 'cream', 'leaves', 'chile', 'pineapple',\n",
      "       'coconut', 'corn', 'red', 'soy', 'peanut'], dtype='<U355')]\n",
      "\n",
      "Predicted Cuisine Type: \n",
      "> thai\n",
      "\n",
      "====================================\n",
      "What is your recipe? \n",
      "> quit\n"
     ]
    }
   ],
   "source": [
    "input_recipe = input(\"What is your recipe? \\n> \")\n",
    "while input_recipe != 'quit':\n",
    "    input_recipe = input_recipe.lower()\n",
    "    X_input = vectorizer.transform([input_recipe]).toarray()\n",
    "    prediction = clf.predict(X_input)[0]\n",
    "    \n",
    "    print('\\nIdentified Ingredients: \\n> %s'%vectorizer.inverse_transform(X_input))\n",
    "    \n",
    "    print('\\nPredicted Cuisine Type: \\n> %s'%prediction)\n",
    "    print('\\n====================================')\n",
    "    \n",
    "    input_recipe = input(\"What is your recipe? \\n> \")"
   ]
  },
  {
   "cell_type": "code",
   "execution_count": 40,
   "metadata": {},
   "outputs": [
    {
     "name": "stdout",
     "output_type": "stream",
     "text": [
      "What is your recipe? \n",
      "> Preheat the oven to 350 degrees F (175 degrees C). Sprinkle 3 tablespoons of brown sugar over the bottom of a small saucepan or skillet. Cook over medium heat until melted. Stir in water until sugar is completely dissolved. Heat to between 234 and 240 degrees F (112 to 116 degrees C), or until a small amount of syrup dropped into cold water forms a soft ball that flattens when removed from the water and placed on a flat surface. Pour the syrup into a round baking dish or deep dish pie plate and spread to coat the bottom. Make a layer of bananas on top of the melted sugar. In a medium bowl, stir together the whole wheat flour, wheat germ, oats and 1 cup of brown sugar. Mix in the margarine using your hands, pinching it into small pieces to make a crumbly dough. Sprinkle half of this over the bananas in the dish and pat down. Top with the remaining bananas and sprinkle with about half of the cinnamon. Spread the rest of the dough over the bananas and pat the pie smooth. Sprinkle remaining cinnamon over the top. Bake for 45 minutes in the preheated oven, until the pie topping is toasted and a toothpick inserted into the center comes out clean.\n",
      "\n",
      "Identified Ingredients: \n",
      "> [array(['and', 'baking', 'bananas', 'brown', 'brown sugar', 'cinnamon',\n",
      "       'cold', 'cold water', 'cup', 'dough', 'flat', 'flour', 'for',\n",
      "       'half', 'in', 'into', 'margarine', 'medium', 'melted', 'mix',\n",
      "       'oats', 'of', 'or', 'pie', 'pieces', 'small', 'soft', 'sugar',\n",
      "       'syrup', 'tablespoons', 'toasted', 'water', 'wheat', 'wheat flour',\n",
      "       'whole', 'whole wheat', 'whole wheat flour', 'with'], dtype='<U33')]\n",
      "\n",
      "Cuisine Probabilities:\n",
      "> brazilian: 0%\n",
      "> british: 4%\n",
      "> cajun_creole: 0%\n",
      "> chinese: 6%\n",
      "> filipino: 0%\n",
      "> french: 0%\n",
      "> greek: 0%\n",
      "> indian: 0%\n",
      "> irish: 0%\n",
      "> italian: 0%\n",
      "> jamaican: 82%\n",
      "> japanese: 0%\n",
      "> korean: 0%\n",
      "> mexican: 0%\n",
      "> moroccan: 0%\n",
      "> russian: 0%\n",
      "> southern_us: 5%\n",
      "> spanish: 0%\n",
      "> thai: 0%\n",
      "> vietnamese: 0%\n"
     ]
    }
   ],
   "source": [
    "input_recipe = input(\"What is your recipe? \\n> \")\n",
    "input_recipe = input_recipe.lower()\n",
    "X_input = vectorizer.transform([input_recipe]).toarray()\n",
    "prob = clf.predict_proba(X_input)[0]\n",
    "classes = clf.classes_\n",
    "\n",
    "print('\\nIdentified Ingredients: \\n> %s'%vectorizer.inverse_transform(X_input))\n",
    "\n",
    "print('\\nCuisine Probabilities:')\n",
    "for i in range(len(prob)):\n",
    "    print('> %s: %s%%'%(classes[i], int(prob[i]*100)))"
   ]
  },
  {
   "cell_type": "code",
   "execution_count": null,
   "metadata": {},
   "outputs": [],
   "source": []
  },
  {
   "cell_type": "code",
   "execution_count": null,
   "metadata": {},
   "outputs": [],
   "source": []
  }
 ],
 "metadata": {
  "kernelspec": {
   "display_name": "Python 3",
   "language": "python",
   "name": "python3"
  },
  "language_info": {
   "codemirror_mode": {
    "name": "ipython",
    "version": 3
   },
   "file_extension": ".py",
   "mimetype": "text/x-python",
   "name": "python",
   "nbconvert_exporter": "python",
   "pygments_lexer": "ipython3",
   "version": "3.6.5"
  }
 },
 "nbformat": 4,
 "nbformat_minor": 2
}
