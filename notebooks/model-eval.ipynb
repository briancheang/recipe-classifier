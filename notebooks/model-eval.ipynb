{
 "cells": [
  {
   "cell_type": "code",
   "execution_count": 1,
   "metadata": {
    "collapsed": true
   },
   "outputs": [],
   "source": [
    "import pickle\n",
    "import flask\n",
    "import numpy as np\n",
    "import pandas as pd\n",
    "from numpy import linalg as LA\n",
    "%matplotlib inline\n",
    "import matplotlib.pyplot as plt"
   ]
  },
  {
   "cell_type": "code",
   "execution_count": 2,
   "metadata": {},
   "outputs": [],
   "source": [
    "import pickle\n",
    "import flask\n",
    "import numpy\n",
    "\n",
    "# loading data and predicted/testing labels from a file we created earlier\n",
    "vectors = pickle.load(open(\"data.p\", \"rb\"))\n",
    "# Baseline Model\n",
    "pred = pd.read_json('pred.json')\n",
    "test = pd.read_json('test.json')\n",
    "# Naive Bayes Model\n",
    "pred = pd.read_json('pred.json')\n",
    "test = pd.read_json('test.json')\n",
    "# Frank Model\n",
    "pred = pd.read_json('pred.json')\n",
    "test = pd.read_json('test.json')\n",
    "\n",
    "# TO-DO\n",
    "#1. average ingredients vector for each cuisine\n",
    "#2a. calculate distance between average vectors to set weight (???) look online\n",
    "#2b. use mean absolute error/mean squared error (???) look online\n",
    "\n",
    "#Later: Evaluate accuracy when (eg. 30% Chinese, 70% Japanese)\n",
    "\n",
    "#print(model.predict(['salmon tomatoes']))\n",
    "#print(vectors[0])\n",
    "\n",
    "string_names = ['italian', 'mexican', 'southern_us', 'indian', 'chinese', 'french', 'cajun_creole',\n",
    "                'thai', 'japanese', 'greek', 'spanish', 'korean', 'vietnamese', 'moroccan', 'british', \n",
    "                'filipino', 'irish', 'jamaican', 'russian', 'brazilian']\n",
    "\n",
    "count_dict = {}\n",
    "\n",
    "total_dict = {}\n",
    "average_dict = {}\n",
    "features = len(vectors[0]['vector'])\n",
    "\n",
    "for str in string_names:\n",
    "    if str not in average_dict:\n",
    "        average_dict[str] = ([0] * features)\n",
    "        total_dict[str] = ([0] * features)\n",
    "    if str not in count_dict:\n",
    "        count_dict[str] = 0\n",
    "\n",
    "for recipe in vectors:\n",
    "    total_dict[recipe['cuisine']] += recipe['vector']\n",
    "    count_dict[recipe['cuisine']] += 1\n",
    "\n",
    "for cuisine, average_arr in average_dict.items():\n",
    "    average_dict[cuisine] = total_dict[cuisine]/count_dict[cuisine]"
   ]
  },
  {
   "cell_type": "code",
   "execution_count": 3,
   "metadata": {
    "collapsed": true
   },
   "outputs": [],
   "source": [
    "# Initialization of Global Variables\n",
    "cuisine_to_ingredients = average_dict\n",
    "n_cuisines = len(cuisine_to_ingredients.keys())\n",
    "cuisine_types = list(cuisine_to_ingredients.keys())\n",
    "\n",
    "# Create Similarity Matrix\n",
    "def create_sim_mat(sim_method, n_cuis, cuis_types, cuis_to_ingred):\n",
    "    \"\"\"Returns a numpy array of shape n_cuisines by n_cuisines such that the \n",
    "    entry (i,j) indicates the similarity between cuisines i and j.\n",
    "    \n",
    "    Note: Diagonals are set to 0.0.\n",
    "    \n",
    "    Params: {sim_method: Function (of some similarity measure),\n",
    "             n_cuis: Integer,\n",
    "             cuis_types: List,\n",
    "             cuis_to_ingred: Dict}\n",
    "    Returns: Numpy array\n",
    "    \"\"\"\n",
    "    matrix = np.zeros((n_cuis,n_cuis))\n",
    "    for x in range(0,n_cuis):\n",
    "        for y in range(0,n_cuis):\n",
    "            if x == y:\n",
    "                matrix[x,y] = 0.0\n",
    "            else:\n",
    "                matrix[x,y] = sim_method(cuis_types[x], cuis_types[y], cuis_to_ingred)\n",
    "    return matrix"
   ]
  },
  {
   "cell_type": "markdown",
   "metadata": {},
   "source": [
    "## Minkowski Distance (CURRENTLY NOT USED)\n",
    "\n",
    "The Minkowski distance is a generalized form of the Euclidean distance (if p=2) and the Manhattan distance (if p=1).\n",
    "\n",
    "$ \\left(\\sum_{i=1}^n |x_i-y_i|^p\\right)^{1/p} $"
   ]
  },
  {
   "cell_type": "markdown",
   "metadata": {
    "collapsed": true
   },
   "source": [
    "Set exponent to 1 or 2 for Euclidean or Manhattan, or otherwise for Minkowski\n",
    "exp = 1\n",
    "\n",
    "def minkowski(cuis1, cuis2, cuis_to_ingred, p):\n",
    "    \"\"\"Returns a float giving similarity based on Minkowski Distance of \n",
    "       the two cuisine types.\n",
    "    \n",
    "    Params: {cuis1: String,\n",
    "             cuis2: String,\n",
    "             cuis_to_ingred: Dict\n",
    "             p: Integer}\n",
    "    Returns: Float (Jaccard similarity of the two cuisine types.)\n",
    "    \"\"\"\n",
    "    cuisine1 = cuis_to_ingred[cuis1]\n",
    "    cuisine2 = cuis_to_ingred[cuis2]\n",
    "    distance = 0.0\n",
    "    for i in range(0,len(cuisine1)):\n",
    "        distance = distance + ((cuisine1[i]-cuisine2[i])**p)**(1.0/p)\n",
    "    sim = 1/distance\n",
    "    return sim"
   ]
  },
  {
   "cell_type": "markdown",
   "metadata": {},
   "source": [
    " Testing\n",
    "print(\"Minkowski Similarity: Chinese vs. Korean\")\n",
    "print(\"======\")\n",
    "test1 = minkowski('chinese', 'korean', cuisine_to_ingredients, exp)\n",
    "print(test1)"
   ]
  },
  {
   "cell_type": "markdown",
   "metadata": {},
   "source": [
    " Plot Heatmap of Simliarity Matrix\n",
    "distance_sim_matrix = create_sim_mat(minkowski, n_cuisines, cuisine_types, cuisine_to_ingredients, exp)\n",
    "plt.imshow(distance_sim_matrix, interpolation='none',\n",
    "           cmap=plt.cm.Greys)\n",
    "plt.colorbar()\n",
    "\n",
    "plt.xticks(range(n_cuisines), cuisine_types, rotation=90)\n",
    "plt.yticks(range(n_cuisines), cuisine_types)\n",
    "plt.show()"
   ]
  },
  {
   "cell_type": "markdown",
   "metadata": {},
   "source": [
    "## Jaccard Similarity\n",
    "\n",
    "$ J(A, B) = \\frac{|A \\cap B|}{|A \\cup B|} $\n",
    "\n",
    "In this case,\n",
    "\n",
    "$ J(A, B) = \\frac{\\sum_{x \\in \\text{ingredients}} x \\in A \\,\\text{and}\\, x \\in B}\n",
    "{\\sum_{x \\in \\text{ingredients}}x \\in A \\,\\text{or}\\, x \\in B} $"
   ]
  },
  {
   "cell_type": "code",
   "execution_count": 4,
   "metadata": {
    "collapsed": true
   },
   "outputs": [],
   "source": [
    "def jaccard(cuis1, cuis2, cuis_to_ingred):\n",
    "    \"\"\"Returns a float giving the Jaccard similarity of \n",
    "       the two cuisine types.\n",
    "    \n",
    "    Params: {cuis1: String,\n",
    "             cuis2: String,\n",
    "             cuis_to_ingred: Dict}\n",
    "    Returns: Float (Jaccard similarity of the two cuisine types.)\n",
    "    \"\"\"\n",
    "    cuisine1 = cuis_to_ingred[cuis1]\n",
    "    cuisine2 = cuis_to_ingred[cuis2]\n",
    "\n",
    "    j_and, j_or = 0.0,0.0\n",
    "    for i in range(0,len(cuisine1)):\n",
    "        if (cuisine1[i]>0) and (cuisine2[i]>0):\n",
    "            j_and += 1.0\n",
    "            j_or += 1.0\n",
    "        elif (cuisine1[i]>0) or (cuisine2[i]>0):\n",
    "            j_or += 1.0\n",
    "    j_sim = j_and/j_or\n",
    "    return j_sim"
   ]
  },
  {
   "cell_type": "code",
   "execution_count": 5,
   "metadata": {},
   "outputs": [
    {
     "name": "stdout",
     "output_type": "stream",
     "text": [
      "Jaccard Similarity: Chinese vs. Korean\n",
      "======\n",
      "0.45991253644314867\n"
     ]
    }
   ],
   "source": [
    "# Testing\n",
    "print(\"Jaccard Similarity: Chinese vs. Korean\")\n",
    "print(\"======\")\n",
    "test2 = jaccard('chinese', 'korean', cuisine_to_ingredients)\n",
    "print(test2)"
   ]
  },
  {
   "cell_type": "code",
   "execution_count": 6,
   "metadata": {},
   "outputs": [
    {
     "data": {
      "image/png": "[encoded data removed]",
      "text/plain": [
       "<matplotlib.figure.Figure at 0x113aed6a0>"
      ]
     },
     "metadata": {},
     "output_type": "display_data"
    }
   ],
   "source": [
    "# Plot Heatmap of Simliarity Matrix\n",
    "j_sim_matrix = create_sim_mat(jaccard, n_cuisines, cuisine_types, cuisine_to_ingredients)\n",
    "plt.imshow(j_sim_matrix, interpolation='none',\n",
    "           cmap=plt.cm.Greys)\n",
    "plt.colorbar()\n",
    "\n",
    "plt.xticks(range(n_cuisines), cuisine_types, rotation=90)\n",
    "plt.yticks(range(n_cuisines), cuisine_types)\n",
    "plt.show()"
   ]
  },
  {
   "cell_type": "markdown",
   "metadata": {},
   "source": [
    "## Generalized Jaccard Similarity\n",
    "\n",
    "The similarity measure that we took above doesn't take into account how often each ingredient appears in recipes with a certain cuisine label. To account for this, we can use Generalized Jaccard, an extension of Jaccard to weighted sets.\n",
    "\n",
    "For each ingredient $x$ and each cuisine $C$, we compute the frequency weight $\\text{tf}(x, C)$ as the ratio between the number of times recipes with label $C$ contains $x$, and the total number of ingredients used in $C$.\n",
    "\n",
    "Generalized Jaccard is:\n",
    "\n",
    "$ GJ(A, B) = \\frac{\\sum_{x \\in \\text{ingredients}} \\text{min}(\\text{tf}(x, A), \\text{tf}(x, B))}\n",
    "{\\sum_{x \\in \\text{ingredients}} \\text{max}(\\text{tf}(x, A), \\text{tf}(x, B))} $\n",
    "\n",
    "Note that Jaccard is equivalent to Generalized Jaccard if the weights are binarized by truncating all positive weights to 1."
   ]
  },
  {
   "cell_type": "code",
   "execution_count": 7,
   "metadata": {
    "collapsed": true
   },
   "outputs": [],
   "source": [
    "def g_jaccard(cuis1, cuis2, cuis_to_ingred):\n",
    "    \"\"\"Returns a float giving the Generalized Jaccard similarity of \n",
    "       the two cuisine types.\n",
    "    \n",
    "    Params: {cuis1: String,\n",
    "             cuis2: String,\n",
    "             cuis_to_ingred: Dict}\n",
    "    Returns: Float (Generalized Jaccard similarity of the two cuisine types.)\n",
    "    \"\"\"\n",
    "    cuisine1 = cuis_to_ingred[cuis1]\n",
    "    cuisine2 = cuis_to_ingred[cuis2]\n",
    "    den1 = float(np.sum(cuisine1))\n",
    "    den2 = float(np.sum(cuisine2))\n",
    "\n",
    "    gj_num, gj_den = 0.0,0.0\n",
    "    for i in range(0,len(cuisine1)):\n",
    "        tf1 = float(cuisine1[i])/den1\n",
    "        tf2 = float(cuisine2[i])/den2\n",
    "        gj_num += min(tf1, tf2)\n",
    "        gj_den += max(tf1, tf2)\n",
    "    gj_sim = gj_num/gj_den\n",
    "    return gj_sim"
   ]
  },
  {
   "cell_type": "code",
   "execution_count": 8,
   "metadata": {},
   "outputs": [
    {
     "name": "stdout",
     "output_type": "stream",
     "text": [
      "Generalized Jaccard Similarity: Chinese vs. Korean\n",
      "======\n",
      "0.47905040627249207\n"
     ]
    }
   ],
   "source": [
    "# Testing\n",
    "print(\"Generalized Jaccard Similarity: Chinese vs. Korean\")\n",
    "print(\"======\")\n",
    "test3 = g_jaccard('chinese', 'korean', cuisine_to_ingredients)\n",
    "print(test3)"
   ]
  },
  {
   "cell_type": "code",
   "execution_count": 9,
   "metadata": {},
   "outputs": [
    {
     "data": {
      "image/png": "[encoded data removed]",
      "text/plain": [
       "<matplotlib.figure.Figure at 0x113213f28>"
      ]
     },
     "metadata": {},
     "output_type": "display_data"
    }
   ],
   "source": [
    "# Plot Heatmap of Simliarity Matrix\n",
    "gj_sim_matrix = create_sim_mat(g_jaccard, n_cuisines, cuisine_types, cuisine_to_ingredients)\n",
    "plt.imshow(gj_sim_matrix, interpolation='none',\n",
    "           cmap=plt.cm.Greys)\n",
    "plt.colorbar()\n",
    "\n",
    "plt.xticks(range(n_cuisines), cuisine_types, rotation=90)\n",
    "plt.yticks(range(n_cuisines), cuisine_types)\n",
    "plt.show()"
   ]
  },
  {
   "cell_type": "markdown",
   "metadata": {},
   "source": [
    "## Cosine Similarity\n",
    "\n",
    "$ cossim(\\vec{a}, \\vec{b}) = \\frac{\\vec{a} \\cdot \\vec{b}}{\\|\\vec{a}\\| \\cdot \\|\\vec{b}\\|}$\n",
    "\n",
    "Specifically, focusing on the numerator...\n",
    "\n",
    "$ \\vec{a} \\cdot \\vec{b} = \\sum_{i} {a_i} * {b_i} $"
   ]
  },
  {
   "cell_type": "code",
   "execution_count": 10,
   "metadata": {
    "collapsed": true
   },
   "outputs": [],
   "source": [
    "def cossim(cuis1, cuis2, cuis_to_ingred):\n",
    "    \"\"\"Returns a float giving the Cosine similarity of \n",
    "       the two cuisine types.\n",
    "    \n",
    "    Params: {cuis1: String,\n",
    "             cuis2: String,\n",
    "             cuis_to_ingred: Dict}\n",
    "    Returns: Float (Cosine similarity of the two cuisine types.)\n",
    "    \"\"\"\n",
    "    cuisine1 = cuis_to_ingred[cuis1]\n",
    "    cuisine2 = cuis_to_ingred[cuis2]\n",
    "    cos_sim = (cuisine1*cuisine2).sum()\n",
    "    #with denominator (consideration of vector magnitudes)\n",
    "    cuis1_mag = LA.norm(cuisine1)\n",
    "    cuis2_mag = LA.norm(cuisine2)\n",
    "    cos_sim = cos_sim/(cuis1_mag*cuis2_mag)\n",
    "    return cos_sim"
   ]
  },
  {
   "cell_type": "code",
   "execution_count": 11,
   "metadata": {},
   "outputs": [
    {
     "name": "stdout",
     "output_type": "stream",
     "text": [
      "Cosine Similarity: Chinese vs. Korean\n",
      "======\n",
      "0.862525172617\n"
     ]
    }
   ],
   "source": [
    "# Testing\n",
    "print(\"Cosine Similarity: Chinese vs. Korean\")\n",
    "print(\"======\")\n",
    "test4 = cossim('chinese', 'korean', cuisine_to_ingredients)\n",
    "print(test4)"
   ]
  },
  {
   "cell_type": "code",
   "execution_count": 12,
   "metadata": {},
   "outputs": [
    {
     "data": {
      "image/png": "[encoded data removed]",
      "text/plain": [
       "<matplotlib.figure.Figure at 0x1131d1898>"
      ]
     },
     "metadata": {},
     "output_type": "display_data"
    }
   ],
   "source": [
    "# Plot Heatmap of Simliarity Matrix\n",
    "cos_sim_matrix = create_sim_mat(cossim, n_cuisines, cuisine_types, cuisine_to_ingredients)\n",
    "plt.imshow(cos_sim_matrix, interpolation='none',\n",
    "           cmap=plt.cm.Greys)\n",
    "plt.colorbar()\n",
    "\n",
    "plt.xticks(range(n_cuisines), cuisine_types, rotation=90)\n",
    "plt.yticks(range(n_cuisines), cuisine_types)\n",
    "plt.show()"
   ]
  },
  {
   "cell_type": "code",
   "execution_count": 13,
   "metadata": {},
   "outputs": [
    {
     "data": {
      "image/png": "[encoded data removed]",
      "text/plain": [
       "<matplotlib.figure.Figure at 0x113298940>"
      ]
     },
     "metadata": {},
     "output_type": "display_data"
    },
    {
     "name": "stdout",
     "output_type": "stream",
     "text": [
      "Average Similarity\n",
      "======\n",
      "0.44172032731\n"
     ]
    }
   ],
   "source": [
    "# Combining the 3 Simliarity Matrices\n",
    "comb_sim_matrix = (j_sim_matrix + gj_sim_matrix + cos_sim_matrix)/3.0\n",
    "plt.imshow(comb_sim_matrix, interpolation='none',\n",
    "           cmap=plt.cm.Greys)\n",
    "plt.colorbar()\n",
    "\n",
    "plt.xticks(range(n_cuisines), cuisine_types, rotation=90)\n",
    "plt.yticks(range(n_cuisines), cuisine_types)\n",
    "plt.show()\n",
    "\n",
    "# Average Similarity\n",
    "print(\"Average Similarity\")\n",
    "print(\"======\")\n",
    "avg_sim = comb_sim_matrix.sum()/(n_cuisines**2-n_cuisines)\n",
    "print(avg_sim)"
   ]
  },
  {
   "cell_type": "code",
   "execution_count": 14,
   "metadata": {},
   "outputs": [
    {
     "name": "stdout",
     "output_type": "stream",
     "text": [
      "{'italian': 0, 'mexican': 1, 'southern_us': 2, 'indian': 3, 'chinese': 4, 'french': 5, 'cajun_creole': 6, 'thai': 7, 'japanese': 8, 'greek': 9, 'spanish': 10, 'korean': 11, 'vietnamese': 12, 'moroccan': 13, 'british': 14, 'filipino': 15, 'irish': 16, 'jamaican': 17, 'russian': 18, 'brazilian': 19}\n"
     ]
    }
   ],
   "source": [
    "# Build inverted index\n",
    "def build_inv_idx(lst):\n",
    "    \"\"\" Builds an inverted index from the messages.\n",
    "    \n",
    "    Params: {lst: List}\n",
    "    Returns: Dict (an inverted index of cuisine types)\n",
    "    \"\"\"\n",
    "    inverted_idx = {}\n",
    "    for idx in range(0,len(lst)):\n",
    "        inverted_idx[lst[idx]] = idx\n",
    "    return inverted_idx\n",
    "\n",
    "cuis_inv_idx = build_inv_idx(cuisine_types)\n",
    "print(cuis_inv_idx)"
   ]
  },
  {
   "cell_type": "code",
   "execution_count": 15,
   "metadata": {
    "collapsed": true
   },
   "outputs": [],
   "source": [
    "# EVALUATION\n",
    "def eval(pred, test, sim_cutoff):\n",
    "    pred_list = []\n",
    "    test_list = []\n",
    "    count = 0\n",
    "    for index, row in pred.iterrows():\n",
    "        pred_list.append(row[0])\n",
    "    for index, row in test.iterrows():\n",
    "        test_list.append(row[0])\n",
    "    for i in range(0, len(pred_list)):\n",
    "        #print(pred_list[i])\n",
    "        #print(test_list[i])\n",
    "        if(pred_list[i] == test_list[i]):\n",
    "            count += 1.0\n",
    "        else:\n",
    "            a = cuis_inv_idx[pred_list[i]]\n",
    "            b = cuis_inv_idx[test_list[i]]\n",
    "            sim = comb_sim_matrix[a,b]\n",
    "            if sim > sim_cutoff:\n",
    "                count += sim**2 # TWEAK REWARD HERE\n",
    "    accuracy = count/len(pred_list)\n",
    "    return accuracy"
   ]
  },
  {
   "cell_type": "code",
   "execution_count": 17,
   "metadata": {},
   "outputs": [
    {
     "name": "stdout",
     "output_type": "stream",
     "text": [
      "Baseline Model Accuracy\n",
      "==============================\n",
      "No cutoff:\n",
      "0.0\n",
      "=======================\n",
      "Average cutoff:\n",
      "0.0\n",
      "=======================\n",
      "60% cutoff:\n",
      "0.0\n",
      "=======================\n",
      "65% cutoff:\n",
      "0.0\n",
      "=======================\n",
      "No reward:\n",
      "0.0\n",
      "=======================\n",
      "\n",
      "\n",
      "Naive Bayes Model Accuracy\n",
      "==============================\n",
      "No cutoff:\n",
      "0.801934844172\n",
      "=======================\n",
      "Average cutoff:\n",
      "0.796175189013\n",
      "=======================\n",
      "60% cutoff:\n",
      "0.752942932534\n",
      "=======================\n",
      "65% cutoff:\n",
      "0.730433415103\n",
      "=======================\n",
      "No reward:\n",
      "0.7151455127228402\n",
      "=======================\n",
      "\n",
      "\n",
      "Frank Model Accuracy\n",
      "==============================\n",
      "No cutoff:\n",
      "0.0\n",
      "=======================\n",
      "Average cutoff:\n",
      "0.0\n",
      "=======================\n",
      "60% cutoff:\n",
      "0.0\n",
      "=======================\n",
      "65% cutoff:\n",
      "0.0\n",
      "=======================\n",
      "No reward:\n",
      "0.0\n",
      "=======================\n"
     ]
    }
   ],
   "source": [
    "# Setting Cutoff Values\n",
    "cutoff_none = 0.0\n",
    "cutoff_avg = avg_sim\n",
    "cutoff_high = 0.6\n",
    "cutoff_test = 0.65\n",
    "cutoff_noreward = 1.0\n",
    "\n",
    "print(\"Baseline Model Accuracy\")\n",
    "print(\"==============================\")\n",
    "print(\"No cutoff:\")\n",
    "print(\"0.0\")\n",
    "print(\"=======================\")\n",
    "\n",
    "print(\"Average cutoff:\")\n",
    "print(\"0.0\")\n",
    "print(\"=======================\")\n",
    "\n",
    "print(\"60% cutoff:\")\n",
    "print(\"0.0\")\n",
    "print(\"=======================\")\n",
    "\n",
    "print(\"65% cutoff:\")\n",
    "print(\"0.0\")\n",
    "print(\"=======================\")\n",
    "\n",
    "print(\"No reward:\")\n",
    "print(\"0.0\")\n",
    "print(\"=======================\")\n",
    "\n",
    "print(\"\")\n",
    "print(\"\")\n",
    "\n",
    "print(\"Naive Bayes Model Accuracy\")\n",
    "print(\"==============================\")\n",
    "print(\"No cutoff:\")\n",
    "print(eval(pred, test, cutoff_none))\n",
    "print(\"=======================\")\n",
    "\n",
    "print(\"Average cutoff:\")\n",
    "print(eval(pred, test, cutoff_avg))\n",
    "print(\"=======================\")\n",
    "\n",
    "print(\"60% cutoff:\")\n",
    "print(eval(pred, test, cutoff_high))\n",
    "print(\"=======================\")\n",
    "\n",
    "print(\"65% cutoff:\")\n",
    "print(eval(pred, test, cutoff_test))\n",
    "print(\"=======================\")\n",
    "\n",
    "print(\"No reward:\")\n",
    "print(eval(pred, test, cutoff_noreward))\n",
    "print(\"=======================\")\n",
    "\n",
    "\n",
    "print(\"\")\n",
    "print(\"\")\n",
    "\n",
    "print(\"Frank Model Accuracy\")\n",
    "print(\"==============================\")\n",
    "print(\"No cutoff:\")\n",
    "print(\"0.0\")\n",
    "print(\"=======================\")\n",
    "\n",
    "print(\"Average cutoff:\")\n",
    "print(\"0.0\")\n",
    "print(\"=======================\")\n",
    "\n",
    "print(\"60% cutoff:\")\n",
    "print(\"0.0\")\n",
    "print(\"=======================\")\n",
    "\n",
    "print(\"65% cutoff:\")\n",
    "print(\"0.0\")\n",
    "print(\"=======================\")\n",
    "\n",
    "print(\"No reward:\")\n",
    "print(\"0.0\")\n",
    "print(\"=======================\")"
   ]
  },
  {
   "cell_type": "code",
   "execution_count": null,
   "metadata": {},
   "outputs": [],
   "source": []
  },
  {
   "cell_type": "code",
   "execution_count": null,
   "metadata": {
    "collapsed": true
   },
   "outputs": [],
   "source": []
  }
 ],
 "metadata": {
  "kernelspec": {
   "display_name": "Python 3",
   "language": "python",
   "name": "python3"
  },
  "language_info": {
   "codemirror_mode": {
    "name": "ipython",
    "version": 3
   },
   "file_extension": ".py",
   "mimetype": "text/x-python",
   "name": "python",
   "nbconvert_exporter": "python",
   "pygments_lexer": "ipython3",
   "version": "3.6.1"
  }
 },
 "nbformat": 4,
 "nbformat_minor": 2
}
