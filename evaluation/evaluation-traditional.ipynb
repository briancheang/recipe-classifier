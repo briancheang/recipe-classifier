{
 "cells": [
  {
   "cell_type": "code",
   "execution_count": 1,
   "metadata": {},
   "outputs": [],
   "source": [
    "import pandas as pd\n",
    "import pickle\n",
    "from sklearn import metrics"
   ]
  },
  {
   "cell_type": "code",
   "execution_count": 2,
   "metadata": {},
   "outputs": [],
   "source": [
    "train_df_bow = pd.read_json('../data/train/trainText-75-25-bow.json', lines=True)\n",
    "test_df_bow = pd.read_json('../data/test/testText-75-25-bow.json', lines=True)"
   ]
  },
  {
   "cell_type": "code",
   "execution_count": 3,
   "metadata": {},
   "outputs": [],
   "source": [
    "train_df = pd.read_json('../data/train/trainText-75-25.json', lines=True)\n",
    "test_df = pd.read_json('../data/test/testText-75-25.json', lines=True)"
   ]
  },
  {
   "cell_type": "code",
   "execution_count": 14,
   "metadata": {},
   "outputs": [
    {
     "data": {
      "text/plain": [
       "73775"
      ]
     },
     "execution_count": 14,
     "metadata": {},
     "output_type": "execute_result"
    }
   ],
   "source": [
    "len(train_df)"
   ]
  },
  {
   "cell_type": "code",
   "execution_count": 6,
   "metadata": {},
   "outputs": [],
   "source": [
    "X_test = list(test_df['recipe'])\n",
    "y_test = list(test_df['cuisine'])\n",
    "X_test_bow = list(test_df_bow['recipe'])\n",
    "y_test_bow = list(test_df_bow['cuisine'])"
   ]
  },
  {
   "cell_type": "code",
   "execution_count": 8,
   "metadata": {},
   "outputs": [
    {
     "name": "stdout",
     "output_type": "stream",
     "text": [
      "              precision    recall  f1-score   support\n",
      "\n",
      "   brazilian       0.01      0.01      0.01       117\n",
      "     british       0.01      0.01      0.01       201\n",
      "cajun_creole       0.03      0.03      0.03       387\n",
      "     chinese       0.12      0.12      0.12      3294\n",
      "    filipino       0.01      0.01      0.01       189\n",
      "      french       0.10      0.10      0.10      2205\n",
      "       greek       0.06      0.06      0.06      1544\n",
      "      indian       0.08      0.08      0.08      2119\n",
      "       irish       0.01      0.01      0.01       167\n",
      "     italian       0.18      0.18      0.18      4310\n",
      "    jamaican       0.00      0.00      0.00       132\n",
      "    japanese       0.06      0.06      0.06      1557\n",
      "      korean       0.01      0.00      0.00       208\n",
      "     mexican       0.14      0.14      0.14      3600\n",
      "    moroccan       0.01      0.00      0.01       206\n",
      "     russian       0.01      0.01      0.01       123\n",
      " southern_us       0.05      0.05      0.05      1080\n",
      "     spanish       0.05      0.05      0.05      1251\n",
      "        thai       0.06      0.06      0.06      1706\n",
      "  vietnamese       0.00      0.00      0.00       207\n",
      "\n",
      "   micro avg       0.10      0.10      0.10     24603\n",
      "   macro avg       0.05      0.05      0.05     24603\n",
      "weighted avg       0.10      0.10      0.10     24603\n",
      "\n"
     ]
    }
   ],
   "source": [
    "import random\n",
    "class Baseline:\n",
    "  def __init__(self, counts):\n",
    "    self.counts = counts\n",
    "  def predict(self, recipes):\n",
    "    outputs = []\n",
    "    for r in recipes:\n",
    "        counts = self.counts\n",
    "        i = random.randint(0,sum(counts))\n",
    "        curr = 0\n",
    "        for cuisine in counts.keys():\n",
    "            curr += counts[cuisine]\n",
    "            if curr >= i:\n",
    "                outputs.append(cuisine)\n",
    "                break\n",
    "    return outputs\n",
    "\n",
    "Baseline_model = pickle.load(open('../models/Baseline/Baseline_model.sav', 'rb'))\n",
    "y_pred = Baseline_model.predict(X_test)\n",
    "print(metrics.classification_report(y_test, y_pred))"
   ]
  },
  {
   "cell_type": "code",
   "execution_count": 10,
   "metadata": {},
   "outputs": [
    {
     "name": "stdout",
     "output_type": "stream",
     "text": [
      "              precision    recall  f1-score   support\n",
      "\n",
      "   brazilian       0.00      0.00      0.00       117\n",
      "     british       0.00      0.00      0.00       201\n",
      "cajun_creole       0.00      0.00      0.00       387\n",
      "     chinese       0.00      0.00      0.00      3294\n",
      "    filipino       0.00      0.00      0.00       189\n",
      "      french       0.00      0.00      0.00      2205\n",
      "       greek       0.00      0.00      0.00      1544\n",
      "      indian       0.00      0.00      0.00      2119\n",
      "       irish       0.00      0.00      0.00       167\n",
      "     italian       0.18      1.00      0.30      4310\n",
      "    jamaican       0.00      0.00      0.00       132\n",
      "    japanese       0.00      0.00      0.00      1557\n",
      "      korean       0.00      0.00      0.00       208\n",
      "     mexican       0.00      0.00      0.00      3600\n",
      "    moroccan       0.00      0.00      0.00       206\n",
      "     russian       0.00      0.00      0.00       123\n",
      " southern_us       0.00      0.00      0.00      1080\n",
      "     spanish       0.00      0.00      0.00      1251\n",
      "        thai       0.00      0.00      0.00      1706\n",
      "  vietnamese       0.00      0.00      0.00       207\n",
      "\n",
      "   micro avg       0.18      0.18      0.18     24603\n",
      "   macro avg       0.01      0.05      0.01     24603\n",
      "weighted avg       0.03      0.18      0.05     24603\n",
      "\n"
     ]
    },
    {
     "name": "stderr",
     "output_type": "stream",
     "text": [
      "/Users/briancheang/anaconda2/lib/python2.7/site-packages/sklearn/metrics/classification.py:1143: UndefinedMetricWarning: Precision and F-score are ill-defined and being set to 0.0 in labels with no predicted samples.\n",
      "  'precision', 'predicted', average, warn_for)\n"
     ]
    }
   ],
   "source": [
    "class Baseline2:\n",
    "  def __init__(self):\n",
    "    pass\n",
    "  def predict(self, recipes):\n",
    "    outputs = []\n",
    "    for r in recipes:\n",
    "        outputs.append('italian')\n",
    "    return outputs\n",
    "\n",
    "Baseline_model2 = Baseline2()\n",
    "y_pred = Baseline_model2.predict(X_test)\n",
    "print(metrics.classification_report(y_test, y_pred))"
   ]
  },
  {
   "cell_type": "code",
   "execution_count": 15,
   "metadata": {},
   "outputs": [
    {
     "name": "stdout",
     "output_type": "stream",
     "text": [
      "              precision    recall  f1-score   support\n",
      "\n",
      "   brazilian       0.57      0.17      0.26       117\n",
      "     british       0.42      0.15      0.23       201\n",
      "cajun_creole       0.64      0.62      0.63       387\n",
      "     chinese       0.83      0.86      0.84      3294\n",
      "    filipino       0.50      0.28      0.35       189\n",
      "      french       0.47      0.52      0.49      2205\n",
      "       greek       0.78      0.70      0.74      1544\n",
      "      indian       0.90      0.75      0.82      2119\n",
      "       irish       0.39      0.14      0.21       167\n",
      "     italian       0.62      0.90      0.74      4310\n",
      "    jamaican       0.75      0.42      0.54       132\n",
      "    japanese       0.68      0.44      0.53      1557\n",
      "      korean       0.81      0.42      0.55       208\n",
      "     mexican       0.86      0.79      0.82      3600\n",
      "    moroccan       0.68      0.57      0.62       206\n",
      "     russian       0.65      0.12      0.21       123\n",
      " southern_us       0.54      0.65      0.59      1080\n",
      "     spanish       0.63      0.56      0.59      1251\n",
      "        thai       0.77      0.68      0.72      1706\n",
      "  vietnamese       0.56      0.27      0.36       207\n",
      "\n",
      "   micro avg       0.70      0.70      0.70     24603\n",
      "   macro avg       0.65      0.50      0.54     24603\n",
      "weighted avg       0.71      0.70      0.70     24603\n",
      "\n"
     ]
    }
   ],
   "source": [
    "NB_model_v1 = pickle.load(open('../models/Naive_Bayes_v1/NB_model_v1.sav', 'rb'))\n",
    "y_pred = NB_model_v1.predict(X_test)\n",
    "print(metrics.classification_report(y_test, y_pred))"
   ]
  },
  {
   "cell_type": "code",
   "execution_count": 12,
   "metadata": {},
   "outputs": [
    {
     "ename": "ValueError",
     "evalue": "unsupported pickle protocol: 3",
     "output_type": "error",
     "traceback": [
      "\u001b[0;31m---------------------------------------------------------------------------\u001b[0m",
      "\u001b[0;31mValueError\u001b[0m                                Traceback (most recent call last)",
      "\u001b[0;32m<ipython-input-12-f05eb8c8e053>\u001b[0m in \u001b[0;36m<module>\u001b[0;34m()\u001b[0m\n\u001b[0;32m----> 1\u001b[0;31m \u001b[0mNB_model_v2\u001b[0m \u001b[0;34m=\u001b[0m \u001b[0mpickle\u001b[0m\u001b[0;34m.\u001b[0m\u001b[0mload\u001b[0m\u001b[0;34m(\u001b[0m\u001b[0mopen\u001b[0m\u001b[0;34m(\u001b[0m\u001b[0;34m'../models/Naive_Bayes_v2/NB_model_v2.sav'\u001b[0m\u001b[0;34m,\u001b[0m \u001b[0;34m'rb'\u001b[0m\u001b[0;34m)\u001b[0m\u001b[0;34m)\u001b[0m\u001b[0;34m\u001b[0m\u001b[0m\n\u001b[0m\u001b[1;32m      2\u001b[0m \u001b[0my_pred\u001b[0m \u001b[0;34m=\u001b[0m \u001b[0mNB_model_v2\u001b[0m\u001b[0;34m.\u001b[0m\u001b[0mpredict\u001b[0m\u001b[0;34m(\u001b[0m\u001b[0mX_test\u001b[0m\u001b[0;34m)\u001b[0m\u001b[0;34m\u001b[0m\u001b[0m\n\u001b[1;32m      3\u001b[0m \u001b[0;32mprint\u001b[0m\u001b[0;34m(\u001b[0m\u001b[0mmetrics\u001b[0m\u001b[0;34m.\u001b[0m\u001b[0mclassification_report\u001b[0m\u001b[0;34m(\u001b[0m\u001b[0my_test\u001b[0m\u001b[0;34m,\u001b[0m \u001b[0my_pred\u001b[0m\u001b[0;34m)\u001b[0m\u001b[0;34m)\u001b[0m\u001b[0;34m\u001b[0m\u001b[0m\n",
      "\u001b[0;32m/Users/briancheang/anaconda2/lib/python2.7/pickle.pyc\u001b[0m in \u001b[0;36mload\u001b[0;34m(file)\u001b[0m\n\u001b[1;32m   1382\u001b[0m \u001b[0;34m\u001b[0m\u001b[0m\n\u001b[1;32m   1383\u001b[0m \u001b[0;32mdef\u001b[0m \u001b[0mload\u001b[0m\u001b[0;34m(\u001b[0m\u001b[0mfile\u001b[0m\u001b[0;34m)\u001b[0m\u001b[0;34m:\u001b[0m\u001b[0;34m\u001b[0m\u001b[0m\n\u001b[0;32m-> 1384\u001b[0;31m     \u001b[0;32mreturn\u001b[0m \u001b[0mUnpickler\u001b[0m\u001b[0;34m(\u001b[0m\u001b[0mfile\u001b[0m\u001b[0;34m)\u001b[0m\u001b[0;34m.\u001b[0m\u001b[0mload\u001b[0m\u001b[0;34m(\u001b[0m\u001b[0;34m)\u001b[0m\u001b[0;34m\u001b[0m\u001b[0m\n\u001b[0m\u001b[1;32m   1385\u001b[0m \u001b[0;34m\u001b[0m\u001b[0m\n\u001b[1;32m   1386\u001b[0m \u001b[0;32mdef\u001b[0m \u001b[0mloads\u001b[0m\u001b[0;34m(\u001b[0m\u001b[0mstr\u001b[0m\u001b[0;34m)\u001b[0m\u001b[0;34m:\u001b[0m\u001b[0;34m\u001b[0m\u001b[0m\n",
      "\u001b[0;32m/Users/briancheang/anaconda2/lib/python2.7/pickle.pyc\u001b[0m in \u001b[0;36mload\u001b[0;34m(self)\u001b[0m\n\u001b[1;32m    862\u001b[0m             \u001b[0;32mwhile\u001b[0m \u001b[0;36m1\u001b[0m\u001b[0;34m:\u001b[0m\u001b[0;34m\u001b[0m\u001b[0m\n\u001b[1;32m    863\u001b[0m                 \u001b[0mkey\u001b[0m \u001b[0;34m=\u001b[0m \u001b[0mread\u001b[0m\u001b[0;34m(\u001b[0m\u001b[0;36m1\u001b[0m\u001b[0;34m)\u001b[0m\u001b[0;34m\u001b[0m\u001b[0m\n\u001b[0;32m--> 864\u001b[0;31m                 \u001b[0mdispatch\u001b[0m\u001b[0;34m[\u001b[0m\u001b[0mkey\u001b[0m\u001b[0;34m]\u001b[0m\u001b[0;34m(\u001b[0m\u001b[0mself\u001b[0m\u001b[0;34m)\u001b[0m\u001b[0;34m\u001b[0m\u001b[0m\n\u001b[0m\u001b[1;32m    865\u001b[0m         \u001b[0;32mexcept\u001b[0m \u001b[0m_Stop\u001b[0m\u001b[0;34m,\u001b[0m \u001b[0mstopinst\u001b[0m\u001b[0;34m:\u001b[0m\u001b[0;34m\u001b[0m\u001b[0m\n\u001b[1;32m    866\u001b[0m             \u001b[0;32mreturn\u001b[0m \u001b[0mstopinst\u001b[0m\u001b[0;34m.\u001b[0m\u001b[0mvalue\u001b[0m\u001b[0;34m\u001b[0m\u001b[0m\n",
      "\u001b[0;32m/Users/briancheang/anaconda2/lib/python2.7/pickle.pyc\u001b[0m in \u001b[0;36mload_proto\u001b[0;34m(self)\u001b[0m\n\u001b[1;32m    890\u001b[0m         \u001b[0mproto\u001b[0m \u001b[0;34m=\u001b[0m \u001b[0mord\u001b[0m\u001b[0;34m(\u001b[0m\u001b[0mself\u001b[0m\u001b[0;34m.\u001b[0m\u001b[0mread\u001b[0m\u001b[0;34m(\u001b[0m\u001b[0;36m1\u001b[0m\u001b[0;34m)\u001b[0m\u001b[0;34m)\u001b[0m\u001b[0;34m\u001b[0m\u001b[0m\n\u001b[1;32m    891\u001b[0m         \u001b[0;32mif\u001b[0m \u001b[0;32mnot\u001b[0m \u001b[0;36m0\u001b[0m \u001b[0;34m<=\u001b[0m \u001b[0mproto\u001b[0m \u001b[0;34m<=\u001b[0m \u001b[0;36m2\u001b[0m\u001b[0;34m:\u001b[0m\u001b[0;34m\u001b[0m\u001b[0m\n\u001b[0;32m--> 892\u001b[0;31m             \u001b[0;32mraise\u001b[0m \u001b[0mValueError\u001b[0m\u001b[0;34m,\u001b[0m \u001b[0;34m\"unsupported pickle protocol: %d\"\u001b[0m \u001b[0;34m%\u001b[0m \u001b[0mproto\u001b[0m\u001b[0;34m\u001b[0m\u001b[0m\n\u001b[0m\u001b[1;32m    893\u001b[0m     \u001b[0mdispatch\u001b[0m\u001b[0;34m[\u001b[0m\u001b[0mPROTO\u001b[0m\u001b[0;34m]\u001b[0m \u001b[0;34m=\u001b[0m \u001b[0mload_proto\u001b[0m\u001b[0;34m\u001b[0m\u001b[0m\n\u001b[1;32m    894\u001b[0m \u001b[0;34m\u001b[0m\u001b[0m\n",
      "\u001b[0;31mValueError\u001b[0m: unsupported pickle protocol: 3"
     ]
    }
   ],
   "source": [
    "NB_model_v2 = pickle.load(open('../models/Naive_Bayes_v2/NB_model_v2.sav', 'rb'))\n",
    "y_pred = NB_model_v2.predict(X_test)\n",
    "print(metrics.classification_report(y_test, y_pred))"
   ]
  },
  {
   "cell_type": "code",
   "execution_count": 55,
   "metadata": {},
   "outputs": [
    {
     "name": "stdout",
     "output_type": "stream",
     "text": [
      "              precision    recall  f1-score   support\n",
      "\n",
      "   brazilian       0.07      0.15      0.09       117\n",
      "     british       0.09      0.07      0.08       201\n",
      "cajun_creole       0.89      0.22      0.36       387\n",
      "     chinese       0.67      0.15      0.24      3294\n",
      "    filipino       0.13      0.22      0.16       189\n",
      "      french       0.23      0.58      0.33      2205\n",
      "       greek       0.63      0.36      0.46      1544\n",
      "      indian       0.78      0.52      0.63      2119\n",
      "       irish       0.10      0.13      0.11       167\n",
      "     italian       0.54      0.75      0.63      4310\n",
      "    jamaican       0.64      0.23      0.34       132\n",
      "    japanese       0.16      0.42      0.23      1557\n",
      "      korean       0.55      0.09      0.15       208\n",
      "     mexican       0.75      0.49      0.59      3600\n",
      "    moroccan       0.53      0.30      0.38       206\n",
      "     russian       0.31      0.08      0.13       123\n",
      " southern_us       0.39      0.42      0.40      1080\n",
      "     spanish       0.58      0.22      0.32      1251\n",
      "        thai       0.69      0.25      0.36      1706\n",
      "  vietnamese       0.37      0.10      0.15       207\n",
      "\n",
      " avg / total       0.56      0.43      0.43     24603\n",
      "\n"
     ]
    }
   ],
   "source": [
    "NB_model_bow_v1 = pickle.load(open('../models/Naive_Bayes_bow_v1/NB_model_bow_v1.sav', 'rb'))\n",
    "y_pred = NB_model_bow_v1.predict(X_test)\n",
    "print(metrics.classification_report(y_test, y_pred))"
   ]
  },
  {
   "cell_type": "code",
   "execution_count": 56,
   "metadata": {},
   "outputs": [
    {
     "name": "stdout",
     "output_type": "stream",
     "text": [
      "              precision    recall  f1-score   support\n",
      "\n",
      "   brazilian       0.88      0.42      0.57       117\n",
      "     british       0.63      0.21      0.31       201\n",
      "cajun_creole       0.80      0.63      0.70       387\n",
      "     chinese       0.81      0.91      0.86      3294\n",
      "    filipino       0.68      0.40      0.51       189\n",
      "      french       0.58      0.54      0.56      2205\n",
      "       greek       0.86      0.80      0.83      1544\n",
      "      indian       0.90      0.75      0.82      2119\n",
      "       irish       0.71      0.38      0.50       167\n",
      "     italian       0.64      0.92      0.76      4310\n",
      "    jamaican       0.80      0.55      0.65       132\n",
      "    japanese       0.86      0.79      0.82      1557\n",
      "      korean       0.78      0.55      0.64       208\n",
      "     mexican       0.85      0.79      0.82      3600\n",
      "    moroccan       0.81      0.61      0.70       206\n",
      "     russian       0.67      0.30      0.42       123\n",
      " southern_us       0.73      0.69      0.71      1080\n",
      "     spanish       0.78      0.63      0.70      1251\n",
      "        thai       0.81      0.69      0.75      1706\n",
      "  vietnamese       0.64      0.29      0.40       207\n",
      "\n",
      " avg / total       0.77      0.76      0.75     24603\n",
      "\n"
     ]
    }
   ],
   "source": [
    "LogReg_v1 = pickle.load(open('../models/Log_Reg_v1/LogReg_v1.sav', 'rb'))\n",
    "y_pred = LogReg_v1.predict(X_test)\n",
    "print(metrics.classification_report(y_test, y_pred))"
   ]
  },
  {
   "cell_type": "code",
   "execution_count": 57,
   "metadata": {},
   "outputs": [
    {
     "name": "stdout",
     "output_type": "stream",
     "text": [
      "              precision    recall  f1-score   support\n",
      "\n",
      "   brazilian       0.90      0.22      0.36       117\n",
      "     british       0.53      0.09      0.15       201\n",
      "cajun_creole       0.69      0.36      0.47       387\n",
      "     chinese       0.57      0.75      0.64      3294\n",
      "    filipino       0.53      0.14      0.22       189\n",
      "      french       0.40      0.42      0.41      2205\n",
      "       greek       0.62      0.46      0.53      1544\n",
      "      indian       0.79      0.61      0.69      2119\n",
      "       irish       0.56      0.17      0.26       167\n",
      "     italian       0.48      0.82      0.60      4310\n",
      "    jamaican       0.73      0.41      0.52       132\n",
      "    japanese       0.61      0.30      0.40      1557\n",
      "      korean       0.69      0.24      0.35       208\n",
      "     mexican       0.70      0.69      0.70      3600\n",
      "    moroccan       0.69      0.35      0.46       206\n",
      "     russian       0.69      0.16      0.26       123\n",
      " southern_us       0.57      0.41      0.48      1080\n",
      "     spanish       0.49      0.26      0.34      1251\n",
      "        thai       0.57      0.43      0.49      1706\n",
      "  vietnamese       0.66      0.09      0.16       207\n",
      "\n",
      " avg / total       0.58      0.56      0.55     24603\n",
      "\n"
     ]
    }
   ],
   "source": [
    "LogReg_v2 = pickle.load(open('../models/Log_Reg_v1/LogReg_v2.sav', 'rb'))\n",
    "y_pred = LogReg_v2.predict(X_test)\n",
    "print(metrics.classification_report(y_test, y_pred))"
   ]
  },
  {
   "cell_type": "markdown",
   "metadata": {},
   "source": [
    "### Logistic Regression v4\n",
    "##### Text Preprocessing\n",
    "Remove nums and stopwords\n",
    "##### CountVectorizer\n",
    "n-gram = (1,4), min_df = 0.003, 1819 total features"
   ]
  },
  {
   "cell_type": "code",
   "execution_count": 59,
   "metadata": {},
   "outputs": [
    {
     "name": "stdout",
     "output_type": "stream",
     "text": [
      "              precision    recall  f1-score   support\n",
      "\n",
      "   brazilian       0.70      0.38      0.49       117\n",
      "     british       0.46      0.22      0.30       201\n",
      "cajun_creole       0.78      0.63      0.70       387\n",
      "     chinese       0.79      0.92      0.85      3294\n",
      "    filipino       0.70      0.38      0.49       189\n",
      "      french       0.59      0.38      0.46      2205\n",
      "       greek       0.90      0.82      0.86      1544\n",
      "      indian       0.92      0.90      0.91      2119\n",
      "       irish       0.63      0.35      0.45       167\n",
      "     italian       0.69      0.98      0.81      4310\n",
      "    jamaican       0.77      0.58      0.66       132\n",
      "    japanese       0.89      0.80      0.84      1557\n",
      "      korean       0.81      0.61      0.69       208\n",
      "     mexican       0.89      0.91      0.90      3600\n",
      "    moroccan       0.86      0.60      0.70       206\n",
      "     russian       0.67      0.29      0.41       123\n",
      " southern_us       0.73      0.63      0.67      1080\n",
      "     spanish       0.83      0.66      0.74      1251\n",
      "        thai       0.84      0.73      0.79      1706\n",
      "  vietnamese       0.63      0.35      0.45       207\n",
      "\n",
      " avg / total       0.79      0.79      0.78     24603\n",
      "\n"
     ]
    }
   ],
   "source": [
    "LogReg_ngram = pickle.load(open('../models/Log_Reg_v1/LogReg_ngram.sav', 'rb'))\n",
    "y_pred = LogReg_ngram.predict(X_test_bow)\n",
    "print(metrics.classification_report(y_test_bow, y_pred))"
   ]
  },
  {
   "cell_type": "markdown",
   "metadata": {},
   "source": [
    "### Logistic Regression v5\n",
    "##### Text Preprocessing\n",
    "Remove nums and stopwords\n",
    "##### CountVectorizer\n",
    "n-gram = (1,4), min_df = 0.003, 1819 total features"
   ]
  },
  {
   "cell_type": "code",
   "execution_count": 64,
   "metadata": {},
   "outputs": [
    {
     "name": "stdout",
     "output_type": "stream",
     "text": [
      "              precision    recall  f1-score   support\n",
      "\n",
      "   brazilian       0.77      0.50      0.60       117\n",
      "     british       0.66      0.28      0.40       201\n",
      "cajun_creole       0.80      0.64      0.71       387\n",
      "     chinese       0.85      0.95      0.90      3294\n",
      "    filipino       0.74      0.39      0.51       189\n",
      "      french       0.68      0.49      0.57      2205\n",
      "       greek       0.92      0.82      0.87      1544\n",
      "      indian       0.93      0.96      0.94      2119\n",
      "       irish       0.63      0.43      0.51       167\n",
      "     italian       0.73      0.99      0.84      4310\n",
      "    jamaican       0.85      0.61      0.71       132\n",
      "    japanese       0.89      0.82      0.85      1557\n",
      "      korean       0.83      0.67      0.74       208\n",
      "     mexican       0.91      0.95      0.93      3600\n",
      "    moroccan       0.87      0.67      0.75       206\n",
      "     russian       0.71      0.32      0.44       123\n",
      " southern_us       0.78      0.71      0.75      1080\n",
      "     spanish       0.85      0.68      0.76      1251\n",
      "        thai       0.87      0.75      0.80      1706\n",
      "  vietnamese       0.69      0.36      0.48       207\n",
      "\n",
      " avg / total       0.83      0.83      0.82     24603\n",
      "\n"
     ]
    }
   ],
   "source": [
    "LogReg_v5 = pickle.load(open('../models/Log_Reg_v1/LogReg_v5.sav', 'rb'))\n",
    "y_pred = LogReg_v5.predict(X_test_bow)\n",
    "print(metrics.classification_report(y_test_bow, y_pred))"
   ]
  },
  {
   "cell_type": "code",
   "execution_count": null,
   "metadata": {},
   "outputs": [],
   "source": []
  },
  {
   "cell_type": "code",
   "execution_count": null,
   "metadata": {},
   "outputs": [],
   "source": []
  },
  {
   "cell_type": "code",
   "execution_count": null,
   "metadata": {},
   "outputs": [],
   "source": []
  }
 ],
 "metadata": {
  "kernelspec": {
   "display_name": "Python 2",
   "language": "python",
   "name": "python2"
  },
  "language_info": {
   "codemirror_mode": {
    "name": "ipython",
    "version": 2
   },
   "file_extension": ".py",
   "mimetype": "text/x-python",
   "name": "python",
   "nbconvert_exporter": "python",
   "pygments_lexer": "ipython2",
   "version": "2.7.16"
  }
 },
 "nbformat": 4,
 "nbformat_minor": 2
}
