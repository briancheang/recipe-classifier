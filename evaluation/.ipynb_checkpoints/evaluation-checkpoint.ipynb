{
 "cells": [
  {
   "cell_type": "code",
   "execution_count": 1,
   "metadata": {},
   "outputs": [],
   "source": [
    "import pickle\n",
    "import flask\n",
    "import json\n",
    "import numpy as np\n",
    "import pandas as pd\n",
    "from numpy import linalg as LA\n",
    "%matplotlib inline\n",
    "import matplotlib.pyplot as plt\n",
    "\n",
    "from sklearn import metrics"
   ]
  },
  {
   "cell_type": "code",
   "execution_count": 2,
   "metadata": {},
   "outputs": [],
   "source": [
    "train_df_bow = pd.read_json('../data/train/trainText-75-25-bow.json', lines=True)\n",
    "test_df_bow = pd.read_json('../data/test/testText-75-25-bow.json', lines=True)"
   ]
  },
  {
   "cell_type": "code",
   "execution_count": 3,
   "metadata": {},
   "outputs": [],
   "source": [
    "X_test_bow = list(test_df_bow['recipe'])\n",
    "y_test_bow = list(test_df_bow['cuisine'])"
   ]
  },
  {
   "cell_type": "code",
   "execution_count": 4,
   "metadata": {},
   "outputs": [],
   "source": [
    "#loading\n",
    "j_sim_matrix = np.load('j_matrix.npy')\n",
    "gj_sim_matrix = np.load('gj_matrix.npy')\n",
    "cos_sim_matrix = np.load('cos_matrix.npy')\n",
    "comb_sim_matrix = np.load('comb_matrix.npy')\n",
    "\n",
    "with open('cuis_invidx.json') as json_file:  \n",
    "    cuis_invidx = json.load(json_file)\n",
    "    \n",
    "n_cuisines = len(cuis_invidx)\n",
    "cuisine_types = sorted(list(cuis_invidx.keys()))"
   ]
  },
  {
   "cell_type": "code",
   "execution_count": 5,
   "metadata": {},
   "outputs": [],
   "source": [
    "# EVALUATION\n",
    "def eval(proba, test, sim_matrix, sim_cutoff):\n",
    "    eval_scores = []\n",
    "    eval_list = np.zeros(n_cuisines)\n",
    "    counter_list = np.zeros(n_cuisines)\n",
    "    for r in range(len(test)):\n",
    "        score = 0\n",
    "        actual = test[r]\n",
    "        for c in range(n_cuisines):\n",
    "            predicted = cuisine_types[c]\n",
    "            similarity = sim_matrix[cuis_invidx[predicted], cuis_invidx[actual]]\n",
    "            if similarity == 0.0:\n",
    "                similarity = 1.0\n",
    "            if similarity >= sim_cutoff:\n",
    "                score += similarity*(proba[r,c])\n",
    "        eval_list[cuis_invidx[actual]] += score\n",
    "        counter_list[cuis_invidx[actual]] += 1\n",
    "        eval_scores.append(score)\n",
    "    for i in range(len(eval_list)):\n",
    "        accuracy_list = np.divide(eval_list, counter_list)\n",
    "    accuracy = sum(eval_scores) / len(eval_scores)\n",
    "    return accuracy_list,accuracy"
   ]
  },
  {
   "cell_type": "markdown",
   "metadata": {},
   "source": [
    "### Logistic Regression v5\n",
    "##### Text Preprocessing\n",
    "Remove nums and stopwords\n",
    "##### CountVectorizer\n",
    "n-gram = (1,4), min_df = 0.003, 1819 total features"
   ]
  },
  {
   "cell_type": "code",
   "execution_count": 6,
   "metadata": {},
   "outputs": [
    {
     "name": "stdout",
     "output_type": "stream",
     "text": [
      "Average Similarity (Jaccard): 0.4063027075009613\n",
      "Average Similarity (Gen. Jaccard): 0.2884964682760036\n",
      "Average Similarity (Cosine Sim): 0.630361806153726\n",
      "Average Similarity (Combined): 0.44172032731023025\n"
     ]
    }
   ],
   "source": [
    "avg_sim_j = j_sim_matrix.sum()/(n_cuisines**2-n_cuisines)\n",
    "avg_sim_gj = gj_sim_matrix.sum()/(n_cuisines**2-n_cuisines)\n",
    "avg_sim_cos = cos_sim_matrix.sum()/(n_cuisines**2-n_cuisines)\n",
    "avg_sim_comb = comb_sim_matrix.sum()/(n_cuisines**2-n_cuisines)\n",
    "print(\"Average Similarity (Jaccard): \" + str(avg_sim_j))\n",
    "print(\"Average Similarity (Gen. Jaccard): \" + str(avg_sim_gj))\n",
    "print(\"Average Similarity (Cosine Sim): \" + str(avg_sim_cos))\n",
    "print(\"Average Similarity (Combined): \" + str(avg_sim_comb))\n",
    "  \n",
    "def evaluation(proba):\n",
    "    print('\\t\\tJaccard\\t\\tGen. Jaccard\\tCosine Sim\\tCombined Sim')\n",
    "    print('------------------------------------------------------------------------------')\n",
    "    for c in cuisine_types:\n",
    "        j = str(round(eval(proba, y_test_bow, j_sim_matrix, avg_sim_j)[0][cuis_invidx[c]]*100,2)) + \"%\"\n",
    "        gj = str(round(eval(proba, y_test_bow, gj_sim_matrix, avg_sim_gj)[0][cuis_invidx[c]]*100,2)) + \"%\"\n",
    "        cos = str(round(eval(proba, y_test_bow, cos_sim_matrix, avg_sim_cos)[0][cuis_invidx[c]]*100,2)) + \"%\"\n",
    "        comb = str(round(eval(proba, y_test_bow, comb_sim_matrix, avg_sim_comb)[0][cuis_invidx[c]]*100,2)) + \"%\"\n",
    "        if len(c) < 7:\n",
    "            print(c + ':\\t\\t' + j + '\\t\\t' + gj + '\\t\\t' + cos + '\\t\\t' + comb)\n",
    "        else:\n",
    "            print(c + ':\\t' + j + '\\t\\t' + gj + '\\t\\t' + cos + '\\t\\t' + comb)\n",
    "    \n",
    "    print('cajun_creole:\\t' + '23.58%' + '\\t\\t' + '23.58%' + '\\t\\t' + '23.58%' + '\\t\\t' + '23.58%')\n",
    "    print('------------------------------------------------------------------------------')\n",
    "    j = str(round(eval(proba, y_test_bow, j_sim_matrix, avg_sim_j)[1]*100,2)) + \"%\"\n",
    "    gj = str(round(eval(proba, y_test_bow, gj_sim_matrix, avg_sim_gj)[1]*100,2)) + \"%\"\n",
    "    cos = str(round(eval(proba, y_test_bow, cos_sim_matrix, avg_sim_cos)[1]*100,2)) + \"%\"\n",
    "    comb = str(round(eval(proba, y_test_bow, comb_sim_matrix, avg_sim_comb)[1]*100,2)) + \"%\"\n",
    "    print('Total' + ':\\t\\t' + j + '\\t\\t' + gj + '\\t\\t' + cos + '\\t\\t' + comb)"
   ]
  },
  {
   "cell_type": "code",
   "execution_count": 7,
   "metadata": {},
   "outputs": [
    {
     "name": "stdout",
     "output_type": "stream",
     "text": [
      "\t\tJaccard\t\tGen. Jaccard\tCosine Sim\tCombined Sim\n",
      "------------------------------------------------------------------------------\n",
      "brazilian:\t37.08%\t\t54.12%\t\t78.46%\t\t61.39%\n",
      "british:\t48.91%\t\t42.97%\t\t72.13%\t\t55.46%\n",
      "cajun_creole:\t77.0%\t\t69.72%\t\t85.64%\t\t77.33%\n",
      "chinese:\t93.69%\t\t91.14%\t\t93.66%\t\t92.29%\n",
      "filipino:\t46.41%\t\t44.73%\t\t78.15%\t\t52.07%\n",
      "french:\t\t76.52%\t\t63.77%\t\t81.62%\t\t73.47%\n",
      "greek:\t\t85.14%\t\t82.22%\t\t88.77%\t\t85.12%\n",
      "indian:\t\t95.25%\t\t91.44%\t\t92.02%\t\t93.29%\n",
      "irish:\t\t49.22%\t\t53.93%\t\t75.11%\t\t60.3%\n",
      "italian:\t96.18%\t\t94.2%\t\t95.95%\t\t95.16%\n",
      "jamaican:\t53.01%\t\t61.27%\t\t79.47%\t\t66.4%\n",
      "japanese:\t79.28%\t\t77.2%\t\t80.48%\t\t78.93%\n",
      "korean:\t\t71.03%\t\t70.7%\t\t84.24%\t\t75.32%\n",
      "mexican:\t95.69%\t\t92.36%\t\t94.16%\t\t93.83%\n",
      "moroccan:\t65.7%\t\t66.44%\t\t81.84%\t\t72.74%\n",
      "russian:\t33.41%\t\t44.03%\t\t67.62%\t\t52.11%\n",
      "southern_us:\t77.62%\t\t68.49%\t\t79.05%\t\t75.8%\n",
      "spanish:\t79.69%\t\t76.57%\t\t88.81%\t\t81.71%\n",
      "thai:\t\t82.09%\t\t74.97%\t\t80.29%\t\t78.76%\n",
      "vietnamese:\t65.23%\t\t62.13%\t\t80.0%\t\t68.92%\n",
      "cajun_creole:\t23.58%\t\t23.58%\t\t23.58%\t\t23.58%\n",
      "------------------------------------------------------------------------------\n",
      "Total:\t\t86.6%\t\t82.6%\t\t88.84%\t\t85.87%\n"
     ]
    }
   ],
   "source": [
    "LogReg_v5 = pickle.load(open('../models/Log_Reg_v1/LogReg_v5.sav', 'rb'))\n",
    "y_proba = LogReg_v5.predict_proba(X_test_bow)\n",
    "evaluation(y_proba)"
   ]
  },
  {
   "cell_type": "code",
   "execution_count": 9,
   "metadata": {},
   "outputs": [
    {
     "name": "stdout",
     "output_type": "stream",
     "text": [
      "\t\tJaccard\t\tGen. Jaccard\tCosine Sim\tCombined Sim\n",
      "------------------------------------------------------------------------------\n"
     ]
    },
    {
     "ename": "TypeError",
     "evalue": "list indices must be integers or slices, not tuple",
     "output_type": "error",
     "traceback": [
      "\u001b[0;31m---------------------------------------------------------------------------\u001b[0m",
      "\u001b[0;31mTypeError\u001b[0m                                 Traceback (most recent call last)",
      "\u001b[0;32m<ipython-input-9-247fcdd85c13>\u001b[0m in \u001b[0;36m<module>\u001b[0;34m()\u001b[0m\n\u001b[1;32m      4\u001b[0m \u001b[0;32mfor\u001b[0m \u001b[0mi\u001b[0m \u001b[0;32min\u001b[0m \u001b[0mrange\u001b[0m\u001b[0;34m(\u001b[0m\u001b[0mlen\u001b[0m\u001b[0;34m(\u001b[0m\u001b[0mX_test_bow\u001b[0m\u001b[0;34m)\u001b[0m\u001b[0;34m)\u001b[0m\u001b[0;34m:\u001b[0m\u001b[0;34m\u001b[0m\u001b[0m\n\u001b[1;32m      5\u001b[0m     \u001b[0my_proba\u001b[0m\u001b[0;34m.\u001b[0m\u001b[0mappend\u001b[0m\u001b[0;34m(\u001b[0m\u001b[0mvc\u001b[0m\u001b[0;34m)\u001b[0m\u001b[0;34m\u001b[0m\u001b[0m\n\u001b[0;32m----> 6\u001b[0;31m \u001b[0mevaluation\u001b[0m\u001b[0;34m(\u001b[0m\u001b[0my_proba\u001b[0m\u001b[0;34m)\u001b[0m\u001b[0;34m\u001b[0m\u001b[0m\n\u001b[0m",
      "\u001b[0;32m<ipython-input-6-363dafa7bb52>\u001b[0m in \u001b[0;36mevaluation\u001b[0;34m(proba)\u001b[0m\n\u001b[1;32m     12\u001b[0m     \u001b[0mprint\u001b[0m\u001b[0;34m(\u001b[0m\u001b[0;34m'------------------------------------------------------------------------------'\u001b[0m\u001b[0;34m)\u001b[0m\u001b[0;34m\u001b[0m\u001b[0m\n\u001b[1;32m     13\u001b[0m     \u001b[0;32mfor\u001b[0m \u001b[0mc\u001b[0m \u001b[0;32min\u001b[0m \u001b[0mcuisine_types\u001b[0m\u001b[0;34m:\u001b[0m\u001b[0;34m\u001b[0m\u001b[0m\n\u001b[0;32m---> 14\u001b[0;31m         \u001b[0mj\u001b[0m \u001b[0;34m=\u001b[0m \u001b[0mstr\u001b[0m\u001b[0;34m(\u001b[0m\u001b[0mround\u001b[0m\u001b[0;34m(\u001b[0m\u001b[0meval\u001b[0m\u001b[0;34m(\u001b[0m\u001b[0mproba\u001b[0m\u001b[0;34m,\u001b[0m \u001b[0my_test_bow\u001b[0m\u001b[0;34m,\u001b[0m \u001b[0mj_sim_matrix\u001b[0m\u001b[0;34m,\u001b[0m \u001b[0mavg_sim_j\u001b[0m\u001b[0;34m)\u001b[0m\u001b[0;34m[\u001b[0m\u001b[0;36m0\u001b[0m\u001b[0;34m]\u001b[0m\u001b[0;34m[\u001b[0m\u001b[0mcuis_invidx\u001b[0m\u001b[0;34m[\u001b[0m\u001b[0mc\u001b[0m\u001b[0;34m]\u001b[0m\u001b[0;34m]\u001b[0m\u001b[0;34m*\u001b[0m\u001b[0;36m100\u001b[0m\u001b[0;34m,\u001b[0m\u001b[0;36m2\u001b[0m\u001b[0;34m)\u001b[0m\u001b[0;34m)\u001b[0m \u001b[0;34m+\u001b[0m \u001b[0;34m\"%\"\u001b[0m\u001b[0;34m\u001b[0m\u001b[0m\n\u001b[0m\u001b[1;32m     15\u001b[0m         \u001b[0mgj\u001b[0m \u001b[0;34m=\u001b[0m \u001b[0mstr\u001b[0m\u001b[0;34m(\u001b[0m\u001b[0mround\u001b[0m\u001b[0;34m(\u001b[0m\u001b[0meval\u001b[0m\u001b[0;34m(\u001b[0m\u001b[0mproba\u001b[0m\u001b[0;34m,\u001b[0m \u001b[0my_test_bow\u001b[0m\u001b[0;34m,\u001b[0m \u001b[0mgj_sim_matrix\u001b[0m\u001b[0;34m,\u001b[0m \u001b[0mavg_sim_gj\u001b[0m\u001b[0;34m)\u001b[0m\u001b[0;34m[\u001b[0m\u001b[0;36m0\u001b[0m\u001b[0;34m]\u001b[0m\u001b[0;34m[\u001b[0m\u001b[0mcuis_invidx\u001b[0m\u001b[0;34m[\u001b[0m\u001b[0mc\u001b[0m\u001b[0;34m]\u001b[0m\u001b[0;34m]\u001b[0m\u001b[0;34m*\u001b[0m\u001b[0;36m100\u001b[0m\u001b[0;34m,\u001b[0m\u001b[0;36m2\u001b[0m\u001b[0;34m)\u001b[0m\u001b[0;34m)\u001b[0m \u001b[0;34m+\u001b[0m \u001b[0;34m\"%\"\u001b[0m\u001b[0;34m\u001b[0m\u001b[0m\n\u001b[1;32m     16\u001b[0m         \u001b[0mcos\u001b[0m \u001b[0;34m=\u001b[0m \u001b[0mstr\u001b[0m\u001b[0;34m(\u001b[0m\u001b[0mround\u001b[0m\u001b[0;34m(\u001b[0m\u001b[0meval\u001b[0m\u001b[0;34m(\u001b[0m\u001b[0mproba\u001b[0m\u001b[0;34m,\u001b[0m \u001b[0my_test_bow\u001b[0m\u001b[0;34m,\u001b[0m \u001b[0mcos_sim_matrix\u001b[0m\u001b[0;34m,\u001b[0m \u001b[0mavg_sim_cos\u001b[0m\u001b[0;34m)\u001b[0m\u001b[0;34m[\u001b[0m\u001b[0;36m0\u001b[0m\u001b[0;34m]\u001b[0m\u001b[0;34m[\u001b[0m\u001b[0mcuis_invidx\u001b[0m\u001b[0;34m[\u001b[0m\u001b[0mc\u001b[0m\u001b[0;34m]\u001b[0m\u001b[0;34m]\u001b[0m\u001b[0;34m*\u001b[0m\u001b[0;36m100\u001b[0m\u001b[0;34m,\u001b[0m\u001b[0;36m2\u001b[0m\u001b[0;34m)\u001b[0m\u001b[0;34m)\u001b[0m \u001b[0;34m+\u001b[0m \u001b[0;34m\"%\"\u001b[0m\u001b[0;34m\u001b[0m\u001b[0m\n",
      "\u001b[0;32m<ipython-input-5-c6d07fbaf5a7>\u001b[0m in \u001b[0;36meval\u001b[0;34m(proba, test, sim_matrix, sim_cutoff)\u001b[0m\n\u001b[1;32m     13\u001b[0m                 \u001b[0msimilarity\u001b[0m \u001b[0;34m=\u001b[0m \u001b[0;36m1.0\u001b[0m\u001b[0;34m\u001b[0m\u001b[0m\n\u001b[1;32m     14\u001b[0m             \u001b[0;32mif\u001b[0m \u001b[0msimilarity\u001b[0m \u001b[0;34m>=\u001b[0m \u001b[0msim_cutoff\u001b[0m\u001b[0;34m:\u001b[0m\u001b[0;34m\u001b[0m\u001b[0m\n\u001b[0;32m---> 15\u001b[0;31m                 \u001b[0mscore\u001b[0m \u001b[0;34m+=\u001b[0m \u001b[0msimilarity\u001b[0m\u001b[0;34m*\u001b[0m\u001b[0;34m(\u001b[0m\u001b[0mproba\u001b[0m\u001b[0;34m[\u001b[0m\u001b[0mr\u001b[0m\u001b[0;34m,\u001b[0m\u001b[0mc\u001b[0m\u001b[0;34m]\u001b[0m\u001b[0;34m)\u001b[0m\u001b[0;34m\u001b[0m\u001b[0m\n\u001b[0m\u001b[1;32m     16\u001b[0m         \u001b[0meval_list\u001b[0m\u001b[0;34m[\u001b[0m\u001b[0mcuis_invidx\u001b[0m\u001b[0;34m[\u001b[0m\u001b[0mactual\u001b[0m\u001b[0;34m]\u001b[0m\u001b[0;34m]\u001b[0m \u001b[0;34m+=\u001b[0m \u001b[0mscore\u001b[0m\u001b[0;34m\u001b[0m\u001b[0m\n\u001b[1;32m     17\u001b[0m         \u001b[0mcounter_list\u001b[0m\u001b[0;34m[\u001b[0m\u001b[0mcuis_invidx\u001b[0m\u001b[0;34m[\u001b[0m\u001b[0mactual\u001b[0m\u001b[0;34m]\u001b[0m\u001b[0;34m]\u001b[0m \u001b[0;34m+=\u001b[0m \u001b[0;36m1\u001b[0m\u001b[0;34m\u001b[0m\u001b[0m\n",
      "\u001b[0;31mTypeError\u001b[0m: list indices must be integers or slices, not tuple"
     ]
    }
   ],
   "source": [
    "y_proba = []\n",
    "vc = [350,603,1159,9881,566,6614,4629,6354,500,12929,394,4670,622,10798,615,366,3240,3752,5115,618]\n",
    "vc = [x/73775 for x in vc]\n",
    "for i in range(len(X_test_bow)):\n",
    "    y_proba.append(vc)\n",
    "evaluation(y_proba)"
   ]
  },
  {
   "cell_type": "code",
   "execution_count": null,
   "metadata": {},
   "outputs": [],
   "source": []
  }
 ],
 "metadata": {
  "kernelspec": {
   "display_name": "Python 3",
   "language": "python",
   "name": "python3"
  },
  "language_info": {
   "codemirror_mode": {
    "name": "ipython",
    "version": 3
   },
   "file_extension": ".py",
   "mimetype": "text/x-python",
   "name": "python",
   "nbconvert_exporter": "python",
   "pygments_lexer": "ipython3",
   "version": "3.6.5"
  }
 },
 "nbformat": 4,
 "nbformat_minor": 2
}
