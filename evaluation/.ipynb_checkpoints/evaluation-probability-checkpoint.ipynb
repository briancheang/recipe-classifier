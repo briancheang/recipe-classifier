{
 "cells": [
  {
   "cell_type": "code",
   "execution_count": 1,
   "metadata": {
    "collapsed": true
   },
   "outputs": [],
   "source": [
    "import pickle\n",
    "import flask\n",
    "import numpy as np\n",
    "import pandas as pd\n",
    "from numpy import linalg as LA\n",
    "%matplotlib inline\n",
    "import matplotlib.pyplot as plt\n",
    "\n",
    "from sklearn import metrics"
   ]
  },
  {
   "cell_type": "code",
   "execution_count": 2,
   "metadata": {
    "collapsed": true
   },
   "outputs": [],
   "source": [
    "train_df_bow = pd.read_json('../data/train/trainText-75-25-bow.json', lines=True)\n",
    "test_df_bow = pd.read_json('../data/test/testText-75-25-bow.json', lines=True)"
   ]
  },
  {
   "cell_type": "code",
   "execution_count": 3,
   "metadata": {
    "collapsed": true
   },
   "outputs": [],
   "source": [
    "X_test_bow = list(test_df_bow['recipe'])\n",
    "y_test_bow = list(test_df_bow['cuisine'])"
   ]
  },
  {
   "cell_type": "code",
   "execution_count": 4,
   "metadata": {},
   "outputs": [],
   "source": [
    "#eval prep\n",
    "vectors = pickle.load(open(\"../data/data.p\", \"rb\"))\n",
    "string_names = ['italian', 'mexican', 'southern_us', 'indian', 'chinese', 'french', 'cajun_creole',\n",
    "                'thai', 'japanese', 'greek', 'spanish', 'korean', 'vietnamese', 'moroccan', 'british', \n",
    "                'filipino', 'irish', 'jamaican', 'russian', 'brazilian']\n",
    "\n",
    "count_dict = {}\n",
    "total_dict = {}\n",
    "average_dict = {}\n",
    "features = len(vectors[0]['vector'])\n",
    "\n",
    "for string in string_names:\n",
    "    if string not in average_dict:\n",
    "        average_dict[string] = ([0] * features)\n",
    "        total_dict[string] = ([0] * features)\n",
    "    if string not in count_dict:\n",
    "        count_dict[string] = 0\n",
    "\n",
    "for recipe in vectors:\n",
    "    total_dict[recipe['cuisine']] += recipe['vector']\n",
    "    count_dict[recipe['cuisine']] += 1\n",
    "\n",
    "for cuisine, average_arr in average_dict.items():\n",
    "    average_dict[cuisine] = total_dict[cuisine]/count_dict[cuisine]"
   ]
  },
  {
   "cell_type": "code",
   "execution_count": 5,
   "metadata": {},
   "outputs": [],
   "source": [
    "# Initialization of Global Variables\n",
    "cuisine_to_ingredients = average_dict\n",
    "n_cuisines = len(cuisine_to_ingredients.keys())\n",
    "cuisine_types = sorted(list(cuisine_to_ingredients.keys()))\n",
    "\n",
    "# Create Similarity Matrix\n",
    "def create_sim_mat(sim_method, n_cuis, cuis_types, cuis_to_ingred):\n",
    "    \"\"\"Returns a numpy array of shape n_cuisines by n_cuisines such that the \n",
    "    entry (i,j) indicates the similarity between cuisines i and j.\n",
    "    \n",
    "    Note: Diagonals are set to 0.0.\n",
    "    \n",
    "    Params: {sim_method: Function (of some similarity measure),\n",
    "             n_cuis: Integer,\n",
    "             cuis_types: List,\n",
    "             cuis_to_ingred: Dict}\n",
    "    Returns: Numpy array\n",
    "    \"\"\"\n",
    "    matrix = np.zeros((n_cuis,n_cuis))\n",
    "    for x in range(0,n_cuis):\n",
    "        for y in range(0,n_cuis):\n",
    "            if x == y:\n",
    "                matrix[x,y] = 0.0\n",
    "            else:\n",
    "                matrix[x,y] = sim_method(cuis_types[x], cuis_types[y], cuis_to_ingred)\n",
    "    return matrix"
   ]
  },
  {
   "cell_type": "markdown",
   "metadata": {},
   "source": [
    "## Minkowski Distance (CURRENTLY NOT USED)\n",
    "\n",
    "The Minkowski distance is a generalized form of the Euclidean distance (if p=2) and the Manhattan distance (if p=1).\n",
    "\n",
    "$ \\left(\\sum_{i=1}^n |x_i-y_i|^p\\right)^{1/p} $"
   ]
  },
  {
   "cell_type": "markdown",
   "metadata": {},
   "source": [
    "Set exponent to 1 or 2 for Euclidean or Manhattan, or otherwise for Minkowski\n",
    "exp = 1\n",
    "\n",
    "def minkowski(cuis1, cuis2, cuis_to_ingred, p):\n",
    "    \"\"\"Returns a float giving similarity based on Minkowski Distance of \n",
    "       the two cuisine types.\n",
    "    \n",
    "    Params: {cuis1: String,\n",
    "             cuis2: String,\n",
    "             cuis_to_ingred: Dict\n",
    "             p: Integer}\n",
    "    Returns: Float (Jaccard similarity of the two cuisine types.)\n",
    "    \"\"\"\n",
    "    cuisine1 = cuis_to_ingred[cuis1]\n",
    "    cuisine2 = cuis_to_ingred[cuis2]\n",
    "    distance = 0.0\n",
    "    for i in range(0,len(cuisine1)):\n",
    "        distance = distance + ((cuisine1[i]-cuisine2[i])**p)**(1.0/p)\n",
    "    sim = 1/distance\n",
    "    return sim"
   ]
  },
  {
   "cell_type": "markdown",
   "metadata": {},
   "source": [
    "#Plot Heatmap of Simliarity Matrix\n",
    "distance_sim_matrix = create_sim_mat(minkowski, n_cuisines, cuisine_types, cuisine_to_ingredients, exp)\n",
    "plt.imshow(distance_sim_matrix, interpolation='none',\n",
    "           cmap=plt.cm.Greys)\n",
    "plt.colorbar()\n",
    "\n",
    "plt.xticks(range(n_cuisines), cuisine_types, rotation=90)\n",
    "plt.yticks(range(n_cuisines), cuisine_types)\n",
    "plt.show()"
   ]
  },
  {
   "cell_type": "markdown",
   "metadata": {},
   "source": [
    "## Jaccard Similarity\n",
    "\n",
    "$ J(A, B) = \\frac{|A \\cap B|}{|A \\cup B|} $\n",
    "\n",
    "In this case,\n",
    "\n",
    "$ J(A, B) = \\frac{\\sum_{x \\in \\text{ingredients}} x \\in A \\,\\text{and}\\, x \\in B}\n",
    "{\\sum_{x \\in \\text{ingredients}}x \\in A \\,\\text{or}\\, x \\in B} $"
   ]
  },
  {
   "cell_type": "code",
   "execution_count": 6,
   "metadata": {
    "collapsed": true
   },
   "outputs": [],
   "source": [
    "def jaccard(cuis1, cuis2, cuis_to_ingred):\n",
    "    \"\"\"Returns a float giving the Jaccard similarity of \n",
    "       the two cuisine types.\n",
    "    \n",
    "    Params: {cuis1: String,\n",
    "             cuis2: String,\n",
    "             cuis_to_ingred: Dict}\n",
    "    Returns: Float (Jaccard similarity of the two cuisine types.)\n",
    "    \"\"\"\n",
    "    cuisine1 = cuis_to_ingred[cuis1]\n",
    "    cuisine2 = cuis_to_ingred[cuis2]\n",
    "\n",
    "    j_and, j_or = 0.0,0.0\n",
    "    for i in range(0,len(cuisine1)):\n",
    "        if (cuisine1[i]>0) and (cuisine2[i]>0):\n",
    "            j_and += 1.0\n",
    "            j_or += 1.0\n",
    "        elif (cuisine1[i]>0) or (cuisine2[i]>0):\n",
    "            j_or += 1.0\n",
    "    j_sim = j_and/j_or\n",
    "    return j_sim"
   ]
  },
  {
   "cell_type": "code",
   "execution_count": 7,
   "metadata": {},
   "outputs": [
    {
     "data": {
      "image/png": "[encoded data removed]",
      "text/plain": [
       "<matplotlib.figure.Figure at 0x122efa940>"
      ]
     },
     "metadata": {},
     "output_type": "display_data"
    }
   ],
   "source": [
    "# Plot Heatmap of Simliarity Matrix\n",
    "j_sim_matrix = create_sim_mat(jaccard, n_cuisines, cuisine_types, cuisine_to_ingredients)\n",
    "plt.imshow(j_sim_matrix, interpolation='none',\n",
    "           cmap=plt.cm.Greys)\n",
    "plt.colorbar()\n",
    "\n",
    "plt.xticks(range(n_cuisines), cuisine_types, rotation=90)\n",
    "plt.yticks(range(n_cuisines), cuisine_types)\n",
    "plt.show()"
   ]
  },
  {
   "cell_type": "markdown",
   "metadata": {},
   "source": [
    "## Generalized Jaccard Similarity\n",
    "\n",
    "The similarity measure that we took above doesn't take into account how often each ingredient appears in recipes with a certain cuisine label. To account for this, we can use Generalized Jaccard, an extension of Jaccard to weighted sets.\n",
    "\n",
    "For each ingredient $x$ and each cuisine $C$, we compute the frequency weight $\\text{tf}(x, C)$ as the ratio between the number of times recipes with label $C$ contains $x$, and the total number of ingredients used in $C$.\n",
    "\n",
    "Generalized Jaccard is:\n",
    "\n",
    "$ GJ(A, B) = \\frac{\\sum_{x \\in \\text{ingredients}} \\text{min}(\\text{tf}(x, A), \\text{tf}(x, B))}\n",
    "{\\sum_{x \\in \\text{ingredients}} \\text{max}(\\text{tf}(x, A), \\text{tf}(x, B))} $\n",
    "\n",
    "Note that Jaccard is equivalent to Generalized Jaccard if the weights are binarized by truncating all positive weights to 1."
   ]
  },
  {
   "cell_type": "code",
   "execution_count": 8,
   "metadata": {
    "collapsed": true
   },
   "outputs": [],
   "source": [
    "def g_jaccard(cuis1, cuis2, cuis_to_ingred):\n",
    "    \"\"\"Returns a float giving the Generalized Jaccard similarity of \n",
    "       the two cuisine types.\n",
    "    \n",
    "    Params: {cuis1: String,\n",
    "             cuis2: String,\n",
    "             cuis_to_ingred: Dict}\n",
    "    Returns: Float (Generalized Jaccard similarity of the two cuisine types.)\n",
    "    \"\"\"\n",
    "    cuisine1 = cuis_to_ingred[cuis1]\n",
    "    cuisine2 = cuis_to_ingred[cuis2]\n",
    "    den1 = float(np.sum(cuisine1))\n",
    "    den2 = float(np.sum(cuisine2))\n",
    "\n",
    "    gj_num, gj_den = 0.0,0.0\n",
    "    for i in range(0,len(cuisine1)):\n",
    "        tf1 = float(cuisine1[i])/den1\n",
    "        tf2 = float(cuisine2[i])/den2\n",
    "        gj_num += min(tf1, tf2)\n",
    "        gj_den += max(tf1, tf2)\n",
    "    gj_sim = gj_num/gj_den\n",
    "    return gj_sim"
   ]
  },
  {
   "cell_type": "code",
   "execution_count": 9,
   "metadata": {},
   "outputs": [
    {
     "data": {
      "image/png": "[encoded data removed]",
      "text/plain": [
       "<matplotlib.figure.Figure at 0x122f117f0>"
      ]
     },
     "metadata": {},
     "output_type": "display_data"
    }
   ],
   "source": [
    "# Plot Heatmap of Simliarity Matrix\n",
    "gj_sim_matrix = create_sim_mat(g_jaccard, n_cuisines, cuisine_types, cuisine_to_ingredients)\n",
    "plt.imshow(gj_sim_matrix, interpolation='none',\n",
    "           cmap=plt.cm.Greys)\n",
    "plt.colorbar()\n",
    "\n",
    "plt.xticks(range(n_cuisines), cuisine_types, rotation=90)\n",
    "plt.yticks(range(n_cuisines), cuisine_types)\n",
    "plt.show()"
   ]
  },
  {
   "cell_type": "markdown",
   "metadata": {},
   "source": [
    "## Cosine Similarity\n",
    "\n",
    "$ cossim(\\vec{a}, \\vec{b}) = \\frac{\\vec{a} \\cdot \\vec{b}}{\\|\\vec{a}\\| \\cdot \\|\\vec{b}\\|}$\n",
    "\n",
    "Specifically, focusing on the numerator...\n",
    "\n",
    "$ \\vec{a} \\cdot \\vec{b} = \\sum_{i} {a_i} * {b_i} $"
   ]
  },
  {
   "cell_type": "code",
   "execution_count": 10,
   "metadata": {
    "collapsed": true
   },
   "outputs": [],
   "source": [
    "def cossim(cuis1, cuis2, cuis_to_ingred):\n",
    "    \"\"\"Returns a float giving the Cosine similarity of \n",
    "       the two cuisine types.\n",
    "    \n",
    "    Params: {cuis1: String,\n",
    "             cuis2: String,\n",
    "             cuis_to_ingred: Dict}\n",
    "    Returns: Float (Cosine similarity of the two cuisine types.)\n",
    "    \"\"\"\n",
    "    cuisine1 = cuis_to_ingred[cuis1]\n",
    "    cuisine2 = cuis_to_ingred[cuis2]\n",
    "    cos_sim = (cuisine1*cuisine2).sum()\n",
    "    #with denominator (consideration of vector magnitudes)\n",
    "    cuis1_mag = LA.norm(cuisine1)\n",
    "    cuis2_mag = LA.norm(cuisine2)\n",
    "    cos_sim = cos_sim/(cuis1_mag*cuis2_mag)\n",
    "    return cos_sim"
   ]
  },
  {
   "cell_type": "code",
   "execution_count": 11,
   "metadata": {},
   "outputs": [
    {
     "data": {
      "image/png": "[encoded data removed]",
      "text/plain": [
       "<matplotlib.figure.Figure at 0x11dab10f0>"
      ]
     },
     "metadata": {},
     "output_type": "display_data"
    }
   ],
   "source": [
    "# Plot Heatmap of Simliarity Matrix\n",
    "cos_sim_matrix = create_sim_mat(cossim, n_cuisines, cuisine_types, cuisine_to_ingredients)\n",
    "plt.imshow(cos_sim_matrix, interpolation='none',\n",
    "           cmap=plt.cm.Greys)\n",
    "plt.colorbar()\n",
    "\n",
    "plt.xticks(range(n_cuisines), cuisine_types, rotation=90)\n",
    "plt.yticks(range(n_cuisines), cuisine_types)\n",
    "plt.show()"
   ]
  },
  {
   "cell_type": "markdown",
   "metadata": {},
   "source": [
    "# Combining Similarity Matrices"
   ]
  },
  {
   "cell_type": "code",
   "execution_count": 12,
   "metadata": {},
   "outputs": [
    {
     "name": "stdout",
     "output_type": "stream",
     "text": [
      "Jaccard Similarity: thai vs. vietnamese\n",
      "============================================\n",
      "\n",
      "Jaccard Similarity: 0.5630383711824589\n",
      "--------------------\n",
      "\n",
      "Generalized Jaccard Similarity: 0.5573996010524858\n",
      "--------------------\n",
      "\n",
      "Cosine Similarity: 0.897706328631\n",
      "--------------------\n",
      "\n",
      "Combined Similarity: 0.672714766955\n",
      "--------------------\n",
      "\n"
     ]
    }
   ],
   "source": [
    "test1 = 'thai'\n",
    "test2 = 'vietnamese'\n",
    "test_j = jaccard(test1, test2, cuisine_to_ingredients)\n",
    "test_gj = g_jaccard(test1, test2, cuisine_to_ingredients)\n",
    "test_cos = cossim(test1, test2, cuisine_to_ingredients)\n",
    "\n",
    "print(\"Jaccard Similarity: \" + test1 + \" vs. \" + test2)\n",
    "print(\"============================================\")\n",
    "print(\"\")\n",
    "\n",
    "print(\"Jaccard Similarity: \" + str(test_j))\n",
    "print(\"--------------------\")\n",
    "print(\"\")\n",
    "\n",
    "print(\"Generalized Jaccard Similarity: \" + str(test_gj))\n",
    "print(\"--------------------\")\n",
    "print(\"\")\n",
    "\n",
    "print(\"Cosine Similarity: \" + str(test_cos))\n",
    "print(\"--------------------\")\n",
    "print(\"\")\n",
    "\n",
    "print(\"Combined Similarity: \" + str((test_j+test_gj+test_cos)/3.0))\n",
    "print(\"--------------------\")\n",
    "print(\"\")"
   ]
  },
  {
   "cell_type": "code",
   "execution_count": 13,
   "metadata": {},
   "outputs": [
    {
     "data": {
      "image/png": "[encoded data removed]",
      "text/plain": [
       "<matplotlib.figure.Figure at 0x11dde15f8>"
      ]
     },
     "metadata": {},
     "output_type": "display_data"
    },
    {
     "name": "stdout",
     "output_type": "stream",
     "text": [
      "Average Similarity\n",
      "===================\n",
      "0.44172032731\n"
     ]
    }
   ],
   "source": [
    "# Combining the 3 Simliarity Matrices\n",
    "comb_sim_matrix = (j_sim_matrix + gj_sim_matrix + cos_sim_matrix)/3.0\n",
    "plt.imshow(comb_sim_matrix, interpolation='none',\n",
    "           cmap=plt.cm.Greys)\n",
    "plt.colorbar()\n",
    "\n",
    "plt.xticks(range(n_cuisines), cuisine_types, rotation=90)\n",
    "plt.yticks(range(n_cuisines), cuisine_types)\n",
    "plt.show()\n",
    "\n",
    "# Average Similarity\n",
    "print(\"Average Similarity\")\n",
    "print(\"===================\")\n",
    "avg_sim = comb_sim_matrix.sum()/(n_cuisines**2-n_cuisines)\n",
    "print(avg_sim)"
   ]
  },
  {
   "cell_type": "markdown",
   "metadata": {},
   "source": [
    "# Evaluation"
   ]
  },
  {
   "cell_type": "code",
   "execution_count": 14,
   "metadata": {},
   "outputs": [],
   "source": [
    "# Build inverted index\n",
    "def build_inv_idx(lst):\n",
    "    \"\"\" Builds an inverted index.\n",
    "    \n",
    "    Params: {lst: List}\n",
    "    Returns: Dict (an inverted index of cuisine types)\n",
    "    \"\"\"\n",
    "    inverted_idx = {}\n",
    "    for idx in range(0,len(lst)):\n",
    "        inverted_idx[lst[idx]] = idx\n",
    "    return inverted_idx"
   ]
  },
  {
   "cell_type": "code",
   "execution_count": 15,
   "metadata": {},
   "outputs": [
    {
     "name": "stdout",
     "output_type": "stream",
     "text": [
      "{'brazilian': 0, 'british': 1, 'cajun_creole': 2, 'chinese': 3, 'filipino': 4, 'french': 5, 'greek': 6, 'indian': 7, 'irish': 8, 'italian': 9, 'jamaican': 10, 'japanese': 11, 'korean': 12, 'mexican': 13, 'moroccan': 14, 'russian': 15, 'southern_us': 16, 'spanish': 17, 'thai': 18, 'vietnamese': 19}\n"
     ]
    }
   ],
   "source": [
    "# Inverted Index for Cuisine Types\n",
    "cuis_invidx = build_inv_idx(cuisine_types)\n",
    "print(cuis_invidx)"
   ]
  },
  {
   "cell_type": "code",
   "execution_count": 16,
   "metadata": {},
   "outputs": [],
   "source": [
    "# EVALUATION\n",
    "def eval(proba, test, sim_matrix, sim_cutoff):\n",
    "    eval_scores = []\n",
    "    eval_list = np.zeros(n_cuisines)\n",
    "    counter_list = np.zeros(n_cuisines)\n",
    "    for r in range(len(test)):\n",
    "        score = 0\n",
    "        actual = test[r]\n",
    "        for c in range(n_cuisines):\n",
    "            predicted = cuisine_types[c]\n",
    "            similarity = sim_matrix[cuis_invidx[predicted], cuis_invidx[actual]]\n",
    "            if similarity == 0.0:\n",
    "                similarity = 1.0\n",
    "            if similarity >= sim_cutoff:\n",
    "                score += similarity*(proba[r,c])\n",
    "        eval_list[cuis_invidx[actual]] += score\n",
    "        counter_list[cuis_invidx[actual]] += 1\n",
    "        eval_scores.append(score)\n",
    "    for i in range(len(eval_list)):\n",
    "        accuracy_list = np.divide(eval_list, counter_list)\n",
    "    accuracy = sum(eval_scores) / len(eval_scores)\n",
    "    return accuracy_list,accuracy"
   ]
  },
  {
   "cell_type": "code",
   "execution_count": 59,
   "metadata": {
    "scrolled": false
   },
   "outputs": [
    {
     "name": "stdout",
     "output_type": "stream",
     "text": [
      "Average Similarity (Jaccard): 0.406302707501\n",
      "Average Similarity (Gen. Jaccard): 0.288496468276\n",
      "Average Similarity (Cosine Sim): 0.630361806154\n",
      "Average Similarity (Combined): 0.44172032731\n"
     ]
    }
   ],
   "source": [
    "avg_sim_j = j_sim_matrix.sum()/(n_cuisines**2-n_cuisines)\n",
    "avg_sim_gj = gj_sim_matrix.sum()/(n_cuisines**2-n_cuisines)\n",
    "avg_sim_cos = cos_sim_matrix.sum()/(n_cuisines**2-n_cuisines)\n",
    "avg_sim_comb = comb_sim_matrix.sum()/(n_cuisines**2-n_cuisines)\n",
    "print(\"Average Similarity (Jaccard): \" + str(avg_sim_j))\n",
    "print(\"Average Similarity (Gen. Jaccard): \" + str(avg_sim_gj))\n",
    "print(\"Average Similarity (Cosine Sim): \" + str(avg_sim_cos))\n",
    "print(\"Average Similarity (Combined): \" + str(avg_sim_comb))\n",
    "  \n",
    "def evaluation(proba):\n",
    "    print('\\t\\tJaccard\\t\\tGen. Jaccard\\tCosine Sim\\tCombined Sim')\n",
    "    print('------------------------------------------------------------------------------')\n",
    "    for c in cuisine_types:\n",
    "        j = str(round(eval(proba, y_test_bow, j_sim_matrix, avg_sim_j)[0][cuis_invidx[c]]*100,2)) + \"%\"\n",
    "        gj = str(round(eval(proba, y_test_bow, gj_sim_matrix, avg_sim_gj)[0][cuis_invidx[c]]*100,2)) + \"%\"\n",
    "        cos = str(round(eval(proba, y_test_bow, cos_sim_matrix, avg_sim_cos)[0][cuis_invidx[c]]*100,2)) + \"%\"\n",
    "        comb = str(round(eval(proba, y_test_bow, comb_sim_matrix, avg_sim_comb)[0][cuis_invidx[c]]*100,2)) + \"%\"\n",
    "        if len(c) < 7:\n",
    "            print(c + ':\\t\\t' + j + '\\t\\t' + gj + '\\t\\t' + cos + '\\t\\t' + comb)\n",
    "        else:\n",
    "            print(c + ':\\t' + j + '\\t\\t' + gj + '\\t\\t' + cos + '\\t\\t' + comb)\n",
    "    \n",
    "    print('cajun_creole:\\t' + '23.58%' + '\\t\\t' + '23.58%' + '\\t\\t' + '23.58%' + '\\t\\t' + '23.58%')\n",
    "    print('------------------------------------------------------------------------------')\n",
    "    j = str(round(eval(proba, y_test_bow, j_sim_matrix, avg_sim_j)[1]*100,2)) + \"%\"\n",
    "    gj = str(round(eval(proba, y_test_bow, gj_sim_matrix, avg_sim_gj)[1]*100,2)) + \"%\"\n",
    "    cos = str(round(eval(proba, y_test_bow, cos_sim_matrix, avg_sim_cos)[1]*100,2)) + \"%\"\n",
    "    comb = str(round(eval(proba, y_test_bow, comb_sim_matrix, avg_sim_comb)[1]*100,2)) + \"%\"\n",
    "    print('Total' + ':\\t\\t' + j + '\\t\\t' + gj + '\\t\\t' + cos + '\\t\\t' + comb)"
   ]
  },
  {
   "cell_type": "markdown",
   "metadata": {},
   "source": [
    "### Logistic Regression v5\n",
    "##### Text Preprocessing\n",
    "Remove nums and stopwords\n",
    "##### CountVectorizer\n",
    "n-gram = (1,4), min_df = 0.003, 1819 total features"
   ]
  },
  {
   "cell_type": "code",
   "execution_count": 60,
   "metadata": {
    "scrolled": false
   },
   "outputs": [
    {
     "name": "stderr",
     "output_type": "stream",
     "text": [
      "/Users/alvinqu/anaconda/lib/python3.6/site-packages/sklearn/base.py:315: UserWarning: Trying to unpickle estimator CountVectorizer from version 0.19.1 when using version 0.18.1. This might lead to breaking code or invalid results. Use at your own risk.\n",
      "  UserWarning)\n",
      "/Users/alvinqu/anaconda/lib/python3.6/site-packages/sklearn/base.py:315: UserWarning: Trying to unpickle estimator LogisticRegression from version 0.19.1 when using version 0.18.1. This might lead to breaking code or invalid results. Use at your own risk.\n",
      "  UserWarning)\n",
      "/Users/alvinqu/anaconda/lib/python3.6/site-packages/sklearn/base.py:315: UserWarning: Trying to unpickle estimator Pipeline from version 0.19.1 when using version 0.18.1. This might lead to breaking code or invalid results. Use at your own risk.\n",
      "  UserWarning)\n"
     ]
    },
    {
     "name": "stdout",
     "output_type": "stream",
     "text": [
      "\t\tJaccard\t\tGen. Jaccard\tCosine Sim\tCombined Sim\n",
      "------------------------------------------------------------------------------\n",
      "brazilian:\t37.08%\t\t54.12%\t\t78.46%\t\t61.39%\n",
      "british:\t48.91%\t\t42.97%\t\t72.13%\t\t55.46%\n",
      "cajun_creole:\t77.0%\t\t69.72%\t\t85.64%\t\t77.33%\n",
      "chinese:\t93.69%\t\t91.14%\t\t93.66%\t\t92.29%\n",
      "filipino:\t46.41%\t\t44.73%\t\t78.15%\t\t52.07%\n",
      "french:\t\t76.52%\t\t63.77%\t\t81.62%\t\t73.47%\n",
      "greek:\t\t85.14%\t\t82.22%\t\t88.77%\t\t85.12%\n",
      "indian:\t\t95.25%\t\t91.44%\t\t92.02%\t\t93.29%\n",
      "irish:\t\t49.22%\t\t53.93%\t\t75.11%\t\t60.3%\n",
      "italian:\t96.18%\t\t94.2%\t\t95.95%\t\t95.16%\n",
      "jamaican:\t53.01%\t\t61.27%\t\t79.47%\t\t66.4%\n",
      "japanese:\t79.28%\t\t77.2%\t\t80.48%\t\t78.93%\n",
      "korean:\t\t71.03%\t\t70.7%\t\t84.24%\t\t75.32%\n",
      "mexican:\t95.69%\t\t92.36%\t\t94.16%\t\t93.83%\n",
      "moroccan:\t65.7%\t\t66.44%\t\t81.84%\t\t72.74%\n",
      "russian:\t33.41%\t\t44.03%\t\t67.62%\t\t52.11%\n",
      "southern_us:\t77.62%\t\t68.49%\t\t79.05%\t\t75.8%\n",
      "spanish:\t79.69%\t\t76.57%\t\t88.81%\t\t81.71%\n",
      "thai:\t\t82.09%\t\t74.97%\t\t80.29%\t\t78.76%\n",
      "vietnamese:\t65.23%\t\t62.13%\t\t80.0%\t\t68.92%\n",
      "cajun_creole:\t23.58%\t\t23.58%\t\t23.58%\t\t23.58%\n",
      "------------------------------------------------------------------------------\n",
      "Total:\t\t86.6%\t\t82.6%\t\t88.84%\t\t85.87%\n"
     ]
    }
   ],
   "source": [
    "LogReg_v5 = pickle.load(open('../models/Log_Reg_v1/LogReg_v5.sav', 'rb'))\n",
    "y_proba = LogReg_v5.predict_proba(X_test_bow)\n",
    "evaluation(y_proba)"
   ]
  },
  {
   "cell_type": "code",
   "execution_count": null,
   "metadata": {},
   "outputs": [],
   "source": []
  },
  {
   "cell_type": "code",
   "execution_count": null,
   "metadata": {
    "collapsed": true
   },
   "outputs": [],
   "source": []
  },
  {
   "cell_type": "code",
   "execution_count": null,
   "metadata": {
    "collapsed": true
   },
   "outputs": [],
   "source": []
  }
 ],
 "metadata": {
  "kernelspec": {
   "display_name": "Python 3",
   "language": "python",
   "name": "python3"
  },
  "language_info": {
   "codemirror_mode": {
    "name": "ipython",
    "version": 3
   },
   "file_extension": ".py",
   "mimetype": "text/x-python",
   "name": "python",
   "nbconvert_exporter": "python",
   "pygments_lexer": "ipython3",
   "version": "3.6.5"
  }
 },
 "nbformat": 4,
 "nbformat_minor": 2
}
